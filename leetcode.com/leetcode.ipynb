{
 "cells": [
  {
   "cell_type": "markdown",
   "id": "748375bb",
   "metadata": {},
   "source": [
    "# Задачи с сайта leetcode.com\n"
   ]
  },
  {
   "cell_type": "code",
   "execution_count": 1,
   "id": "5e062fdd",
   "metadata": {
    "ExecuteTime": {
     "end_time": "2025-07-18T05:53:19.903963Z",
     "start_time": "2025-07-18T05:53:19.704756Z"
    }
   },
   "outputs": [],
   "source": [
    "import sqlite3\n",
    "\n",
    "import pandas as pd\n",
    "\n",
    "con = sqlite3.connect(\"sqlite.db\")\n",
    "cur = con.cursor()"
   ]
  },
  {
   "cell_type": "code",
   "execution_count": 2,
   "id": "c1b1d59c",
   "metadata": {
    "ExecuteTime": {
     "end_time": "2025-07-18T05:53:19.922180Z",
     "start_time": "2025-07-18T05:53:19.920070Z"
    }
   },
   "outputs": [],
   "source": [
    "def select(sql):\n",
    "    return pd.read_sql(sql, con)\n",
    "\n",
    "\n",
    "def crud(sql):\n",
    "    cur.executescript(sql)\n",
    "    con.commit()\n",
    "\n",
    "\n",
    "def execute_formatted_sqlite(sql_schema):\n",
    "    sql = \";\\n\".join(sql_schema.split(\"\\n\"))\n",
    "    crud(sql)\n"
   ]
  },
  {
   "cell_type": "markdown",
   "id": "ccdce095-a33c-43d4-bbe8-112a6f4cf075",
   "metadata": {},
   "source": [
    "### 175. Combine Two Tables (Easy)\n",
    "\n",
    "Write a solution to report the first name, last name, city, and state of each person in the Person table. If the address of a personId is not present in the Address table, report null instead.\n",
    "\n",
    "Return the result table in any order.\n"
   ]
  },
  {
   "cell_type": "code",
   "execution_count": 3,
   "id": "ffdb0cfc",
   "metadata": {
    "ExecuteTime": {
     "end_time": "2025-07-18T05:53:20.046914Z",
     "start_time": "2025-07-18T05:53:20.026802Z"
    }
   },
   "outputs": [
    {
     "name": "stdout",
     "output_type": "stream",
     "text": [
      ";\n",
      "Drop table If Exists Person;\n",
      "Create table If Not Exists Person (personId int, firstName varchar(255), lastName varchar(255));\n",
      "insert into Person (personId, lastName, firstName) values ('1', 'Wang', 'Allen');\n",
      "insert into Person (personId, lastName, firstName) values ('2', 'Alice', 'Bob');\n",
      "Drop table If Exists Address;\n",
      "Create table If Not Exists Address (addressId int, personId int, city varchar(255), state varchar(255));\n",
      "insert into Address (addressId, personId, city, state) values ('1', '2', 'New York City', 'New York');\n",
      "insert into Address (addressId, personId, city, state) values ('2', '3', 'Leetcode', 'California');\n",
      "\n"
     ]
    }
   ],
   "source": [
    "# SQLite3 не знает что такое TRUNCATE TABLE, поэтому нужно из запроса удалить эти команды.\n",
    "# Добавить PRIMARY KEY к полям Id и OR REPLACE или IGNORE к INSERT, чтобы не дублировались строки\n",
    "# при перезапуске. Или просто удалять таблици, если уже создана (DROP TABLE IF EXISTS table).\n",
    "\n",
    "sql_schema = \"\"\"\n",
    "Drop table If Exists Person\n",
    "Create table If Not Exists Person (personId int, firstName varchar(255), lastName varchar(255))\n",
    "insert into Person (personId, lastName, firstName) values ('1', 'Wang', 'Allen')\n",
    "insert into Person (personId, lastName, firstName) values ('2', 'Alice', 'Bob')\n",
    "Drop table If Exists Address\n",
    "Create table If Not Exists Address (addressId int, personId int, city varchar(255), state varchar(255))\n",
    "insert into Address (addressId, personId, city, state) values ('1', '2', 'New York City', 'New York')\n",
    "insert into Address (addressId, personId, city, state) values ('2', '3', 'Leetcode', 'California')\n",
    "\"\"\"\n",
    "\n",
    "# А так же после кажной строки поставить ';'\n",
    "sql = \";\\n\".join(sql_schema.split(\"\\n\"))\n",
    "print(sql)\n",
    "\n",
    "# Так как несколько команд, нужен executescript(), а не execute()\n",
    "cur.executescript(sql)\n",
    "\n",
    "# В SQLite3 в Python нет автокомита (в CLI есть), поэтому:\n",
    "con.commit()"
   ]
  },
  {
   "cell_type": "code",
   "execution_count": 4,
   "id": "ae0544b1",
   "metadata": {
    "ExecuteTime": {
     "end_time": "2025-07-18T05:53:20.084548Z",
     "start_time": "2025-07-18T05:53:20.077358Z"
    }
   },
   "outputs": [
    {
     "data": {
      "application/vnd.microsoft.datawrangler.viewer.v0+json": {
       "columns": [
        {
         "name": "index",
         "rawType": "int64",
         "type": "integer"
        },
        {
         "name": "firstName",
         "rawType": "object",
         "type": "string"
        },
        {
         "name": "lastName",
         "rawType": "object",
         "type": "string"
        },
        {
         "name": "city",
         "rawType": "object",
         "type": "unknown"
        },
        {
         "name": "state",
         "rawType": "object",
         "type": "unknown"
        }
       ],
       "ref": "31b2d553-155c-4a6b-a75b-44e2188d3e54",
       "rows": [
        [
         "0",
         "Allen",
         "Wang",
         null,
         null
        ],
        [
         "1",
         "Bob",
         "Alice",
         "New York City",
         "New York"
        ]
       ],
       "shape": {
        "columns": 4,
        "rows": 2
       }
      },
      "text/html": [
       "<div>\n",
       "<style scoped>\n",
       "    .dataframe tbody tr th:only-of-type {\n",
       "        vertical-align: middle;\n",
       "    }\n",
       "\n",
       "    .dataframe tbody tr th {\n",
       "        vertical-align: top;\n",
       "    }\n",
       "\n",
       "    .dataframe thead th {\n",
       "        text-align: right;\n",
       "    }\n",
       "</style>\n",
       "<table border=\"1\" class=\"dataframe\">\n",
       "  <thead>\n",
       "    <tr style=\"text-align: right;\">\n",
       "      <th></th>\n",
       "      <th>firstName</th>\n",
       "      <th>lastName</th>\n",
       "      <th>city</th>\n",
       "      <th>state</th>\n",
       "    </tr>\n",
       "  </thead>\n",
       "  <tbody>\n",
       "    <tr>\n",
       "      <th>0</th>\n",
       "      <td>Allen</td>\n",
       "      <td>Wang</td>\n",
       "      <td>None</td>\n",
       "      <td>None</td>\n",
       "    </tr>\n",
       "    <tr>\n",
       "      <th>1</th>\n",
       "      <td>Bob</td>\n",
       "      <td>Alice</td>\n",
       "      <td>New York City</td>\n",
       "      <td>New York</td>\n",
       "    </tr>\n",
       "  </tbody>\n",
       "</table>\n",
       "</div>"
      ],
      "text/plain": [
       "  firstName lastName           city     state\n",
       "0     Allen     Wang           None      None\n",
       "1       Bob    Alice  New York City  New York"
      ]
     },
     "execution_count": 4,
     "metadata": {},
     "output_type": "execute_result"
    }
   ],
   "source": [
    "sql = \"\"\"--sql\n",
    "SELECT\n",
    "    p.firstName,\n",
    "    p.lastName,\n",
    "    a.city,\n",
    "    a.state\n",
    "FROM\n",
    "    Person p\n",
    "    LEFT JOIN Address a ON p.personId = a.personId;\n",
    "\"\"\"\n",
    "select(sql)"
   ]
  },
  {
   "cell_type": "markdown",
   "id": "1384861e",
   "metadata": {},
   "source": [
    "### 176. Second Highest Salary (Med.)\n",
    "\n",
    "Write a solution to find the second highest distinct salary from the Employee table. If there is no second highest salary, return null (return None in Pandas).\n"
   ]
  },
  {
   "cell_type": "code",
   "execution_count": 5,
   "id": "d2bea34a",
   "metadata": {
    "ExecuteTime": {
     "end_time": "2025-07-18T05:53:20.229768Z",
     "start_time": "2025-07-18T05:53:20.207679Z"
    }
   },
   "outputs": [],
   "source": [
    "sql_schema = \"\"\"\n",
    "Drop table If Exists Employee\n",
    "Create table If Not Exists Employee (id int, salary int)\n",
    "insert into Employee (id, salary) values ('1', '100')\n",
    "insert into Employee (id, salary) values ('2', '200')\n",
    "insert into Employee (id, salary) values ('3', '300')\n",
    "\"\"\"\n",
    "execute_formatted_sqlite(sql_schema)"
   ]
  },
  {
   "cell_type": "code",
   "execution_count": 6,
   "id": "dbfbedfc",
   "metadata": {
    "ExecuteTime": {
     "end_time": "2025-07-18T05:53:20.359294Z",
     "start_time": "2025-07-18T05:53:20.354885Z"
    }
   },
   "outputs": [
    {
     "data": {
      "application/vnd.microsoft.datawrangler.viewer.v0+json": {
       "columns": [
        {
         "name": "index",
         "rawType": "int64",
         "type": "integer"
        },
        {
         "name": "SecondHighestSalary",
         "rawType": "int64",
         "type": "integer"
        }
       ],
       "ref": "fd88fffa-6f76-40e9-9cfa-d76cb537164a",
       "rows": [
        [
         "0",
         "200"
        ]
       ],
       "shape": {
        "columns": 1,
        "rows": 1
       }
      },
      "text/html": [
       "<div>\n",
       "<style scoped>\n",
       "    .dataframe tbody tr th:only-of-type {\n",
       "        vertical-align: middle;\n",
       "    }\n",
       "\n",
       "    .dataframe tbody tr th {\n",
       "        vertical-align: top;\n",
       "    }\n",
       "\n",
       "    .dataframe thead th {\n",
       "        text-align: right;\n",
       "    }\n",
       "</style>\n",
       "<table border=\"1\" class=\"dataframe\">\n",
       "  <thead>\n",
       "    <tr style=\"text-align: right;\">\n",
       "      <th></th>\n",
       "      <th>SecondHighestSalary</th>\n",
       "    </tr>\n",
       "  </thead>\n",
       "  <tbody>\n",
       "    <tr>\n",
       "      <th>0</th>\n",
       "      <td>200</td>\n",
       "    </tr>\n",
       "  </tbody>\n",
       "</table>\n",
       "</div>"
      ],
      "text/plain": [
       "   SecondHighestSalary\n",
       "0                  200"
      ]
     },
     "execution_count": 6,
     "metadata": {},
     "output_type": "execute_result"
    }
   ],
   "source": [
    "# Если в таблице всего одна зарплата, OFFSET 1 не находит строк — запрос не возвращает вообще ничего.\n",
    "# Вложив запрос в SELECT (...) — он вернёт строку, даже если внутри ничего не найдено.\n",
    "\n",
    "sql = \"\"\"--sql\n",
    "SELECT\n",
    "    (\n",
    "        SELECT DISTINCT\n",
    "            e.salary\n",
    "        FROM\n",
    "            Employee e\n",
    "        ORDER BY\n",
    "            e.salary DESC\n",
    "        LIMIT\n",
    "            1\n",
    "        OFFSET\n",
    "            1\n",
    "    ) AS SecondHighestSalary;\n",
    "\"\"\"\n",
    "select(sql)"
   ]
  },
  {
   "cell_type": "markdown",
   "id": "18001e77",
   "metadata": {},
   "source": [
    "### 177. Nth Highest Salary (Med.)\n",
    "\n",
    "Write a solution to find the nth highest distinct salary from the Employee table. If there are less than n distinct salaries, return null.\n"
   ]
  },
  {
   "cell_type": "code",
   "execution_count": 7,
   "id": "503b0fba",
   "metadata": {
    "ExecuteTime": {
     "end_time": "2025-07-18T05:53:20.512224Z",
     "start_time": "2025-07-18T05:53:20.497238Z"
    }
   },
   "outputs": [],
   "source": [
    "sql_schema = \"\"\"\n",
    "Drop table If Exists Employee\n",
    "Create table If Not Exists Employee (Id int, Salary int)\n",
    "insert into Employee (id, salary) values ('1', '100')\n",
    "insert into Employee (id, salary) values ('2', '200')\n",
    "insert into Employee (id, salary) values ('3', '300')\n",
    "\"\"\"\n",
    "execute_formatted_sqlite(sql_schema)"
   ]
  },
  {
   "cell_type": "code",
   "execution_count": 8,
   "id": "34b9e37f-7e8a-4844-9e97-50fdac1cc93d",
   "metadata": {
    "ExecuteTime": {
     "end_time": "2025-07-18T05:53:20.616343Z",
     "start_time": "2025-07-18T05:53:20.614759Z"
    }
   },
   "outputs": [
    {
     "data": {
      "application/vnd.microsoft.datawrangler.viewer.v0+json": {
       "columns": [
        {
         "name": "index",
         "rawType": "int64",
         "type": "integer"
        },
        {
         "name": "getNthHighestSalary(-1)",
         "rawType": "object",
         "type": "unknown"
        }
       ],
       "ref": "aab1d669-420c-4da8-862a-64a3ff374dc4",
       "rows": [
        [
         "0",
         null
        ]
       ],
       "shape": {
        "columns": 1,
        "rows": 1
       }
      },
      "text/html": [
       "<div>\n",
       "<style scoped>\n",
       "    .dataframe tbody tr th:only-of-type {\n",
       "        vertical-align: middle;\n",
       "    }\n",
       "\n",
       "    .dataframe tbody tr th {\n",
       "        vertical-align: top;\n",
       "    }\n",
       "\n",
       "    .dataframe thead th {\n",
       "        text-align: right;\n",
       "    }\n",
       "</style>\n",
       "<table border=\"1\" class=\"dataframe\">\n",
       "  <thead>\n",
       "    <tr style=\"text-align: right;\">\n",
       "      <th></th>\n",
       "      <th>getNthHighestSalary(-1)</th>\n",
       "    </tr>\n",
       "  </thead>\n",
       "  <tbody>\n",
       "    <tr>\n",
       "      <th>0</th>\n",
       "      <td>None</td>\n",
       "    </tr>\n",
       "  </tbody>\n",
       "</table>\n",
       "</div>"
      ],
      "text/plain": [
       "  getNthHighestSalary(-1)\n",
       "0                    None"
      ]
     },
     "execution_count": 8,
     "metadata": {},
     "output_type": "execute_result"
    }
   ],
   "source": [
    "# Для PostgreSQL:\n",
    "\n",
    "# CREATE\n",
    "# OR REPLACE FUNCTION NthHighestSalary (n INT) RETURNS INT AS $$ -- начало тела функции\n",
    "# SELECT\n",
    "#     CASE\n",
    "#         WHEN n < 1 THEN NULL\n",
    "#         ELSE (\n",
    "#             SELECT\n",
    "#                 Salary\n",
    "#             FROM\n",
    "#                 (\n",
    "#                     SELECT DISTINCT\n",
    "#                         e.Salary\n",
    "#                     FROM\n",
    "#                         Employee e\n",
    "#                     ORDER BY\n",
    "#                         e.Salary DESC\n",
    "#                     LIMIT\n",
    "#                         1 OFFSET n -1\n",
    "#                 ) AS result\n",
    "#         )\n",
    "#     END;\n",
    "\n",
    "# $$ LANGUAGE SQL; -- конец тела функции с указанием используемого диалекта (чистый SQL)\n",
    "\n",
    "# SELECT\n",
    "#     NthHighestSalary (2);\n",
    "\n",
    "\n",
    "# Имитация функции getNthHighestSalary для SQLite\n",
    "def getNthHighestSalary(n):\n",
    "    if n >= 1:\n",
    "        sql = f\"\"\"--sql\n",
    "        SELECT\n",
    "            (\n",
    "                SELECT DISTINCT\n",
    "                    e.Salary\n",
    "                FROM\n",
    "                    Employee e\n",
    "                ORDER BY\n",
    "                    e.Salary desc\n",
    "                LIMIT\n",
    "                    1\n",
    "                OFFSET\n",
    "                    {n - 1}\n",
    "            ) AS \"getNthHighestSalary({n})\";\n",
    "        \"\"\"\n",
    "    else:\n",
    "        sql = f\"\"\"--sql\n",
    "        SELECT\n",
    "            NULL AS \"getNthHighestSalary({n})\";\n",
    "        \"\"\"\n",
    "    return select(sql)\n",
    "\n",
    "\n",
    "getNthHighestSalary(-1)"
   ]
  },
  {
   "cell_type": "markdown",
   "id": "7d9b114a",
   "metadata": {},
   "source": [
    "### 178. Rank Scores (Med.)\n",
    "\n",
    "Write a solution to find the rank of the scores. The ranking should be calculated according to the following rules:\n",
    "\n",
    "The scores should be ranked from the highest to the lowest.\n",
    "If there is a tie between two scores, both should have the same ranking.\n",
    "After a tie, the next ranking number should be the next consecutive integer value. In other words, there should be no holes between ranks.\n",
    "Return the result table ordered by score in descending order.\n"
   ]
  },
  {
   "cell_type": "code",
   "execution_count": 9,
   "id": "e090e542",
   "metadata": {},
   "outputs": [],
   "source": [
    "sql_schema = \"\"\"\n",
    "Drop table If Exists Scores\n",
    "Create table If Not Exists Scores (id int, score DECIMAL(3,2))\n",
    "insert into Scores (id, score) values ('1', '3.5')\n",
    "insert into Scores (id, score) values ('2', '3.65')\n",
    "insert into Scores (id, score) values ('3', '4.0')\n",
    "insert into Scores (id, score) values ('4', '3.85')\n",
    "insert into Scores (id, score) values ('5', '4.0')\n",
    "insert into Scores (id, score) values ('6', '3.65')\n",
    "\"\"\"\n",
    "execute_formatted_sqlite(sql_schema)"
   ]
  },
  {
   "cell_type": "code",
   "execution_count": 10,
   "id": "d76626d4",
   "metadata": {},
   "outputs": [
    {
     "data": {
      "application/vnd.microsoft.datawrangler.viewer.v0+json": {
       "columns": [
        {
         "name": "index",
         "rawType": "int64",
         "type": "integer"
        },
        {
         "name": "score",
         "rawType": "float64",
         "type": "float"
        },
        {
         "name": "RANK",
         "rawType": "int64",
         "type": "integer"
        }
       ],
       "ref": "b39ee8cd-f679-43d1-8260-c98a47045e82",
       "rows": [
        [
         "0",
         "4.0",
         "1"
        ],
        [
         "1",
         "4.0",
         "1"
        ],
        [
         "2",
         "3.85",
         "2"
        ],
        [
         "3",
         "3.65",
         "3"
        ],
        [
         "4",
         "3.65",
         "3"
        ],
        [
         "5",
         "3.5",
         "4"
        ]
       ],
       "shape": {
        "columns": 2,
        "rows": 6
       }
      },
      "text/html": [
       "<div>\n",
       "<style scoped>\n",
       "    .dataframe tbody tr th:only-of-type {\n",
       "        vertical-align: middle;\n",
       "    }\n",
       "\n",
       "    .dataframe tbody tr th {\n",
       "        vertical-align: top;\n",
       "    }\n",
       "\n",
       "    .dataframe thead th {\n",
       "        text-align: right;\n",
       "    }\n",
       "</style>\n",
       "<table border=\"1\" class=\"dataframe\">\n",
       "  <thead>\n",
       "    <tr style=\"text-align: right;\">\n",
       "      <th></th>\n",
       "      <th>score</th>\n",
       "      <th>RANK</th>\n",
       "    </tr>\n",
       "  </thead>\n",
       "  <tbody>\n",
       "    <tr>\n",
       "      <th>0</th>\n",
       "      <td>4.00</td>\n",
       "      <td>1</td>\n",
       "    </tr>\n",
       "    <tr>\n",
       "      <th>1</th>\n",
       "      <td>4.00</td>\n",
       "      <td>1</td>\n",
       "    </tr>\n",
       "    <tr>\n",
       "      <th>2</th>\n",
       "      <td>3.85</td>\n",
       "      <td>2</td>\n",
       "    </tr>\n",
       "    <tr>\n",
       "      <th>3</th>\n",
       "      <td>3.65</td>\n",
       "      <td>3</td>\n",
       "    </tr>\n",
       "    <tr>\n",
       "      <th>4</th>\n",
       "      <td>3.65</td>\n",
       "      <td>3</td>\n",
       "    </tr>\n",
       "    <tr>\n",
       "      <th>5</th>\n",
       "      <td>3.50</td>\n",
       "      <td>4</td>\n",
       "    </tr>\n",
       "  </tbody>\n",
       "</table>\n",
       "</div>"
      ],
      "text/plain": [
       "   score  RANK\n",
       "0   4.00     1\n",
       "1   4.00     1\n",
       "2   3.85     2\n",
       "3   3.65     3\n",
       "4   3.65     3\n",
       "5   3.50     4"
      ]
     },
     "execution_count": 10,
     "metadata": {},
     "output_type": "execute_result"
    }
   ],
   "source": [
    "sql = \"\"\"--sql\n",
    "SELECT\n",
    "    s.score,\n",
    "    DENSE_RANK() OVER (\n",
    "        ORDER BY\n",
    "            s.score DESC\n",
    "    ) AS RANK\n",
    "FROM\n",
    "    Scores s;\n",
    "\"\"\"\n",
    "select(sql)"
   ]
  },
  {
   "cell_type": "markdown",
   "id": "d7cfea9a",
   "metadata": {},
   "source": [
    "### 180. Consecutive Numbers (Med.)\n",
    "\n",
    "Find all numbers that appear at least three times consecutively.\n"
   ]
  },
  {
   "cell_type": "code",
   "execution_count": 11,
   "id": "8897fa76",
   "metadata": {},
   "outputs": [],
   "source": [
    "sql_schema = \"\"\"\n",
    "Drop table If Exists Logs\n",
    "Create table If Not Exists Logs (id int, num int)\n",
    "insert into Logs (id, num) values ('1', '1')\n",
    "insert into Logs (id, num) values ('2', '1')\n",
    "insert into Logs (id, num) values ('3', '1')\n",
    "insert into Logs (id, num) values ('4', '2')\n",
    "insert into Logs (id, num) values ('5', '1')\n",
    "insert into Logs (id, num) values ('6', '2')\n",
    "insert into Logs (id, num) values ('7', '2')\n",
    "\"\"\"\n",
    "execute_formatted_sqlite(sql_schema)"
   ]
  },
  {
   "cell_type": "code",
   "execution_count": 12,
   "id": "b802ea5b",
   "metadata": {},
   "outputs": [
    {
     "data": {
      "application/vnd.microsoft.datawrangler.viewer.v0+json": {
       "columns": [
        {
         "name": "index",
         "rawType": "int64",
         "type": "integer"
        },
        {
         "name": "ConsecutiveNums",
         "rawType": "int64",
         "type": "integer"
        }
       ],
       "ref": "0986bba0-f368-496c-970f-eb2549482286",
       "rows": [
        [
         "0",
         "1"
        ]
       ],
       "shape": {
        "columns": 1,
        "rows": 1
       }
      },
      "text/html": [
       "<div>\n",
       "<style scoped>\n",
       "    .dataframe tbody tr th:only-of-type {\n",
       "        vertical-align: middle;\n",
       "    }\n",
       "\n",
       "    .dataframe tbody tr th {\n",
       "        vertical-align: top;\n",
       "    }\n",
       "\n",
       "    .dataframe thead th {\n",
       "        text-align: right;\n",
       "    }\n",
       "</style>\n",
       "<table border=\"1\" class=\"dataframe\">\n",
       "  <thead>\n",
       "    <tr style=\"text-align: right;\">\n",
       "      <th></th>\n",
       "      <th>ConsecutiveNums</th>\n",
       "    </tr>\n",
       "  </thead>\n",
       "  <tbody>\n",
       "    <tr>\n",
       "      <th>0</th>\n",
       "      <td>1</td>\n",
       "    </tr>\n",
       "  </tbody>\n",
       "</table>\n",
       "</div>"
      ],
      "text/plain": [
       "   ConsecutiveNums\n",
       "0                1"
      ]
     },
     "execution_count": 12,
     "metadata": {},
     "output_type": "execute_result"
    }
   ],
   "source": [
    "sql = \"\"\"--sql\n",
    "SELECT DISTINCT\n",
    "    t.num AS ConsecutiveNums\n",
    "FROM\n",
    "    (\n",
    "        SELECT\n",
    "            l.num,\n",
    "            LAG(l.num, 1) OVER (\n",
    "                ORDER BY\n",
    "                    id\n",
    "            ) AS prev_num,\n",
    "            LAG(l.num, 2) OVER (\n",
    "                ORDER BY\n",
    "                    id\n",
    "            ) AS sec_prev_num\n",
    "        FROM\n",
    "            Logs l\n",
    "    ) t\n",
    "WHERE\n",
    "    t.num = t.prev_num\n",
    "    AND t.num = t.sec_prev_num;\n",
    "\"\"\"\n",
    "select(sql)"
   ]
  },
  {
   "cell_type": "markdown",
   "id": "bf93d7f2",
   "metadata": {},
   "source": [
    "### 181. Employees Earning More Than Their Managers (Easy)\n",
    "\n",
    "Write a solution to find the employees who earn more than their managers.\n"
   ]
  },
  {
   "cell_type": "code",
   "execution_count": 13,
   "id": "391c5f6a",
   "metadata": {},
   "outputs": [],
   "source": [
    "sql_schema = \"\"\"\n",
    "Drop table If Exists Employee\n",
    "Create table If Not Exists Employee (id int, name varchar(255), salary int, managerId int)\n",
    "insert into Employee (id, name, salary, managerId) values ('1', 'Joe', '70000', '3')\n",
    "insert into Employee (id, name, salary, managerId) values ('2', 'Henry', '80000', '4')\n",
    "insert into Employee (id, name, salary, managerId) values ('3', 'Sam', '60000', NULL)\n",
    "insert into Employee (id, name, salary, managerId) values ('4', 'Max', '90000', NULL)\n",
    "\"\"\"\n",
    "execute_formatted_sqlite(sql_schema)"
   ]
  },
  {
   "cell_type": "code",
   "execution_count": 14,
   "id": "b33f4021",
   "metadata": {},
   "outputs": [
    {
     "data": {
      "application/vnd.microsoft.datawrangler.viewer.v0+json": {
       "columns": [
        {
         "name": "index",
         "rawType": "int64",
         "type": "integer"
        },
        {
         "name": "Employee",
         "rawType": "object",
         "type": "string"
        }
       ],
       "ref": "67f14b7f-9110-4ebc-9e2d-9e8c8fe43714",
       "rows": [
        [
         "0",
         "Joe"
        ]
       ],
       "shape": {
        "columns": 1,
        "rows": 1
       }
      },
      "text/html": [
       "<div>\n",
       "<style scoped>\n",
       "    .dataframe tbody tr th:only-of-type {\n",
       "        vertical-align: middle;\n",
       "    }\n",
       "\n",
       "    .dataframe tbody tr th {\n",
       "        vertical-align: top;\n",
       "    }\n",
       "\n",
       "    .dataframe thead th {\n",
       "        text-align: right;\n",
       "    }\n",
       "</style>\n",
       "<table border=\"1\" class=\"dataframe\">\n",
       "  <thead>\n",
       "    <tr style=\"text-align: right;\">\n",
       "      <th></th>\n",
       "      <th>Employee</th>\n",
       "    </tr>\n",
       "  </thead>\n",
       "  <tbody>\n",
       "    <tr>\n",
       "      <th>0</th>\n",
       "      <td>Joe</td>\n",
       "    </tr>\n",
       "  </tbody>\n",
       "</table>\n",
       "</div>"
      ],
      "text/plain": [
       "  Employee\n",
       "0      Joe"
      ]
     },
     "execution_count": 14,
     "metadata": {},
     "output_type": "execute_result"
    }
   ],
   "source": [
    "sql = \"\"\"--sql\n",
    "SELECT\n",
    "    e.name AS Employee\n",
    "FROM\n",
    "    Employee e\n",
    "WHERE\n",
    "    e.salary > (\n",
    "        SELECT\n",
    "            m.salary\n",
    "        FROM\n",
    "            Employee m\n",
    "        WHERE\n",
    "            m.id = e.managerId\n",
    "    );\n",
    "\"\"\"\n",
    "select(sql)"
   ]
  },
  {
   "cell_type": "markdown",
   "id": "a1388c03",
   "metadata": {},
   "source": [
    "### 182. Duplicate Emails (Easy)\n",
    "\n",
    "Write a solution to report all the duplicate emails. Note that it's guaranteed that the email field is not NULL.\n"
   ]
  },
  {
   "cell_type": "code",
   "execution_count": 15,
   "id": "22537dcf",
   "metadata": {},
   "outputs": [],
   "source": [
    "sql_schema = \"\"\"\n",
    "Drop table If Exists Person\n",
    "Create table If Not Exists Person (id int, email varchar(255))\n",
    "insert into Person (id, email) values ('1', 'a@b.com')\n",
    "insert into Person (id, email) values ('2', 'c@d.com')\n",
    "insert into Person (id, email) values ('3', 'a@b.com')\n",
    "\"\"\"\n",
    "execute_formatted_sqlite(sql_schema)"
   ]
  },
  {
   "cell_type": "code",
   "execution_count": 16,
   "id": "19c2b1c9",
   "metadata": {},
   "outputs": [
    {
     "data": {
      "application/vnd.microsoft.datawrangler.viewer.v0+json": {
       "columns": [
        {
         "name": "index",
         "rawType": "int64",
         "type": "integer"
        },
        {
         "name": "Email",
         "rawType": "object",
         "type": "string"
        }
       ],
       "ref": "432c6943-cb99-4574-ac62-f73d4f9b4ca0",
       "rows": [
        [
         "0",
         "a@b.com"
        ]
       ],
       "shape": {
        "columns": 1,
        "rows": 1
       }
      },
      "text/html": [
       "<div>\n",
       "<style scoped>\n",
       "    .dataframe tbody tr th:only-of-type {\n",
       "        vertical-align: middle;\n",
       "    }\n",
       "\n",
       "    .dataframe tbody tr th {\n",
       "        vertical-align: top;\n",
       "    }\n",
       "\n",
       "    .dataframe thead th {\n",
       "        text-align: right;\n",
       "    }\n",
       "</style>\n",
       "<table border=\"1\" class=\"dataframe\">\n",
       "  <thead>\n",
       "    <tr style=\"text-align: right;\">\n",
       "      <th></th>\n",
       "      <th>Email</th>\n",
       "    </tr>\n",
       "  </thead>\n",
       "  <tbody>\n",
       "    <tr>\n",
       "      <th>0</th>\n",
       "      <td>a@b.com</td>\n",
       "    </tr>\n",
       "  </tbody>\n",
       "</table>\n",
       "</div>"
      ],
      "text/plain": [
       "     Email\n",
       "0  a@b.com"
      ]
     },
     "execution_count": 16,
     "metadata": {},
     "output_type": "execute_result"
    }
   ],
   "source": [
    "sql = \"\"\"--sql\n",
    "SELECT\n",
    "    e.email AS Email\n",
    "FROM\n",
    "    (\n",
    "        SELECT\n",
    "            p.email,\n",
    "            COUNT(p.email) dupl\n",
    "        FROM\n",
    "            Person p\n",
    "        GROUP BY\n",
    "            p.email\n",
    "    ) e\n",
    "WHERE\n",
    "    e.dupl > 1;\n",
    "\"\"\"\n",
    "select(sql)"
   ]
  },
  {
   "cell_type": "markdown",
   "id": "8c9b9c35",
   "metadata": {},
   "source": [
    "### 183. Customers Who Never Order (Easy)\n",
    "\n",
    "Write a solution to find all customers who never order anything.\n"
   ]
  },
  {
   "cell_type": "code",
   "execution_count": 17,
   "id": "4ae1d910",
   "metadata": {},
   "outputs": [],
   "source": [
    "sql_schema = \"\"\"\n",
    "Drop table If Exists Customers\n",
    "Create table If Not Exists Customers (id int, name varchar(255))\n",
    "insert into Customers (id, name) values ('1', 'Joe')\n",
    "insert into Customers (id, name) values ('2', 'Henry')\n",
    "insert into Customers (id, name) values ('3', 'Sam')\n",
    "insert into Customers (id, name) values ('4', 'Max')\n",
    "Drop table If Exists Orders\n",
    "Create table If Not Exists Orders (id int, customerId int)\n",
    "insert into Orders (id, customerId) values ('1', '3')\n",
    "insert into Orders (id, customerId) values ('2', '1')\n",
    "\"\"\"\n",
    "execute_formatted_sqlite(sql_schema)"
   ]
  },
  {
   "cell_type": "code",
   "execution_count": 18,
   "id": "d80e6af7",
   "metadata": {},
   "outputs": [
    {
     "data": {
      "application/vnd.microsoft.datawrangler.viewer.v0+json": {
       "columns": [
        {
         "name": "index",
         "rawType": "int64",
         "type": "integer"
        },
        {
         "name": "Customers",
         "rawType": "object",
         "type": "string"
        }
       ],
       "ref": "e855b256-d2c4-4bc1-afe3-9b151357c423",
       "rows": [
        [
         "0",
         "Henry"
        ],
        [
         "1",
         "Max"
        ]
       ],
       "shape": {
        "columns": 1,
        "rows": 2
       }
      },
      "text/html": [
       "<div>\n",
       "<style scoped>\n",
       "    .dataframe tbody tr th:only-of-type {\n",
       "        vertical-align: middle;\n",
       "    }\n",
       "\n",
       "    .dataframe tbody tr th {\n",
       "        vertical-align: top;\n",
       "    }\n",
       "\n",
       "    .dataframe thead th {\n",
       "        text-align: right;\n",
       "    }\n",
       "</style>\n",
       "<table border=\"1\" class=\"dataframe\">\n",
       "  <thead>\n",
       "    <tr style=\"text-align: right;\">\n",
       "      <th></th>\n",
       "      <th>Customers</th>\n",
       "    </tr>\n",
       "  </thead>\n",
       "  <tbody>\n",
       "    <tr>\n",
       "      <th>0</th>\n",
       "      <td>Henry</td>\n",
       "    </tr>\n",
       "    <tr>\n",
       "      <th>1</th>\n",
       "      <td>Max</td>\n",
       "    </tr>\n",
       "  </tbody>\n",
       "</table>\n",
       "</div>"
      ],
      "text/plain": [
       "  Customers\n",
       "0     Henry\n",
       "1       Max"
      ]
     },
     "execution_count": 18,
     "metadata": {},
     "output_type": "execute_result"
    }
   ],
   "source": [
    "sql = \"\"\"--sql\n",
    "SELECT\n",
    "    c.name AS Customers\n",
    "FROM\n",
    "    Customers c\n",
    "WHERE\n",
    "    c.id NOT IN (\n",
    "        SELECT\n",
    "            o.customerId\n",
    "        FROM\n",
    "            Orders o\n",
    "    );\n",
    "\"\"\"\n",
    "select(sql)"
   ]
  },
  {
   "cell_type": "markdown",
   "id": "51273e20",
   "metadata": {},
   "source": [
    "### 184. Department Highest Salary (Med.)\n",
    "\n",
    "Write a solution to find employees who have the highest salary in each of the departments.\n"
   ]
  },
  {
   "cell_type": "code",
   "execution_count": 19,
   "id": "cef30ac2",
   "metadata": {},
   "outputs": [],
   "source": [
    "sql_schema = \"\"\"\n",
    "Drop table If Exists Employee\n",
    "Create table If Not Exists Employee (id int, name varchar(255), salary int, departmentId int)\n",
    "insert into Employee (id, name, salary, departmentId) values ('1', 'Joe', '70000', '1')\n",
    "insert into Employee (id, name, salary, departmentId) values ('2', 'Jim', '90000', '1')\n",
    "insert into Employee (id, name, salary, departmentId) values ('3', 'Henry', '80000', '2')\n",
    "insert into Employee (id, name, salary, departmentId) values ('4', 'Sam', '60000', '2')\n",
    "insert into Employee (id, name, salary, departmentId) values ('5', 'Max', '90000', '1')\n",
    "Drop table If Exists Department\n",
    "Create table If Not Exists Department (id int, name varchar(255))\n",
    "insert into Department (id, name) values ('1', 'IT')\n",
    "insert into Department (id, name) values ('2', 'Sales')\n",
    "\"\"\"\n",
    "execute_formatted_sqlite(sql_schema)"
   ]
  },
  {
   "cell_type": "code",
   "execution_count": 20,
   "id": "b4f5db48",
   "metadata": {},
   "outputs": [
    {
     "data": {
      "application/vnd.microsoft.datawrangler.viewer.v0+json": {
       "columns": [
        {
         "name": "index",
         "rawType": "int64",
         "type": "integer"
        },
        {
         "name": "Department",
         "rawType": "object",
         "type": "string"
        },
        {
         "name": "Employee",
         "rawType": "object",
         "type": "string"
        },
        {
         "name": "Salary",
         "rawType": "int64",
         "type": "integer"
        }
       ],
       "ref": "c7f688a3-34d5-45f0-b151-eb2766f0f257",
       "rows": [
        [
         "0",
         "IT",
         "Jim",
         "90000"
        ],
        [
         "1",
         "IT",
         "Max",
         "90000"
        ],
        [
         "2",
         "Sales",
         "Henry",
         "80000"
        ]
       ],
       "shape": {
        "columns": 3,
        "rows": 3
       }
      },
      "text/html": [
       "<div>\n",
       "<style scoped>\n",
       "    .dataframe tbody tr th:only-of-type {\n",
       "        vertical-align: middle;\n",
       "    }\n",
       "\n",
       "    .dataframe tbody tr th {\n",
       "        vertical-align: top;\n",
       "    }\n",
       "\n",
       "    .dataframe thead th {\n",
       "        text-align: right;\n",
       "    }\n",
       "</style>\n",
       "<table border=\"1\" class=\"dataframe\">\n",
       "  <thead>\n",
       "    <tr style=\"text-align: right;\">\n",
       "      <th></th>\n",
       "      <th>Department</th>\n",
       "      <th>Employee</th>\n",
       "      <th>Salary</th>\n",
       "    </tr>\n",
       "  </thead>\n",
       "  <tbody>\n",
       "    <tr>\n",
       "      <th>0</th>\n",
       "      <td>IT</td>\n",
       "      <td>Jim</td>\n",
       "      <td>90000</td>\n",
       "    </tr>\n",
       "    <tr>\n",
       "      <th>1</th>\n",
       "      <td>IT</td>\n",
       "      <td>Max</td>\n",
       "      <td>90000</td>\n",
       "    </tr>\n",
       "    <tr>\n",
       "      <th>2</th>\n",
       "      <td>Sales</td>\n",
       "      <td>Henry</td>\n",
       "      <td>80000</td>\n",
       "    </tr>\n",
       "  </tbody>\n",
       "</table>\n",
       "</div>"
      ],
      "text/plain": [
       "  Department Employee  Salary\n",
       "0         IT      Jim   90000\n",
       "1         IT      Max   90000\n",
       "2      Sales    Henry   80000"
      ]
     },
     "execution_count": 20,
     "metadata": {},
     "output_type": "execute_result"
    }
   ],
   "source": [
    "sql = \"\"\"--sql\n",
    "SELECT\n",
    "    d.name AS Department,\n",
    "    e.name AS Employee,\n",
    "    e.salary AS Salary\n",
    "FROM\n",
    "    (\n",
    "        SELECT\n",
    "            e.*,\n",
    "            DENSE_RANK() OVER (\n",
    "                PARTITION BY\n",
    "                    e.departmentId\n",
    "                ORDER BY\n",
    "                    e.salary DESC\n",
    "            ) AS RANK\n",
    "        FROM\n",
    "            Employee e\n",
    "    ) e\n",
    "    LEFT JOIN Department d ON e.departmentId = d.id\n",
    "WHERE\n",
    "    e.rank = 1\n",
    "ORDER BY\n",
    "    d.name,\n",
    "    e.name;\n",
    "\"\"\"\n",
    "select(sql)"
   ]
  },
  {
   "cell_type": "markdown",
   "id": "a0b360f9",
   "metadata": {},
   "source": [
    "### 185. Department Top Three Salaries (Hard)\n",
    "\n",
    "A company's executives are interested in seeing who earns the most money in each of the company's departments. A high earner in a department is an employee who has a salary in the top three unique salaries for that department.\n",
    "\n",
    "Write a solution to find the employees who are high earners in each of the departments.\n"
   ]
  },
  {
   "cell_type": "code",
   "execution_count": 21,
   "id": "a9daf0a3",
   "metadata": {},
   "outputs": [],
   "source": [
    "sql_schema = \"\"\"\n",
    "Drop table If Exists Employee\n",
    "Create table If Not Exists Employee (id int, name varchar(255), salary int, departmentId int)\n",
    "insert into Employee (id, name, salary, departmentId) values ('1', 'Joe', '85000', '1')\n",
    "insert into Employee (id, name, salary, departmentId) values ('2', 'Henry', '80000', '2')\n",
    "insert into Employee (id, name, salary, departmentId) values ('3', 'Sam', '60000', '2')\n",
    "insert into Employee (id, name, salary, departmentId) values ('4', 'Max', '90000', '1')\n",
    "insert into Employee (id, name, salary, departmentId) values ('5', 'Janet', '69000', '1')\n",
    "insert into Employee (id, name, salary, departmentId) values ('6', 'Randy', '85000', '1')\n",
    "insert into Employee (id, name, salary, departmentId) values ('7', 'Will', '70000', '1')\n",
    "Drop table If Exists Department\n",
    "Create table If Not Exists Department (id int, name varchar(255))\n",
    "insert into Department (id, name) values ('1', 'IT')\n",
    "insert into Department (id, name) values ('2', 'Sales')\n",
    "\"\"\"\n",
    "execute_formatted_sqlite(sql_schema)"
   ]
  },
  {
   "cell_type": "code",
   "execution_count": 22,
   "id": "14fc204f",
   "metadata": {},
   "outputs": [
    {
     "data": {
      "application/vnd.microsoft.datawrangler.viewer.v0+json": {
       "columns": [
        {
         "name": "index",
         "rawType": "int64",
         "type": "integer"
        },
        {
         "name": "Department",
         "rawType": "object",
         "type": "string"
        },
        {
         "name": "Employee",
         "rawType": "object",
         "type": "string"
        },
        {
         "name": "Salary",
         "rawType": "int64",
         "type": "integer"
        }
       ],
       "ref": "602a919f-c1c9-497b-90f7-db52c4f37d6c",
       "rows": [
        [
         "0",
         "IT",
         "Max",
         "90000"
        ],
        [
         "1",
         "IT",
         "Joe",
         "85000"
        ],
        [
         "2",
         "IT",
         "Randy",
         "85000"
        ],
        [
         "3",
         "IT",
         "Will",
         "70000"
        ],
        [
         "4",
         "Sales",
         "Henry",
         "80000"
        ],
        [
         "5",
         "Sales",
         "Sam",
         "60000"
        ]
       ],
       "shape": {
        "columns": 3,
        "rows": 6
       }
      },
      "text/html": [
       "<div>\n",
       "<style scoped>\n",
       "    .dataframe tbody tr th:only-of-type {\n",
       "        vertical-align: middle;\n",
       "    }\n",
       "\n",
       "    .dataframe tbody tr th {\n",
       "        vertical-align: top;\n",
       "    }\n",
       "\n",
       "    .dataframe thead th {\n",
       "        text-align: right;\n",
       "    }\n",
       "</style>\n",
       "<table border=\"1\" class=\"dataframe\">\n",
       "  <thead>\n",
       "    <tr style=\"text-align: right;\">\n",
       "      <th></th>\n",
       "      <th>Department</th>\n",
       "      <th>Employee</th>\n",
       "      <th>Salary</th>\n",
       "    </tr>\n",
       "  </thead>\n",
       "  <tbody>\n",
       "    <tr>\n",
       "      <th>0</th>\n",
       "      <td>IT</td>\n",
       "      <td>Max</td>\n",
       "      <td>90000</td>\n",
       "    </tr>\n",
       "    <tr>\n",
       "      <th>1</th>\n",
       "      <td>IT</td>\n",
       "      <td>Joe</td>\n",
       "      <td>85000</td>\n",
       "    </tr>\n",
       "    <tr>\n",
       "      <th>2</th>\n",
       "      <td>IT</td>\n",
       "      <td>Randy</td>\n",
       "      <td>85000</td>\n",
       "    </tr>\n",
       "    <tr>\n",
       "      <th>3</th>\n",
       "      <td>IT</td>\n",
       "      <td>Will</td>\n",
       "      <td>70000</td>\n",
       "    </tr>\n",
       "    <tr>\n",
       "      <th>4</th>\n",
       "      <td>Sales</td>\n",
       "      <td>Henry</td>\n",
       "      <td>80000</td>\n",
       "    </tr>\n",
       "    <tr>\n",
       "      <th>5</th>\n",
       "      <td>Sales</td>\n",
       "      <td>Sam</td>\n",
       "      <td>60000</td>\n",
       "    </tr>\n",
       "  </tbody>\n",
       "</table>\n",
       "</div>"
      ],
      "text/plain": [
       "  Department Employee  Salary\n",
       "0         IT      Max   90000\n",
       "1         IT      Joe   85000\n",
       "2         IT    Randy   85000\n",
       "3         IT     Will   70000\n",
       "4      Sales    Henry   80000\n",
       "5      Sales      Sam   60000"
      ]
     },
     "execution_count": 22,
     "metadata": {},
     "output_type": "execute_result"
    }
   ],
   "source": [
    "sql = \"\"\"--sql\n",
    "SELECT\n",
    "    d.name AS Department,\n",
    "    e.name AS Employee,\n",
    "    e.salary AS Salary\n",
    "FROM\n",
    "    (\n",
    "        SELECT\n",
    "            e.*,\n",
    "            DENSE_RANK() OVER (\n",
    "                PARTITION BY\n",
    "                    e.departmentId\n",
    "                ORDER BY\n",
    "                    e.salary DESC\n",
    "            ) AS RANK\n",
    "        FROM\n",
    "            Employee e\n",
    "    ) e\n",
    "    LEFT JOIN Department d ON e.departmentId = d.id\n",
    "WHERE\n",
    "    e.rank <= 3\n",
    "ORDER BY\n",
    "    d.name,\n",
    "    e.salary DESC;\n",
    "\"\"\"\n",
    "select(sql)"
   ]
  },
  {
   "cell_type": "markdown",
   "id": "1bd115eb",
   "metadata": {},
   "source": [
    "### 196. Delete Duplicate Emails (Easy)\n",
    "\n",
    "Write a solution to delete all duplicate emails, keeping only one unique email with the smallest id.\n",
    "\n",
    "For SQL users, please note that you are supposed to write a DELETE statement and not a SELECT one.\n",
    "\n",
    "For Pandas users, please note that you are supposed to modify Person in place.\n",
    "\n",
    "After running your script, the answer shown is the Person table. The driver will first compile and run your piece of code and then show the Person table. The final order of the Person does not matter.\n"
   ]
  },
  {
   "cell_type": "code",
   "execution_count": 23,
   "id": "89c51d09",
   "metadata": {},
   "outputs": [],
   "source": [
    "sql_schema = \"\"\"\n",
    "Drop table If Exists Person\n",
    "Create table If Not Exists Person (Id int, Email varchar(255))\n",
    "insert into Person (id, email) values ('1', 'john@example.com')\n",
    "insert into Person (id, email) values ('2', 'bob@example.com')\n",
    "insert into Person (id, email) values ('3', 'john@example.com')\n",
    "\"\"\"\n",
    "execute_formatted_sqlite(sql_schema)"
   ]
  },
  {
   "cell_type": "code",
   "execution_count": 24,
   "id": "81f39b89",
   "metadata": {},
   "outputs": [],
   "source": [
    "sql = \"\"\"--sql\n",
    "DELETE FROM Person\n",
    "WHERE\n",
    "    id NOT IN (\n",
    "        SELECT\n",
    "            MIN(p.id)\n",
    "        FROM\n",
    "            Person p\n",
    "        GROUP BY\n",
    "            p.email\n",
    "    );\n",
    "\"\"\"\n",
    "crud(sql)"
   ]
  },
  {
   "cell_type": "markdown",
   "id": "6986f99c",
   "metadata": {},
   "source": [
    "### 197. Rising Temperature (Easy)\n",
    "\n",
    "Write a solution to find all dates' id with higher temperatures compared to its previous dates (yesterday).\n"
   ]
  },
  {
   "cell_type": "code",
   "execution_count": 25,
   "id": "3a7dcdee",
   "metadata": {},
   "outputs": [],
   "source": [
    "sql_schema = \"\"\"\n",
    "Drop table If Exists Weather\n",
    "Create table If Not Exists Weather (id int, recordDate date, temperature int)\n",
    "insert into Weather (id, recordDate, temperature) values ('1', '2015-01-01', '10')\n",
    "insert into Weather (id, recordDate, temperature) values ('2', '2015-01-02', '25')\n",
    "insert into Weather (id, recordDate, temperature) values ('3', '2015-01-03', '20')\n",
    "insert into Weather (id, recordDate, temperature) values ('4', '2015-01-04', '30')\n",
    "\"\"\"\n",
    "execute_formatted_sqlite(sql_schema)"
   ]
  },
  {
   "cell_type": "code",
   "execution_count": 26,
   "id": "8f2d6b00",
   "metadata": {},
   "outputs": [
    {
     "data": {
      "application/vnd.microsoft.datawrangler.viewer.v0+json": {
       "columns": [
        {
         "name": "index",
         "rawType": "int64",
         "type": "integer"
        },
        {
         "name": "id",
         "rawType": "int64",
         "type": "integer"
        }
       ],
       "ref": "667804f2-8ce2-4c74-89a0-5349394c057a",
       "rows": [
        [
         "0",
         "2"
        ],
        [
         "1",
         "4"
        ]
       ],
       "shape": {
        "columns": 1,
        "rows": 2
       }
      },
      "text/html": [
       "<div>\n",
       "<style scoped>\n",
       "    .dataframe tbody tr th:only-of-type {\n",
       "        vertical-align: middle;\n",
       "    }\n",
       "\n",
       "    .dataframe tbody tr th {\n",
       "        vertical-align: top;\n",
       "    }\n",
       "\n",
       "    .dataframe thead th {\n",
       "        text-align: right;\n",
       "    }\n",
       "</style>\n",
       "<table border=\"1\" class=\"dataframe\">\n",
       "  <thead>\n",
       "    <tr style=\"text-align: right;\">\n",
       "      <th></th>\n",
       "      <th>id</th>\n",
       "    </tr>\n",
       "  </thead>\n",
       "  <tbody>\n",
       "    <tr>\n",
       "      <th>0</th>\n",
       "      <td>2</td>\n",
       "    </tr>\n",
       "    <tr>\n",
       "      <th>1</th>\n",
       "      <td>4</td>\n",
       "    </tr>\n",
       "  </tbody>\n",
       "</table>\n",
       "</div>"
      ],
      "text/plain": [
       "   id\n",
       "0   2\n",
       "1   4"
      ]
     },
     "execution_count": 26,
     "metadata": {},
     "output_type": "execute_result"
    }
   ],
   "source": [
    "# Для PostgreSL `ON w1.recordDate = w2.recordDate + INTERVAL '1 day'`\n",
    "# Для MySQL `ON w1.recordDate = DATE_ADD(w2.recordDate, INTERVAL 1 DAY)'`\n",
    "sql = \"\"\"--sql\n",
    "SELECT\n",
    "    w1.id\n",
    "FROM\n",
    "    Weather w1\n",
    "    INNER JOIN Weather w2 ON w1.recordDate = DATE (w2.recordDate, '+1 day')\n",
    "WHERE\n",
    "    w1.temperature > w2.temperature\n",
    "ORDER BY\n",
    "    w1.id;\n",
    "\"\"\"\n",
    "select(sql)"
   ]
  },
  {
   "cell_type": "markdown",
   "id": "ae978fc4",
   "metadata": {},
   "source": [
    "### 262. Trips and Users (Hard)\n",
    "\n",
    "The cancellation rate is computed by dividing the number of canceled (by client or driver) requests with unbanned users by the total number of requests with unbanned users on that day.\n",
    "\n",
    "Write a solution to find the cancellation rate of requests with unbanned users (both client and driver must not be banned) each day between \"2013-10-01\" and \"2013-10-03\" with at least one trip. Round Cancellation Rate to two decimal points.\n"
   ]
  },
  {
   "cell_type": "code",
   "execution_count": 27,
   "id": "4f8603c5",
   "metadata": {},
   "outputs": [],
   "source": [
    "# ENUM - перечислимый тип фиксированным списком СТРОКОВЫХ значений хранящихся внутри схемы БД.\n",
    "# SQLite не поддерживает ENUM, но можно сделать ограничение через CHECK.\n",
    "# ENUM('completed', 'cancelled_by_driver', 'cancelled_by_client') заменить на TEXT вместе с CHECK:\n",
    "# TEXT CHECK(status IN ('completed', 'cancelled_by_driver', 'cancelled_by_client'))\n",
    "sql_schema = \"\"\"\n",
    "Drop table If Exists Trips\n",
    "Create table If Not Exists Trips (id int, client_id int, driver_id int, city_id int, status text CHECK(status In ('completed', 'cancelled_by_driver', 'cancelled_by_client')), request_at varchar(50))\n",
    "insert into Trips (id, client_id, driver_id, city_id, status, request_at) values ('1', '1', '10', '1', 'completed', '2013-10-01')\n",
    "insert into Trips (id, client_id, driver_id, city_id, status, request_at) values ('2', '2', '11', '1', 'cancelled_by_driver', '2013-10-01')\n",
    "insert into Trips (id, client_id, driver_id, city_id, status, request_at) values ('3', '3', '12', '6', 'completed', '2013-10-01')\n",
    "insert into Trips (id, client_id, driver_id, city_id, status, request_at) values ('4', '4', '13', '6', 'cancelled_by_client', '2013-10-01')\n",
    "insert into Trips (id, client_id, driver_id, city_id, status, request_at) values ('5', '1', '10', '1', 'completed', '2013-10-02')\n",
    "insert into Trips (id, client_id, driver_id, city_id, status, request_at) values ('6', '2', '11', '6', 'completed', '2013-10-02')\n",
    "insert into Trips (id, client_id, driver_id, city_id, status, request_at) values ('7', '3', '12', '6', 'completed', '2013-10-02')\n",
    "insert into Trips (id, client_id, driver_id, city_id, status, request_at) values ('8', '2', '12', '12', 'completed', '2013-10-03')\n",
    "insert into Trips (id, client_id, driver_id, city_id, status, request_at) values ('9', '3', '10', '12', 'completed', '2013-10-03')\n",
    "insert into Trips (id, client_id, driver_id, city_id, status, request_at) values ('10', '4', '13', '12', 'cancelled_by_driver', '2013-10-03')\n",
    "Drop table If Exists Users\n",
    "Create table If Not Exists Users (users_id int, banned varchar(50), role text CHECK(role In ('client', 'driver', 'partner')))\n",
    "insert into Users (users_id, banned, role) values ('1', 'No', 'client')\n",
    "insert into Users (users_id, banned, role) values ('2', 'Yes', 'client')\n",
    "insert into Users (users_id, banned, role) values ('3', 'No', 'client')\n",
    "insert into Users (users_id, banned, role) values ('4', 'No', 'client')\n",
    "insert into Users (users_id, banned, role) values ('10', 'No', 'driver')\n",
    "insert into Users (users_id, banned, role) values ('11', 'No', 'driver')\n",
    "insert into Users (users_id, banned, role) values ('12', 'No', 'driver')\n",
    "insert into Users (users_id, banned, role) values ('13', 'No', 'driver')\n",
    "\"\"\"\n",
    "execute_formatted_sqlite(sql_schema)"
   ]
  },
  {
   "cell_type": "code",
   "execution_count": 28,
   "id": "cd90b293",
   "metadata": {},
   "outputs": [
    {
     "data": {
      "application/vnd.microsoft.datawrangler.viewer.v0+json": {
       "columns": [
        {
         "name": "index",
         "rawType": "int64",
         "type": "integer"
        },
        {
         "name": "DAY",
         "rawType": "object",
         "type": "string"
        },
        {
         "name": "Cancellation Rate",
         "rawType": "float64",
         "type": "float"
        }
       ],
       "ref": "5010edc8-b045-4be7-8680-100adcf943c7",
       "rows": [
        [
         "0",
         "2013-10-01",
         "0.33"
        ],
        [
         "1",
         "2013-10-02",
         "0.0"
        ],
        [
         "2",
         "2013-10-03",
         "0.5"
        ]
       ],
       "shape": {
        "columns": 2,
        "rows": 3
       }
      },
      "text/html": [
       "<div>\n",
       "<style scoped>\n",
       "    .dataframe tbody tr th:only-of-type {\n",
       "        vertical-align: middle;\n",
       "    }\n",
       "\n",
       "    .dataframe tbody tr th {\n",
       "        vertical-align: top;\n",
       "    }\n",
       "\n",
       "    .dataframe thead th {\n",
       "        text-align: right;\n",
       "    }\n",
       "</style>\n",
       "<table border=\"1\" class=\"dataframe\">\n",
       "  <thead>\n",
       "    <tr style=\"text-align: right;\">\n",
       "      <th></th>\n",
       "      <th>DAY</th>\n",
       "      <th>Cancellation Rate</th>\n",
       "    </tr>\n",
       "  </thead>\n",
       "  <tbody>\n",
       "    <tr>\n",
       "      <th>0</th>\n",
       "      <td>2013-10-01</td>\n",
       "      <td>0.33</td>\n",
       "    </tr>\n",
       "    <tr>\n",
       "      <th>1</th>\n",
       "      <td>2013-10-02</td>\n",
       "      <td>0.00</td>\n",
       "    </tr>\n",
       "    <tr>\n",
       "      <th>2</th>\n",
       "      <td>2013-10-03</td>\n",
       "      <td>0.50</td>\n",
       "    </tr>\n",
       "  </tbody>\n",
       "</table>\n",
       "</div>"
      ],
      "text/plain": [
       "          DAY  Cancellation Rate\n",
       "0  2013-10-01               0.33\n",
       "1  2013-10-02               0.00\n",
       "2  2013-10-03               0.50"
      ]
     },
     "execution_count": 28,
     "metadata": {},
     "output_type": "execute_result"
    }
   ],
   "source": [
    "# в SQLite 0 / 2 = 0, а 1 / 2 = 0, если оба аргумента — INTEGER. Поэтому явно бодавляем * 1.0.\n",
    "# P.S. Одинарные кавычки (') нельзя использовать для именования столбцов — они интерпретируются как\n",
    "# строковые литералы. Для совместимости с другими СУБД использовать двойные (\").\n",
    "# В PostgreSQL нельзя напрямую применять SUM(...) к BOOLEAN - нужно использовать CASE WHEN. А также\n",
    "# полноценный подзапрос вместо NOT IN bloked_user.\n",
    "sql = \"\"\"--sql\n",
    "WITH\n",
    "    blocked_user AS (\n",
    "        SELECT\n",
    "            u.users_id\n",
    "        FROM\n",
    "            Users u\n",
    "        WHERE\n",
    "            u.banned = 'Yes'\n",
    "    )\n",
    "SELECT\n",
    "    t.request_at AS DAY,\n",
    "    ROUND(SUM(t.status != 'completed') * 1.0 / COUNT(*), 2) AS \"Cancellation Rate\"\n",
    "FROM\n",
    "    Trips t\n",
    "WHERE\n",
    "    t.client_id NOT IN blocked_user\n",
    "    AND t.driver_id NOT IN blocked_user\n",
    "    AND t.request_at BETWEEN '2013-10-01' AND '2013-10-03'\n",
    "GROUP BY\n",
    "    t.request_at\n",
    "ORDER BY\n",
    "    DAY;\n",
    "\"\"\"\n",
    "select(sql)"
   ]
  },
  {
   "cell_type": "markdown",
   "id": "afd8ac7a",
   "metadata": {},
   "source": [
    "### 511. Game Play Analysis I (Easy)\n",
    "\n",
    "Write a solution to find the first login date for each player.\n"
   ]
  },
  {
   "cell_type": "code",
   "execution_count": 29,
   "id": "212e0df6",
   "metadata": {},
   "outputs": [],
   "source": [
    "sql_schema = \"\"\"\n",
    "Drop table If Exists Activity\n",
    "Create table If Not Exists Activity (player_id int, device_id int, event_date date, games_played int)\n",
    "insert into Activity (player_id, device_id, event_date, games_played) values ('1', '2', '2016-03-01', '5')\n",
    "insert into Activity (player_id, device_id, event_date, games_played) values ('1', '2', '2016-05-02', '6')\n",
    "insert into Activity (player_id, device_id, event_date, games_played) values ('2', '3', '2017-06-25', '1')\n",
    "insert into Activity (player_id, device_id, event_date, games_played) values ('3', '1', '2016-03-02', '0')\n",
    "insert into Activity (player_id, device_id, event_date, games_played) values ('3', '4', '2018-07-03', '5')\n",
    "\"\"\"\n",
    "execute_formatted_sqlite(sql_schema)"
   ]
  },
  {
   "cell_type": "code",
   "execution_count": 30,
   "id": "dd6ec137",
   "metadata": {},
   "outputs": [
    {
     "data": {
      "application/vnd.microsoft.datawrangler.viewer.v0+json": {
       "columns": [
        {
         "name": "index",
         "rawType": "int64",
         "type": "integer"
        },
        {
         "name": "player_id",
         "rawType": "int64",
         "type": "integer"
        },
        {
         "name": "first_login",
         "rawType": "object",
         "type": "string"
        }
       ],
       "ref": "9c5e60d5-957e-4dd4-8e10-bdcfa9c01302",
       "rows": [
        [
         "0",
         "1",
         "2016-03-01"
        ],
        [
         "1",
         "2",
         "2017-06-25"
        ],
        [
         "2",
         "3",
         "2016-03-02"
        ]
       ],
       "shape": {
        "columns": 2,
        "rows": 3
       }
      },
      "text/html": [
       "<div>\n",
       "<style scoped>\n",
       "    .dataframe tbody tr th:only-of-type {\n",
       "        vertical-align: middle;\n",
       "    }\n",
       "\n",
       "    .dataframe tbody tr th {\n",
       "        vertical-align: top;\n",
       "    }\n",
       "\n",
       "    .dataframe thead th {\n",
       "        text-align: right;\n",
       "    }\n",
       "</style>\n",
       "<table border=\"1\" class=\"dataframe\">\n",
       "  <thead>\n",
       "    <tr style=\"text-align: right;\">\n",
       "      <th></th>\n",
       "      <th>player_id</th>\n",
       "      <th>first_login</th>\n",
       "    </tr>\n",
       "  </thead>\n",
       "  <tbody>\n",
       "    <tr>\n",
       "      <th>0</th>\n",
       "      <td>1</td>\n",
       "      <td>2016-03-01</td>\n",
       "    </tr>\n",
       "    <tr>\n",
       "      <th>1</th>\n",
       "      <td>2</td>\n",
       "      <td>2017-06-25</td>\n",
       "    </tr>\n",
       "    <tr>\n",
       "      <th>2</th>\n",
       "      <td>3</td>\n",
       "      <td>2016-03-02</td>\n",
       "    </tr>\n",
       "  </tbody>\n",
       "</table>\n",
       "</div>"
      ],
      "text/plain": [
       "   player_id first_login\n",
       "0          1  2016-03-01\n",
       "1          2  2017-06-25\n",
       "2          3  2016-03-02"
      ]
     },
     "execution_count": 30,
     "metadata": {},
     "output_type": "execute_result"
    }
   ],
   "source": [
    "sql = \"\"\"--sql\n",
    "SELECT\n",
    "    a.player_id,\n",
    "    MIN(a.event_date) AS first_login\n",
    "FROM\n",
    "    Activity a\n",
    "GROUP BY\n",
    "    a.player_id;\n",
    "\"\"\"\n",
    "select(sql)"
   ]
  },
  {
   "cell_type": "markdown",
   "id": "c917ba6b",
   "metadata": {},
   "source": [
    "### 550. Game Play Analysis IV (Med.)\n",
    "\n",
    "Write a solution to report the fraction of players that logged in again on the day after the day they first logged in, rounded to 2 decimal places. In other words, you need to determine the number of players who logged in on the day immediately following their initial login, and divide it by the number of total players.\n"
   ]
  },
  {
   "cell_type": "code",
   "execution_count": 31,
   "id": "2d7b55ff",
   "metadata": {},
   "outputs": [],
   "source": [
    "sql_schema = \"\"\"\n",
    "Drop table If Exists Activity\n",
    "Create table If Not Exists Activity (player_id int, device_id int, event_date date, games_played int)\n",
    "insert into Activity (player_id, device_id, event_date, games_played) values ('1', '2', '2016-03-01', '5')\n",
    "insert into Activity (player_id, device_id, event_date, games_played) values ('1', '2', '2016-03-02', '6')\n",
    "insert into Activity (player_id, device_id, event_date, games_played) values ('2', '3', '2017-06-25', '1')\n",
    "insert into Activity (player_id, device_id, event_date, games_played) values ('3', '1', '2016-03-02', '0')\n",
    "insert into Activity (player_id, device_id, event_date, games_played) values ('3', '4', '2018-07-03', '5')\n",
    "\"\"\"\n",
    "execute_formatted_sqlite(sql_schema)"
   ]
  },
  {
   "cell_type": "code",
   "execution_count": 32,
   "id": "82e665d8",
   "metadata": {},
   "outputs": [
    {
     "data": {
      "application/vnd.microsoft.datawrangler.viewer.v0+json": {
       "columns": [
        {
         "name": "index",
         "rawType": "int64",
         "type": "integer"
        },
        {
         "name": "fraction",
         "rawType": "float64",
         "type": "float"
        }
       ],
       "ref": "fd353c7c-ebf8-463d-958c-a9fddaf1e12b",
       "rows": [
        [
         "0",
         "0.33"
        ]
       ],
       "shape": {
        "columns": 1,
        "rows": 1
       }
      },
      "text/html": [
       "<div>\n",
       "<style scoped>\n",
       "    .dataframe tbody tr th:only-of-type {\n",
       "        vertical-align: middle;\n",
       "    }\n",
       "\n",
       "    .dataframe tbody tr th {\n",
       "        vertical-align: top;\n",
       "    }\n",
       "\n",
       "    .dataframe thead th {\n",
       "        text-align: right;\n",
       "    }\n",
       "</style>\n",
       "<table border=\"1\" class=\"dataframe\">\n",
       "  <thead>\n",
       "    <tr style=\"text-align: right;\">\n",
       "      <th></th>\n",
       "      <th>fraction</th>\n",
       "    </tr>\n",
       "  </thead>\n",
       "  <tbody>\n",
       "    <tr>\n",
       "      <th>0</th>\n",
       "      <td>0.33</td>\n",
       "    </tr>\n",
       "  </tbody>\n",
       "</table>\n",
       "</div>"
      ],
      "text/plain": [
       "   fraction\n",
       "0      0.33"
      ]
     },
     "execution_count": 32,
     "metadata": {},
     "output_type": "execute_result"
    }
   ],
   "source": [
    "# В PostgreSQL: a.event_date - INTERVAL '1 day'\n",
    "# Вместо CAST(COUNT(r.player_id) AS real) можно просто * 1.0\n",
    "sql = \"\"\"--sql\n",
    "WITH\n",
    "    first_login AS (\n",
    "        SELECT\n",
    "            a.player_id,\n",
    "            MIN(a.event_date) AS first_login\n",
    "        FROM\n",
    "            Activity a\n",
    "        GROUP BY\n",
    "            a.player_id\n",
    "    ),\n",
    "    reentry_next_day AS (\n",
    "        SELECT\n",
    "            f.*,\n",
    "            CASE\n",
    "                WHEN a.event_date IS NOT NULL THEN 1\n",
    "                ELSE 0\n",
    "            END AS reentry_login\n",
    "        FROM\n",
    "            first_login f\n",
    "            LEFT JOIN Activity a ON f.player_id = a.player_id\n",
    "            AND f.first_login = DATE (a.event_date, '-1 day')\n",
    "    )\n",
    "SELECT\n",
    "    ROUND(\n",
    "        1.0 * SUM(r.reentry_login) / COUNT(r.player_id),\n",
    "        2\n",
    "    ) AS fraction\n",
    "FROM\n",
    "    reentry_next_day r;\n",
    "\"\"\"\n",
    "select(sql)"
   ]
  },
  {
   "cell_type": "markdown",
   "id": "5be8ca59",
   "metadata": {},
   "source": [
    "### 570. Managers with at Least 5 Direct Reports (Med.)\n",
    "\n",
    "Write a solution to find managers with at least five direct reports.\n"
   ]
  },
  {
   "cell_type": "code",
   "execution_count": 33,
   "id": "d217e600",
   "metadata": {},
   "outputs": [],
   "source": [
    "sql_schema = \"\"\"\n",
    "Drop table If Exists Employee\n",
    "Create table If Not Exists Employee (id int, name varchar(255), department varchar(255), managerId int)\n",
    "insert into Employee (id, name, department, managerId) values ('101', 'John', 'A', NULL)\n",
    "insert into Employee (id, name, department, managerId) values ('102', 'Dan', 'A', '101')\n",
    "insert into Employee (id, name, department, managerId) values ('103', 'James', 'A', '101')\n",
    "insert into Employee (id, name, department, managerId) values ('104', 'Amy', 'A', '101')\n",
    "insert into Employee (id, name, department, managerId) values ('105', 'Anne', 'A', '101')\n",
    "insert into Employee (id, name, department, managerId) values ('106', 'Ron', 'B', '101')\n",
    "\"\"\"\n",
    "execute_formatted_sqlite(sql_schema)"
   ]
  },
  {
   "cell_type": "code",
   "execution_count": 34,
   "id": "6ab05c14",
   "metadata": {},
   "outputs": [
    {
     "data": {
      "application/vnd.microsoft.datawrangler.viewer.v0+json": {
       "columns": [
        {
         "name": "index",
         "rawType": "int64",
         "type": "integer"
        },
        {
         "name": "name",
         "rawType": "object",
         "type": "string"
        }
       ],
       "ref": "b62df016-8bb5-4f71-adc4-b220a48f7139",
       "rows": [
        [
         "0",
         "John"
        ]
       ],
       "shape": {
        "columns": 1,
        "rows": 1
       }
      },
      "text/html": [
       "<div>\n",
       "<style scoped>\n",
       "    .dataframe tbody tr th:only-of-type {\n",
       "        vertical-align: middle;\n",
       "    }\n",
       "\n",
       "    .dataframe tbody tr th {\n",
       "        vertical-align: top;\n",
       "    }\n",
       "\n",
       "    .dataframe thead th {\n",
       "        text-align: right;\n",
       "    }\n",
       "</style>\n",
       "<table border=\"1\" class=\"dataframe\">\n",
       "  <thead>\n",
       "    <tr style=\"text-align: right;\">\n",
       "      <th></th>\n",
       "      <th>name</th>\n",
       "    </tr>\n",
       "  </thead>\n",
       "  <tbody>\n",
       "    <tr>\n",
       "      <th>0</th>\n",
       "      <td>John</td>\n",
       "    </tr>\n",
       "  </tbody>\n",
       "</table>\n",
       "</div>"
      ],
      "text/plain": [
       "   name\n",
       "0  John"
      ]
     },
     "execution_count": 34,
     "metadata": {},
     "output_type": "execute_result"
    }
   ],
   "source": [
    "# Вариант с JOIN работае быстрее чем с WHERE (WHERE e.id in (SELECT ...), т.к. SQL-оптимизатор ряда\n",
    "# СУБД преобразует его в EXISTS или JOIN). COUNT(e.managerId) можно вынести из SELTCT в HAVING и тогда\n",
    "# в SELECT оставить только e.managerId (сразу готовый список id-шников без дополнительного подзапроса).\n",
    "sql = \"\"\"--sql\n",
    "SELECT\n",
    "    e.name\n",
    "FROM\n",
    "    Employee e\n",
    "    INNER JOIN (\n",
    "        SELECT\n",
    "            e.managerId\n",
    "        FROM\n",
    "            Employee e\n",
    "        GROUP BY\n",
    "            e.managerId\n",
    "        HAVING\n",
    "            COUNT(e.managerId) >= 5\n",
    "    ) m ON e.id = m.managerId;\n",
    "\"\"\"\n",
    "select(sql)"
   ]
  },
  {
   "cell_type": "markdown",
   "id": "3da41417",
   "metadata": {},
   "source": [
    "### 577. Employee Bonus (Easy)\n",
    "\n",
    "Write a solution to report the name and bonus amount of each employee with a bonus less than 1000.\n"
   ]
  },
  {
   "cell_type": "code",
   "execution_count": 35,
   "id": "67dfa8ca",
   "metadata": {},
   "outputs": [],
   "source": [
    "sql_schema = \"\"\"\n",
    "Drop table If Exists Employee\n",
    "Create table If Not Exists Employee (empId int, name varchar(255), supervisor int, salary int)\n",
    "insert into Employee (empId, name, supervisor, salary) values ('3', 'Brad', NULL, '4000')\n",
    "insert into Employee (empId, name, supervisor, salary) values ('1', 'John', '3', '1000')\n",
    "insert into Employee (empId, name, supervisor, salary) values ('2', 'Dan', '3', '2000')\n",
    "insert into Employee (empId, name, supervisor, salary) values ('4', 'Thomas', '3', '4000')\n",
    "Drop table If Exists Bonus\n",
    "Create table If Not Exists Bonus (empId int, bonus int)\n",
    "insert into Bonus (empId, bonus) values ('2', '500')\n",
    "insert into Bonus (empId, bonus) values ('4', '2000')\n",
    "\"\"\"\n",
    "execute_formatted_sqlite(sql_schema)"
   ]
  },
  {
   "cell_type": "code",
   "execution_count": 36,
   "id": "cd3dfbd6",
   "metadata": {},
   "outputs": [
    {
     "data": {
      "application/vnd.microsoft.datawrangler.viewer.v0+json": {
       "columns": [
        {
         "name": "index",
         "rawType": "int64",
         "type": "integer"
        },
        {
         "name": "name",
         "rawType": "object",
         "type": "string"
        },
        {
         "name": "bonus",
         "rawType": "float64",
         "type": "float"
        }
       ],
       "ref": "8df3f1f1-248b-4561-8d33-daa4ae0fda6e",
       "rows": [
        [
         "0",
         "Brad",
         null
        ],
        [
         "1",
         "John",
         null
        ],
        [
         "2",
         "Dan",
         "500.0"
        ]
       ],
       "shape": {
        "columns": 2,
        "rows": 3
       }
      },
      "text/html": [
       "<div>\n",
       "<style scoped>\n",
       "    .dataframe tbody tr th:only-of-type {\n",
       "        vertical-align: middle;\n",
       "    }\n",
       "\n",
       "    .dataframe tbody tr th {\n",
       "        vertical-align: top;\n",
       "    }\n",
       "\n",
       "    .dataframe thead th {\n",
       "        text-align: right;\n",
       "    }\n",
       "</style>\n",
       "<table border=\"1\" class=\"dataframe\">\n",
       "  <thead>\n",
       "    <tr style=\"text-align: right;\">\n",
       "      <th></th>\n",
       "      <th>name</th>\n",
       "      <th>bonus</th>\n",
       "    </tr>\n",
       "  </thead>\n",
       "  <tbody>\n",
       "    <tr>\n",
       "      <th>0</th>\n",
       "      <td>Brad</td>\n",
       "      <td>NaN</td>\n",
       "    </tr>\n",
       "    <tr>\n",
       "      <th>1</th>\n",
       "      <td>John</td>\n",
       "      <td>NaN</td>\n",
       "    </tr>\n",
       "    <tr>\n",
       "      <th>2</th>\n",
       "      <td>Dan</td>\n",
       "      <td>500.0</td>\n",
       "    </tr>\n",
       "  </tbody>\n",
       "</table>\n",
       "</div>"
      ],
      "text/plain": [
       "   name  bonus\n",
       "0  Brad    NaN\n",
       "1  John    NaN\n",
       "2   Dan  500.0"
      ]
     },
     "execution_count": 36,
     "metadata": {},
     "output_type": "execute_result"
    }
   ],
   "source": [
    "# Подразумевается что если сотрудник без бонуса - его бонус равен 0. Поэтому эти сотрудники включены в результат.\n",
    "# Т.е. сотрудники WHERE COALESCE(b.bonus, 0) < 1000.\n",
    "sql = \"\"\"--sql\n",
    "SELECT\n",
    "    e.name,\n",
    "    b.bonus\n",
    "FROM\n",
    "    Employee e\n",
    "    LEFT JOIN Bonus b ON e.empId = b.empId\n",
    "WHERE\n",
    "    b.bonus < 1000\n",
    "    OR b.bonus IS NULL\n",
    "ORDER BY\n",
    "    b.bonus,\n",
    "    e.name;\n",
    "\"\"\"\n",
    "select(sql)"
   ]
  },
  {
   "cell_type": "markdown",
   "id": "19d929c9",
   "metadata": {},
   "source": [
    "### 584. Find Customer Referee (Easy)\n",
    "\n",
    "Find the names of the customer that are either:\n",
    "\n",
    "1. referred by any customer with id != 2.\n",
    "2. not referred by any customer.\n"
   ]
  },
  {
   "cell_type": "code",
   "execution_count": 37,
   "id": "d92f85a4",
   "metadata": {},
   "outputs": [],
   "source": [
    "sql_schema = \"\"\"\n",
    "Drop table If Exists Customer\n",
    "Create table If Not Exists Customer (id int, name varchar(25), referee_id int)\n",
    "insert into Customer (id, name, referee_id) values ('1', 'Will', NULL)\n",
    "insert into Customer (id, name, referee_id) values ('2', 'Jane', NULL)\n",
    "insert into Customer (id, name, referee_id) values ('3', 'Alex', '2')\n",
    "insert into Customer (id, name, referee_id) values ('4', 'Bill', NULL)\n",
    "insert into Customer (id, name, referee_id) values ('5', 'Zack', '1')\n",
    "insert into Customer (id, name, referee_id) values ('6', 'Mark', '2')\n",
    "\"\"\"\n",
    "execute_formatted_sqlite(sql_schema)"
   ]
  },
  {
   "cell_type": "code",
   "execution_count": 38,
   "id": "9d6bcee6",
   "metadata": {},
   "outputs": [
    {
     "data": {
      "application/vnd.microsoft.datawrangler.viewer.v0+json": {
       "columns": [
        {
         "name": "index",
         "rawType": "int64",
         "type": "integer"
        },
        {
         "name": "name",
         "rawType": "object",
         "type": "string"
        }
       ],
       "ref": "31eb86fa-4f4f-40d3-8a6d-3d00fbbcf8ca",
       "rows": [
        [
         "0",
         "Bill"
        ],
        [
         "1",
         "Jane"
        ],
        [
         "2",
         "Will"
        ],
        [
         "3",
         "Zack"
        ]
       ],
       "shape": {
        "columns": 1,
        "rows": 4
       }
      },
      "text/html": [
       "<div>\n",
       "<style scoped>\n",
       "    .dataframe tbody tr th:only-of-type {\n",
       "        vertical-align: middle;\n",
       "    }\n",
       "\n",
       "    .dataframe tbody tr th {\n",
       "        vertical-align: top;\n",
       "    }\n",
       "\n",
       "    .dataframe thead th {\n",
       "        text-align: right;\n",
       "    }\n",
       "</style>\n",
       "<table border=\"1\" class=\"dataframe\">\n",
       "  <thead>\n",
       "    <tr style=\"text-align: right;\">\n",
       "      <th></th>\n",
       "      <th>name</th>\n",
       "    </tr>\n",
       "  </thead>\n",
       "  <tbody>\n",
       "    <tr>\n",
       "      <th>0</th>\n",
       "      <td>Bill</td>\n",
       "    </tr>\n",
       "    <tr>\n",
       "      <th>1</th>\n",
       "      <td>Jane</td>\n",
       "    </tr>\n",
       "    <tr>\n",
       "      <th>2</th>\n",
       "      <td>Will</td>\n",
       "    </tr>\n",
       "    <tr>\n",
       "      <th>3</th>\n",
       "      <td>Zack</td>\n",
       "    </tr>\n",
       "  </tbody>\n",
       "</table>\n",
       "</div>"
      ],
      "text/plain": [
       "   name\n",
       "0  Bill\n",
       "1  Jane\n",
       "2  Will\n",
       "3  Zack"
      ]
     },
     "execution_count": 38,
     "metadata": {},
     "output_type": "execute_result"
    }
   ],
   "source": [
    "sql = \"\"\"--sql\n",
    "SELECT\n",
    "    c.name\n",
    "FROM\n",
    "    Customer c\n",
    "WHERE\n",
    "    c.referee_id != 2\n",
    "    OR c.referee_id IS NULL\n",
    "ORDER BY\n",
    "    c.name;\n",
    "\"\"\"\n",
    "select(sql)"
   ]
  },
  {
   "cell_type": "markdown",
   "id": "a2ee3fd6",
   "metadata": {},
   "source": [
    "### 585. Investments in 2016 (Med.)\n",
    "\n",
    "Write a solution to report the sum of all total investment values in 2016 tiv_2016, for all policyholders who:\n",
    "\n",
    "- have the same tiv_2015 value as one or more other policyholders, and\n",
    "- are not located in the same city as any other policyholder (i.e., the (lat, lon) attribute pairs must be unique).\n",
    "\n",
    "Round tiv_2016 to two decimal places.\n"
   ]
  },
  {
   "cell_type": "code",
   "execution_count": 39,
   "id": "4e6ec9ea",
   "metadata": {},
   "outputs": [],
   "source": [
    "sql_schema = \"\"\"\n",
    "Drop table If Exists Insurance\n",
    "Create Table If Not Exists Insurance (pid int, tiv_2015 float, tiv_2016 float, lat float, lon float)\n",
    "insert into Insurance (pid, tiv_2015, tiv_2016, lat, lon) values ('1', '10', '5', '10', '10')\n",
    "insert into Insurance (pid, tiv_2015, tiv_2016, lat, lon) values ('2', '20', '20', '20', '20')\n",
    "insert into Insurance (pid, tiv_2015, tiv_2016, lat, lon) values ('3', '10', '30', '20', '20')\n",
    "insert into Insurance (pid, tiv_2015, tiv_2016, lat, lon) values ('4', '10', '40', '40', '40')\n",
    "\"\"\"\n",
    "execute_formatted_sqlite(sql_schema)"
   ]
  },
  {
   "cell_type": "code",
   "execution_count": 40,
   "id": "a6055762",
   "metadata": {},
   "outputs": [
    {
     "data": {
      "application/vnd.microsoft.datawrangler.viewer.v0+json": {
       "columns": [
        {
         "name": "index",
         "rawType": "int64",
         "type": "integer"
        },
        {
         "name": "tiv_2016",
         "rawType": "float64",
         "type": "float"
        }
       ],
       "ref": "fe1e2a39-5d09-4c45-bd87-d788c144cd3d",
       "rows": [
        [
         "0",
         "45.0"
        ]
       ],
       "shape": {
        "columns": 1,
        "rows": 1
       }
      },
      "text/html": [
       "<div>\n",
       "<style scoped>\n",
       "    .dataframe tbody tr th:only-of-type {\n",
       "        vertical-align: middle;\n",
       "    }\n",
       "\n",
       "    .dataframe tbody tr th {\n",
       "        vertical-align: top;\n",
       "    }\n",
       "\n",
       "    .dataframe thead th {\n",
       "        text-align: right;\n",
       "    }\n",
       "</style>\n",
       "<table border=\"1\" class=\"dataframe\">\n",
       "  <thead>\n",
       "    <tr style=\"text-align: right;\">\n",
       "      <th></th>\n",
       "      <th>tiv_2016</th>\n",
       "    </tr>\n",
       "  </thead>\n",
       "  <tbody>\n",
       "    <tr>\n",
       "      <th>0</th>\n",
       "      <td>45.0</td>\n",
       "    </tr>\n",
       "  </tbody>\n",
       "</table>\n",
       "</div>"
      ],
      "text/plain": [
       "   tiv_2016\n",
       "0      45.0"
      ]
     },
     "execution_count": 40,
     "metadata": {},
     "output_type": "execute_result"
    }
   ],
   "source": [
    "# И опять же в PostgreSQL нужно было бы tiv_2016 привести к numeric, т.к. по умолчанию SUM() возращает\n",
    "# результат в double precision, а ROUND() работает только с numeric: ROUND(SUM(i.tiv_2016)::numeric, 2).\n",
    "# JOIN работает быстрее IN, поэтому лучше использовать его вместо WHERE с поиском по IN.\n",
    "# INNER join - логический аналог WHERE ... IN.\n",
    "sql = \"\"\"--sql\n",
    "SELECT\n",
    "    ROUND(SUM(i.tiv_2016), 2) AS tiv_2016\n",
    "FROM\n",
    "    Insurance i\n",
    "    INNER JOIN (\n",
    "        SELECT\n",
    "            tiv_2015\n",
    "        FROM\n",
    "            Insurance\n",
    "        GROUP BY\n",
    "            tiv_2015\n",
    "        HAVING\n",
    "            COUNT(*) > 1\n",
    "    ) i1 ON i.tiv_2015 = i1.tiv_2015\n",
    "    INNER JOIN (\n",
    "        SELECT\n",
    "            i2.lat,\n",
    "            i2.lon\n",
    "        FROM\n",
    "            Insurance i2\n",
    "        GROUP BY\n",
    "            i2.lat,\n",
    "            i2.lon\n",
    "        HAVING\n",
    "            COUNT(*) = 1\n",
    "    ) i2 ON i.lat = i2.lat\n",
    "    AND i.lon = i2.lon;\n",
    "\"\"\"\n",
    "select(sql)"
   ]
  },
  {
   "cell_type": "markdown",
   "id": "4059ddc7",
   "metadata": {},
   "source": [
    "### 586. Customer Placing the Largest Number of Orders (Easy)\n",
    "\n",
    "Write a solution to find the customer_number for the customer who has placed the largest number of orders.\n",
    "\n",
    "The test cases are generated so that exactly one customer will have placed more orders than any other customer.\n"
   ]
  },
  {
   "cell_type": "code",
   "execution_count": 41,
   "id": "dbe6c517",
   "metadata": {},
   "outputs": [],
   "source": [
    "sql_schema = \"\"\"\n",
    "Drop table If Exists orders\n",
    "Create table If Not Exists orders (order_number int, customer_number int)\n",
    "insert into orders (order_number, customer_number) values ('1', '1')\n",
    "insert into orders (order_number, customer_number) values ('2', '2')\n",
    "insert into orders (order_number, customer_number) values ('3', '3')\n",
    "insert into orders (order_number, customer_number) values ('4', '3')\n",
    "\"\"\"\n",
    "execute_formatted_sqlite(sql_schema)"
   ]
  },
  {
   "cell_type": "code",
   "execution_count": 42,
   "id": "41bf7df1",
   "metadata": {},
   "outputs": [
    {
     "data": {
      "application/vnd.microsoft.datawrangler.viewer.v0+json": {
       "columns": [
        {
         "name": "index",
         "rawType": "int64",
         "type": "integer"
        },
        {
         "name": "customer_number",
         "rawType": "int64",
         "type": "integer"
        }
       ],
       "ref": "daf8a97c-6cea-4777-8b1d-930673385d54",
       "rows": [
        [
         "0",
         "3"
        ]
       ],
       "shape": {
        "columns": 1,
        "rows": 1
       }
      },
      "text/html": [
       "<div>\n",
       "<style scoped>\n",
       "    .dataframe tbody tr th:only-of-type {\n",
       "        vertical-align: middle;\n",
       "    }\n",
       "\n",
       "    .dataframe tbody tr th {\n",
       "        vertical-align: top;\n",
       "    }\n",
       "\n",
       "    .dataframe thead th {\n",
       "        text-align: right;\n",
       "    }\n",
       "</style>\n",
       "<table border=\"1\" class=\"dataframe\">\n",
       "  <thead>\n",
       "    <tr style=\"text-align: right;\">\n",
       "      <th></th>\n",
       "      <th>customer_number</th>\n",
       "    </tr>\n",
       "  </thead>\n",
       "  <tbody>\n",
       "    <tr>\n",
       "      <th>0</th>\n",
       "      <td>3</td>\n",
       "    </tr>\n",
       "  </tbody>\n",
       "</table>\n",
       "</div>"
      ],
      "text/plain": [
       "   customer_number\n",
       "0                3"
      ]
     },
     "execution_count": 42,
     "metadata": {},
     "output_type": "execute_result"
    }
   ],
   "source": [
    "sql = \"\"\"--sql\n",
    "SELECT\n",
    "    o.customer_number\n",
    "FROM\n",
    "    orders o\n",
    "GROUP BY\n",
    "    o.customer_number\n",
    "ORDER BY\n",
    "    COUNT(o.order_number) DESC\n",
    "LIMIT\n",
    "    1;\n",
    "\"\"\"\n",
    "select(sql)"
   ]
  },
  {
   "cell_type": "markdown",
   "id": "de38c63b",
   "metadata": {},
   "source": [
    "### 595. Big Countries (Easy)\n",
    "\n",
    "A country is big if:\n",
    "\n",
    "- it has an area of at least three million (i.e., 3000000 km2), or\n",
    "- it has a population of at least twenty-five million (i.e., 25000000).\n",
    "\n",
    "Write a solution to find the name, population, and area of the big countries.\n"
   ]
  },
  {
   "cell_type": "code",
   "execution_count": 43,
   "id": "ba8def99",
   "metadata": {},
   "outputs": [],
   "source": [
    "sql_schema = \"\"\"\n",
    "Drop table If Exists World\n",
    "Create table If Not Exists World (name varchar(255), continent varchar(255), area int, population int, gdp bigint)\n",
    "insert into World (name, continent, area, population, gdp) values ('Afghanistan', 'Asia', '652230', '25500100', '20343000000')\n",
    "insert into World (name, continent, area, population, gdp) values ('Albania', 'Europe', '28748', '2831741', '12960000000')\n",
    "insert into World (name, continent, area, population, gdp) values ('Algeria', 'Africa', '2381741', '37100000', '188681000000')\n",
    "insert into World (name, continent, area, population, gdp) values ('Andorra', 'Europe', '468', '78115', '3712000000')\n",
    "insert into World (name, continent, area, population, gdp) values ('Angola', 'Africa', '1246700', '20609294', '100990000000')\n",
    "\"\"\"\n",
    "execute_formatted_sqlite(sql_schema)"
   ]
  },
  {
   "cell_type": "code",
   "execution_count": 44,
   "id": "312c85d8",
   "metadata": {},
   "outputs": [
    {
     "data": {
      "application/vnd.microsoft.datawrangler.viewer.v0+json": {
       "columns": [
        {
         "name": "index",
         "rawType": "int64",
         "type": "integer"
        },
        {
         "name": "name",
         "rawType": "object",
         "type": "string"
        },
        {
         "name": "population",
         "rawType": "int64",
         "type": "integer"
        },
        {
         "name": "area",
         "rawType": "int64",
         "type": "integer"
        }
       ],
       "ref": "ae5e43b1-ed95-42ef-a18b-ca4d956f0337",
       "rows": [
        [
         "0",
         "Afghanistan",
         "25500100",
         "652230"
        ],
        [
         "1",
         "Algeria",
         "37100000",
         "2381741"
        ]
       ],
       "shape": {
        "columns": 3,
        "rows": 2
       }
      },
      "text/html": [
       "<div>\n",
       "<style scoped>\n",
       "    .dataframe tbody tr th:only-of-type {\n",
       "        vertical-align: middle;\n",
       "    }\n",
       "\n",
       "    .dataframe tbody tr th {\n",
       "        vertical-align: top;\n",
       "    }\n",
       "\n",
       "    .dataframe thead th {\n",
       "        text-align: right;\n",
       "    }\n",
       "</style>\n",
       "<table border=\"1\" class=\"dataframe\">\n",
       "  <thead>\n",
       "    <tr style=\"text-align: right;\">\n",
       "      <th></th>\n",
       "      <th>name</th>\n",
       "      <th>population</th>\n",
       "      <th>area</th>\n",
       "    </tr>\n",
       "  </thead>\n",
       "  <tbody>\n",
       "    <tr>\n",
       "      <th>0</th>\n",
       "      <td>Afghanistan</td>\n",
       "      <td>25500100</td>\n",
       "      <td>652230</td>\n",
       "    </tr>\n",
       "    <tr>\n",
       "      <th>1</th>\n",
       "      <td>Algeria</td>\n",
       "      <td>37100000</td>\n",
       "      <td>2381741</td>\n",
       "    </tr>\n",
       "  </tbody>\n",
       "</table>\n",
       "</div>"
      ],
      "text/plain": [
       "          name  population     area\n",
       "0  Afghanistan    25500100   652230\n",
       "1      Algeria    37100000  2381741"
      ]
     },
     "execution_count": 44,
     "metadata": {},
     "output_type": "execute_result"
    }
   ],
   "source": [
    "sql = \"\"\"--sql\n",
    "SELECT\n",
    "    w.name,\n",
    "    w.population,\n",
    "    w.area\n",
    "FROM\n",
    "    World w\n",
    "WHERE\n",
    "    w.area >= 3000000\n",
    "    OR w.population >= 25000000\n",
    "ORDER BY\n",
    "    w.name;\n",
    "\"\"\"\n",
    "select(sql)"
   ]
  },
  {
   "cell_type": "markdown",
   "id": "3489eac4",
   "metadata": {},
   "source": [
    "### 596. Classes With at Least 5 Students (Easy)\n",
    "\n",
    "Write a solution to find all the classes that have at least five students.\n"
   ]
  },
  {
   "cell_type": "code",
   "execution_count": 45,
   "id": "63dc7fb0",
   "metadata": {},
   "outputs": [],
   "source": [
    "sql_schema = \"\"\"\n",
    "Drop table If Exists Courses\n",
    "Create table If Not Exists Courses (student varchar(255), class varchar(255))\n",
    "insert into Courses (student, class) values ('A', 'Math')\n",
    "insert into Courses (student, class) values ('B', 'English')\n",
    "insert into Courses (student, class) values ('C', 'Math')\n",
    "insert into Courses (student, class) values ('D', 'Biology')\n",
    "insert into Courses (student, class) values ('E', 'Math')\n",
    "insert into Courses (student, class) values ('F', 'Computer')\n",
    "insert into Courses (student, class) values ('G', 'Math')\n",
    "insert into Courses (student, class) values ('H', 'Math')\n",
    "insert into Courses (student, class) values ('I', 'Math')\n",
    "\"\"\"\n",
    "execute_formatted_sqlite(sql_schema)"
   ]
  },
  {
   "cell_type": "code",
   "execution_count": 46,
   "id": "1621b2b4",
   "metadata": {},
   "outputs": [
    {
     "data": {
      "application/vnd.microsoft.datawrangler.viewer.v0+json": {
       "columns": [
        {
         "name": "index",
         "rawType": "int64",
         "type": "integer"
        },
        {
         "name": "class",
         "rawType": "object",
         "type": "string"
        }
       ],
       "ref": "608cdaeb-cc60-481e-9bb3-a5083b04cb53",
       "rows": [
        [
         "0",
         "Math"
        ]
       ],
       "shape": {
        "columns": 1,
        "rows": 1
       }
      },
      "text/html": [
       "<div>\n",
       "<style scoped>\n",
       "    .dataframe tbody tr th:only-of-type {\n",
       "        vertical-align: middle;\n",
       "    }\n",
       "\n",
       "    .dataframe tbody tr th {\n",
       "        vertical-align: top;\n",
       "    }\n",
       "\n",
       "    .dataframe thead th {\n",
       "        text-align: right;\n",
       "    }\n",
       "</style>\n",
       "<table border=\"1\" class=\"dataframe\">\n",
       "  <thead>\n",
       "    <tr style=\"text-align: right;\">\n",
       "      <th></th>\n",
       "      <th>class</th>\n",
       "    </tr>\n",
       "  </thead>\n",
       "  <tbody>\n",
       "    <tr>\n",
       "      <th>0</th>\n",
       "      <td>Math</td>\n",
       "    </tr>\n",
       "  </tbody>\n",
       "</table>\n",
       "</div>"
      ],
      "text/plain": [
       "  class\n",
       "0  Math"
      ]
     },
     "execution_count": 46,
     "metadata": {},
     "output_type": "execute_result"
    }
   ],
   "source": [
    "sql = \"\"\"--sql\n",
    "SELECT\n",
    "    c.class\n",
    "FROM\n",
    "    Courses c\n",
    "GROUP BY\n",
    "    c.class\n",
    "HAVING\n",
    "    COUNT(*) >= 5\n",
    "ORDER BY\n",
    "    c.class;\n",
    "\"\"\"\n",
    "select(sql)"
   ]
  },
  {
   "cell_type": "markdown",
   "id": "a15cdc60",
   "metadata": {},
   "source": [
    "### 601. Human Traffic of Stadium (Hard)\n",
    "\n",
    "Write a solution to display the records with three or more rows with consecutive id's, and the number of people is greater than or equal to 100 for each.\n",
    "\n",
    "Return the result table ordered by visit_date in ascending order.\n"
   ]
  },
  {
   "cell_type": "code",
   "execution_count": 47,
   "id": "b635bc3c",
   "metadata": {},
   "outputs": [],
   "source": [
    "sql_schema = \"\"\"\n",
    "Drop table If Exists Stadium\n",
    "Create table If Not Exists Stadium (id int, visit_date DATE NULL, people int)\n",
    "insert into Stadium (id, visit_date, people) values ('1', '2017-01-01', '10')\n",
    "insert into Stadium (id, visit_date, people) values ('2', '2017-01-02', '109')\n",
    "insert into Stadium (id, visit_date, people) values ('3', '2017-01-03', '150')\n",
    "insert into Stadium (id, visit_date, people) values ('4', '2017-01-04', '99')\n",
    "insert into Stadium (id, visit_date, people) values ('5', '2017-01-05', '145')\n",
    "insert into Stadium (id, visit_date, people) values ('6', '2017-01-06', '1455')\n",
    "insert into Stadium (id, visit_date, people) values ('7', '2017-01-07', '199')\n",
    "insert into Stadium (id, visit_date, people) values ('8', '2017-01-09', '188')\n",
    "\"\"\"\n",
    "execute_formatted_sqlite(sql_schema)"
   ]
  },
  {
   "cell_type": "code",
   "execution_count": 48,
   "id": "683e4ee5",
   "metadata": {},
   "outputs": [
    {
     "data": {
      "application/vnd.microsoft.datawrangler.viewer.v0+json": {
       "columns": [
        {
         "name": "index",
         "rawType": "int64",
         "type": "integer"
        },
        {
         "name": "id",
         "rawType": "int64",
         "type": "integer"
        },
        {
         "name": "visit_date",
         "rawType": "object",
         "type": "string"
        },
        {
         "name": "people",
         "rawType": "int64",
         "type": "integer"
        }
       ],
       "ref": "6712ecd5-723b-45de-b282-26f416bc567b",
       "rows": [
        [
         "0",
         "5",
         "2017-01-05",
         "145"
        ],
        [
         "1",
         "6",
         "2017-01-06",
         "1455"
        ],
        [
         "2",
         "7",
         "2017-01-07",
         "199"
        ],
        [
         "3",
         "8",
         "2017-01-09",
         "188"
        ]
       ],
       "shape": {
        "columns": 3,
        "rows": 4
       }
      },
      "text/html": [
       "<div>\n",
       "<style scoped>\n",
       "    .dataframe tbody tr th:only-of-type {\n",
       "        vertical-align: middle;\n",
       "    }\n",
       "\n",
       "    .dataframe tbody tr th {\n",
       "        vertical-align: top;\n",
       "    }\n",
       "\n",
       "    .dataframe thead th {\n",
       "        text-align: right;\n",
       "    }\n",
       "</style>\n",
       "<table border=\"1\" class=\"dataframe\">\n",
       "  <thead>\n",
       "    <tr style=\"text-align: right;\">\n",
       "      <th></th>\n",
       "      <th>id</th>\n",
       "      <th>visit_date</th>\n",
       "      <th>people</th>\n",
       "    </tr>\n",
       "  </thead>\n",
       "  <tbody>\n",
       "    <tr>\n",
       "      <th>0</th>\n",
       "      <td>5</td>\n",
       "      <td>2017-01-05</td>\n",
       "      <td>145</td>\n",
       "    </tr>\n",
       "    <tr>\n",
       "      <th>1</th>\n",
       "      <td>6</td>\n",
       "      <td>2017-01-06</td>\n",
       "      <td>1455</td>\n",
       "    </tr>\n",
       "    <tr>\n",
       "      <th>2</th>\n",
       "      <td>7</td>\n",
       "      <td>2017-01-07</td>\n",
       "      <td>199</td>\n",
       "    </tr>\n",
       "    <tr>\n",
       "      <th>3</th>\n",
       "      <td>8</td>\n",
       "      <td>2017-01-09</td>\n",
       "      <td>188</td>\n",
       "    </tr>\n",
       "  </tbody>\n",
       "</table>\n",
       "</div>"
      ],
      "text/plain": [
       "   id  visit_date  people\n",
       "0   5  2017-01-05     145\n",
       "1   6  2017-01-06    1455\n",
       "2   7  2017-01-07     199\n",
       "3   8  2017-01-09     188"
      ]
     },
     "execution_count": 48,
     "metadata": {},
     "output_type": "execute_result"
    }
   ],
   "source": [
    "sql = \"\"\"--sql\n",
    "WITH\n",
    "    stadium_rank AS (\n",
    "        SELECT\n",
    "            s.*,\n",
    "            s.id - ROW_NUMBER() OVER (\n",
    "                ORDER BY\n",
    "                    s.id\n",
    "            ) AS rnk\n",
    "        FROM\n",
    "            Stadium s\n",
    "        WHERE\n",
    "            s.people >= 100\n",
    "    )\n",
    "SELECT\n",
    "    sr.id,\n",
    "    sr.visit_date,\n",
    "    sr.people\n",
    "FROM\n",
    "    stadium_rank sr\n",
    "WHERE\n",
    "    sr.rnk IN (\n",
    "        SELECT\n",
    "            rnk\n",
    "        FROM\n",
    "            stadium_rank\n",
    "        GROUP BY\n",
    "            rnk\n",
    "        HAVING\n",
    "            COUNT(*) >= 3\n",
    "    )\n",
    "ORDER BY\n",
    "    sr.visit_date;\n",
    "\"\"\"\n",
    "select(sql)"
   ]
  },
  {
   "cell_type": "markdown",
   "id": "5e177d2e",
   "metadata": {},
   "source": [
    "### 602. Friend Requests II: Who Has the Most Friends (Med.)\n",
    "\n",
    "Write a solution to find the people who have the most friends and the most friends number.\n",
    "\n",
    "The test cases are generated so that only one person has the most friends.\n"
   ]
  },
  {
   "cell_type": "code",
   "execution_count": 49,
   "id": "4cc3e6d5",
   "metadata": {},
   "outputs": [],
   "source": [
    "sql_schema = \"\"\"\n",
    "Drop table If Exists RequestAccepted\n",
    "Create table If Not Exists RequestAccepted (requester_id int not null, accepter_id int null, accept_date date null)\n",
    "insert into RequestAccepted (requester_id, accepter_id, accept_date) values ('1', '2', '2016/06/03')\n",
    "insert into RequestAccepted (requester_id, accepter_id, accept_date) values ('1', '3', '2016/06/08')\n",
    "insert into RequestAccepted (requester_id, accepter_id, accept_date) values ('2', '3', '2016/06/08')\n",
    "insert into RequestAccepted (requester_id, accepter_id, accept_date) values ('3', '4', '2016/06/09')\n",
    "\"\"\"\n",
    "execute_formatted_sqlite(sql_schema)"
   ]
  },
  {
   "cell_type": "code",
   "execution_count": 50,
   "id": "31f39edb",
   "metadata": {},
   "outputs": [
    {
     "data": {
      "application/vnd.microsoft.datawrangler.viewer.v0+json": {
       "columns": [
        {
         "name": "index",
         "rawType": "int64",
         "type": "integer"
        },
        {
         "name": "id",
         "rawType": "int64",
         "type": "integer"
        },
        {
         "name": "num",
         "rawType": "int64",
         "type": "integer"
        }
       ],
       "ref": "8f33e3a8-0ab1-48be-909c-34158824c9f7",
       "rows": [
        [
         "0",
         "3",
         "3"
        ]
       ],
       "shape": {
        "columns": 2,
        "rows": 1
       }
      },
      "text/html": [
       "<div>\n",
       "<style scoped>\n",
       "    .dataframe tbody tr th:only-of-type {\n",
       "        vertical-align: middle;\n",
       "    }\n",
       "\n",
       "    .dataframe tbody tr th {\n",
       "        vertical-align: top;\n",
       "    }\n",
       "\n",
       "    .dataframe thead th {\n",
       "        text-align: right;\n",
       "    }\n",
       "</style>\n",
       "<table border=\"1\" class=\"dataframe\">\n",
       "  <thead>\n",
       "    <tr style=\"text-align: right;\">\n",
       "      <th></th>\n",
       "      <th>id</th>\n",
       "      <th>num</th>\n",
       "    </tr>\n",
       "  </thead>\n",
       "  <tbody>\n",
       "    <tr>\n",
       "      <th>0</th>\n",
       "      <td>3</td>\n",
       "      <td>3</td>\n",
       "    </tr>\n",
       "  </tbody>\n",
       "</table>\n",
       "</div>"
      ],
      "text/plain": [
       "   id  num\n",
       "0   3    3"
      ]
     },
     "execution_count": 50,
     "metadata": {},
     "output_type": "execute_result"
    }
   ],
   "source": [
    "sql = \"\"\"--sql\n",
    "SELECT\n",
    "    u.id,\n",
    "    COUNT(*) AS num\n",
    "FROM\n",
    "    (\n",
    "        SELECT\n",
    "            r.requester_id AS id\n",
    "        FROM\n",
    "            RequestAccepted r\n",
    "        UNION ALL\n",
    "        SELECT\n",
    "            r.accepter_id AS id\n",
    "        FROM\n",
    "            RequestAccepted r\n",
    "    ) u\n",
    "GROUP BY\n",
    "    u.id\n",
    "ORDER BY\n",
    "    num DESC\n",
    "LIMIT\n",
    "    1;\n",
    "\"\"\"\n",
    "select(sql)"
   ]
  },
  {
   "cell_type": "markdown",
   "id": "7b2df5e3",
   "metadata": {},
   "source": [
    "### 607. Sales Person (Easy)\n",
    "\n",
    "Write a solution to find the names of all the salespersons who did not have any orders related to the company with the name \"RED\".\n"
   ]
  },
  {
   "cell_type": "code",
   "execution_count": 51,
   "id": "0d1f512f",
   "metadata": {},
   "outputs": [],
   "source": [
    "sql_schema = \"\"\"\n",
    "Drop table If Exists SalesPerson\n",
    "Create table If Not Exists SalesPerson (sales_id int, name varchar(255), salary int, commission_rate int, hire_date date)\n",
    "insert into SalesPerson (sales_id, name, salary, commission_rate, hire_date) values ('1', 'John', '100000', '6', '4/1/2006')\n",
    "insert into SalesPerson (sales_id, name, salary, commission_rate, hire_date) values ('2', 'Amy', '12000', '5', '5/1/2010')\n",
    "insert into SalesPerson (sales_id, name, salary, commission_rate, hire_date) values ('3', 'Mark', '65000', '12', '12/25/2008')\n",
    "insert into SalesPerson (sales_id, name, salary, commission_rate, hire_date) values ('4', 'Pam', '25000', '25', '1/1/2005')\n",
    "insert into SalesPerson (sales_id, name, salary, commission_rate, hire_date) values ('5', 'Alex', '5000', '10', '2/3/2007')\n",
    "Drop table If Exists Company\n",
    "Create table If Not Exists Company (com_id int, name varchar(255), city varchar(255))\n",
    "insert into Company (com_id, name, city) values ('1', 'RED', 'Boston')\n",
    "insert into Company (com_id, name, city) values ('2', 'ORANGE', 'New York')\n",
    "insert into Company (com_id, name, city) values ('3', 'YELLOW', 'Boston')\n",
    "insert into Company (com_id, name, city) values ('4', 'GREEN', 'Austin')\n",
    "Drop table If Exists Orders\n",
    "Create table If Not Exists Orders (order_id int, order_date date, com_id int, sales_id int, amount int)\n",
    "insert into Orders (order_id, order_date, com_id, sales_id, amount) values ('1', '1/1/2014', '3', '4', '10000')\n",
    "insert into Orders (order_id, order_date, com_id, sales_id, amount) values ('2', '2/1/2014', '4', '5', '5000')\n",
    "insert into Orders (order_id, order_date, com_id, sales_id, amount) values ('3', '3/1/2014', '1', '1', '50000')\n",
    "insert into Orders (order_id, order_date, com_id, sales_id, amount) values ('4', '4/1/2014', '1', '4', '25000')\n",
    "\"\"\"\n",
    "execute_formatted_sqlite(sql_schema)"
   ]
  },
  {
   "cell_type": "code",
   "execution_count": 52,
   "id": "409fbad1",
   "metadata": {},
   "outputs": [
    {
     "data": {
      "application/vnd.microsoft.datawrangler.viewer.v0+json": {
       "columns": [
        {
         "name": "index",
         "rawType": "int64",
         "type": "integer"
        },
        {
         "name": "name",
         "rawType": "object",
         "type": "string"
        }
       ],
       "ref": "a3aacc5e-ddd4-4a93-9b0d-a3760b9c663a",
       "rows": [
        [
         "0",
         "Alex"
        ],
        [
         "1",
         "Amy"
        ],
        [
         "2",
         "Mark"
        ]
       ],
       "shape": {
        "columns": 1,
        "rows": 3
       }
      },
      "text/html": [
       "<div>\n",
       "<style scoped>\n",
       "    .dataframe tbody tr th:only-of-type {\n",
       "        vertical-align: middle;\n",
       "    }\n",
       "\n",
       "    .dataframe tbody tr th {\n",
       "        vertical-align: top;\n",
       "    }\n",
       "\n",
       "    .dataframe thead th {\n",
       "        text-align: right;\n",
       "    }\n",
       "</style>\n",
       "<table border=\"1\" class=\"dataframe\">\n",
       "  <thead>\n",
       "    <tr style=\"text-align: right;\">\n",
       "      <th></th>\n",
       "      <th>name</th>\n",
       "    </tr>\n",
       "  </thead>\n",
       "  <tbody>\n",
       "    <tr>\n",
       "      <th>0</th>\n",
       "      <td>Alex</td>\n",
       "    </tr>\n",
       "    <tr>\n",
       "      <th>1</th>\n",
       "      <td>Amy</td>\n",
       "    </tr>\n",
       "    <tr>\n",
       "      <th>2</th>\n",
       "      <td>Mark</td>\n",
       "    </tr>\n",
       "  </tbody>\n",
       "</table>\n",
       "</div>"
      ],
      "text/plain": [
       "   name\n",
       "0  Alex\n",
       "1   Amy\n",
       "2  Mark"
      ]
     },
     "execution_count": 52,
     "metadata": {},
     "output_type": "execute_result"
    }
   ],
   "source": [
    "sql = \"\"\"--sql\n",
    "SELECT\n",
    "    s.name\n",
    "FROM\n",
    "    SalesPerson s\n",
    "WHERE\n",
    "    NOT EXISTS (\n",
    "        SELECT\n",
    "            1\n",
    "        FROM\n",
    "            Orders o\n",
    "            INNER JOIN Company c ON o.com_id = c.com_id\n",
    "        WHERE\n",
    "            c.name = 'RED'\n",
    "            AND o.sales_id = s.sales_id\n",
    "    )\n",
    "ORDER BY\n",
    "    s.name;\n",
    "\"\"\"\n",
    "select(sql)"
   ]
  },
  {
   "cell_type": "markdown",
   "id": "157fce66",
   "metadata": {},
   "source": [
    "### 608. Tree Node (Med.)\n",
    "\n",
    "Each node in the tree can be one of three types:\n",
    "\n",
    "- \"Leaf\": if the node is a leaf node.\n",
    "- \"Root\": if the node is the root of the tree.\n",
    "- \"Inner\": If the node is neither a leaf node nor a root node.\n",
    "\n",
    "Write a solution to report the type of each node in the tree.\n"
   ]
  },
  {
   "cell_type": "code",
   "execution_count": 53,
   "id": "81742805",
   "metadata": {},
   "outputs": [],
   "source": [
    "sql_schema = \"\"\"\n",
    "Drop table If Exists Tree\n",
    "Create table If Not Exists Tree (id int, p_id int)\n",
    "insert into Tree (id, p_id) values ('1', NULL)\n",
    "insert into Tree (id, p_id) values ('2', '1')\n",
    "insert into Tree (id, p_id) values ('3', '1')\n",
    "insert into Tree (id, p_id) values ('4', '2')\n",
    "insert into Tree (id, p_id) values ('5', '2')\n",
    "\"\"\"\n",
    "execute_formatted_sqlite(sql_schema)"
   ]
  },
  {
   "cell_type": "code",
   "execution_count": 54,
   "id": "3b265710",
   "metadata": {},
   "outputs": [
    {
     "data": {
      "application/vnd.microsoft.datawrangler.viewer.v0+json": {
       "columns": [
        {
         "name": "index",
         "rawType": "int64",
         "type": "integer"
        },
        {
         "name": "id",
         "rawType": "int64",
         "type": "integer"
        },
        {
         "name": "TYPE",
         "rawType": "object",
         "type": "string"
        }
       ],
       "ref": "d6551932-e441-43f6-90c1-a3e876ef2a1e",
       "rows": [
        [
         "0",
         "1",
         "Root"
        ],
        [
         "1",
         "2",
         "Inner"
        ],
        [
         "2",
         "3",
         "Leaf"
        ],
        [
         "3",
         "4",
         "Leaf"
        ],
        [
         "4",
         "5",
         "Leaf"
        ]
       ],
       "shape": {
        "columns": 2,
        "rows": 5
       }
      },
      "text/html": [
       "<div>\n",
       "<style scoped>\n",
       "    .dataframe tbody tr th:only-of-type {\n",
       "        vertical-align: middle;\n",
       "    }\n",
       "\n",
       "    .dataframe tbody tr th {\n",
       "        vertical-align: top;\n",
       "    }\n",
       "\n",
       "    .dataframe thead th {\n",
       "        text-align: right;\n",
       "    }\n",
       "</style>\n",
       "<table border=\"1\" class=\"dataframe\">\n",
       "  <thead>\n",
       "    <tr style=\"text-align: right;\">\n",
       "      <th></th>\n",
       "      <th>id</th>\n",
       "      <th>TYPE</th>\n",
       "    </tr>\n",
       "  </thead>\n",
       "  <tbody>\n",
       "    <tr>\n",
       "      <th>0</th>\n",
       "      <td>1</td>\n",
       "      <td>Root</td>\n",
       "    </tr>\n",
       "    <tr>\n",
       "      <th>1</th>\n",
       "      <td>2</td>\n",
       "      <td>Inner</td>\n",
       "    </tr>\n",
       "    <tr>\n",
       "      <th>2</th>\n",
       "      <td>3</td>\n",
       "      <td>Leaf</td>\n",
       "    </tr>\n",
       "    <tr>\n",
       "      <th>3</th>\n",
       "      <td>4</td>\n",
       "      <td>Leaf</td>\n",
       "    </tr>\n",
       "    <tr>\n",
       "      <th>4</th>\n",
       "      <td>5</td>\n",
       "      <td>Leaf</td>\n",
       "    </tr>\n",
       "  </tbody>\n",
       "</table>\n",
       "</div>"
      ],
      "text/plain": [
       "   id   TYPE\n",
       "0   1   Root\n",
       "1   2  Inner\n",
       "2   3   Leaf\n",
       "3   4   Leaf\n",
       "4   5   Leaf"
      ]
     },
     "execution_count": 54,
     "metadata": {},
     "output_type": "execute_result"
    }
   ],
   "source": [
    "sql = \"\"\"--sql\n",
    "SELECT\n",
    "    t.id,\n",
    "    CASE\n",
    "        WHEN t.p_id IS NULL THEN 'Root'\n",
    "        WHEN EXISTS (\n",
    "            SELECT\n",
    "                1\n",
    "            FROM\n",
    "                Tree\n",
    "            WHERE\n",
    "                t.id = Tree.p_id\n",
    "        ) THEN 'Inner'\n",
    "        ELSE 'Leaf'\n",
    "    END AS\n",
    "TYPE\n",
    "FROM\n",
    "    Tree t;\n",
    "\"\"\"\n",
    "select(sql)"
   ]
  },
  {
   "cell_type": "markdown",
   "id": "6fbefc46",
   "metadata": {},
   "source": [
    "### 610. Triangle Judgement (Easy)\n",
    "\n",
    "Report for every three line segments whether they can form a triangle.\n"
   ]
  },
  {
   "cell_type": "code",
   "execution_count": 55,
   "id": "a8e59117",
   "metadata": {},
   "outputs": [],
   "source": [
    "sql_schema = \"\"\"\n",
    "Drop table If Exists Triangle\n",
    "Create table If Not Exists Triangle (x int, y int, z int)\n",
    "insert into Triangle (x, y, z) values ('13', '15', '30')\n",
    "insert into Triangle (x, y, z) values ('10', '20', '15')\n",
    "\"\"\"\n",
    "execute_formatted_sqlite(sql_schema)"
   ]
  },
  {
   "cell_type": "code",
   "execution_count": 56,
   "id": "99efdba4",
   "metadata": {},
   "outputs": [
    {
     "data": {
      "application/vnd.microsoft.datawrangler.viewer.v0+json": {
       "columns": [
        {
         "name": "index",
         "rawType": "int64",
         "type": "integer"
        },
        {
         "name": "x",
         "rawType": "int64",
         "type": "integer"
        },
        {
         "name": "y",
         "rawType": "int64",
         "type": "integer"
        },
        {
         "name": "z",
         "rawType": "int64",
         "type": "integer"
        },
        {
         "name": "triangle",
         "rawType": "object",
         "type": "string"
        }
       ],
       "ref": "85d2b8d0-2a7c-41d3-960b-6e803c06dd2a",
       "rows": [
        [
         "0",
         "13",
         "15",
         "30",
         "No"
        ],
        [
         "1",
         "10",
         "20",
         "15",
         "Yes"
        ]
       ],
       "shape": {
        "columns": 4,
        "rows": 2
       }
      },
      "text/html": [
       "<div>\n",
       "<style scoped>\n",
       "    .dataframe tbody tr th:only-of-type {\n",
       "        vertical-align: middle;\n",
       "    }\n",
       "\n",
       "    .dataframe tbody tr th {\n",
       "        vertical-align: top;\n",
       "    }\n",
       "\n",
       "    .dataframe thead th {\n",
       "        text-align: right;\n",
       "    }\n",
       "</style>\n",
       "<table border=\"1\" class=\"dataframe\">\n",
       "  <thead>\n",
       "    <tr style=\"text-align: right;\">\n",
       "      <th></th>\n",
       "      <th>x</th>\n",
       "      <th>y</th>\n",
       "      <th>z</th>\n",
       "      <th>triangle</th>\n",
       "    </tr>\n",
       "  </thead>\n",
       "  <tbody>\n",
       "    <tr>\n",
       "      <th>0</th>\n",
       "      <td>13</td>\n",
       "      <td>15</td>\n",
       "      <td>30</td>\n",
       "      <td>No</td>\n",
       "    </tr>\n",
       "    <tr>\n",
       "      <th>1</th>\n",
       "      <td>10</td>\n",
       "      <td>20</td>\n",
       "      <td>15</td>\n",
       "      <td>Yes</td>\n",
       "    </tr>\n",
       "  </tbody>\n",
       "</table>\n",
       "</div>"
      ],
      "text/plain": [
       "    x   y   z triangle\n",
       "0  13  15  30       No\n",
       "1  10  20  15      Yes"
      ]
     },
     "execution_count": 56,
     "metadata": {},
     "output_type": "execute_result"
    }
   ],
   "source": [
    "sql = \"\"\"--sql\n",
    "SELECT\n",
    "    t.x,\n",
    "    t.y,\n",
    "    t.z,\n",
    "    CASE\n",
    "        WHEN t.x < t.y + t.z\n",
    "        AND t.y < t.x + t.z\n",
    "        AND t.z < t.x + t.y THEN 'Yes'\n",
    "        ELSE 'No'\n",
    "    END AS triangle\n",
    "FROM\n",
    "    Triangle t;\n",
    "\"\"\"\n",
    "select(sql)"
   ]
  },
  {
   "cell_type": "markdown",
   "id": "cbd657b1",
   "metadata": {},
   "source": [
    "### 619. Biggest Single Number (Easy)\n",
    "\n",
    "A single number is a number that appeared only once in the MyNumbers table.\n",
    "\n",
    "Find the largest single number. If there is no single number, report null.\n"
   ]
  },
  {
   "cell_type": "code",
   "execution_count": 57,
   "id": "8e768f2d",
   "metadata": {},
   "outputs": [],
   "source": [
    "sql_schema = \"\"\"\n",
    "Drop table If Exists MyNumbers\n",
    "Create table If Not Exists MyNumbers (num int)\n",
    "insert into MyNumbers (num) values ('8')\n",
    "insert into MyNumbers (num) values ('8')\n",
    "insert into MyNumbers (num) values ('3')\n",
    "insert into MyNumbers (num) values ('3')\n",
    "insert into MyNumbers (num) values ('1')\n",
    "insert into MyNumbers (num) values ('4')\n",
    "insert into MyNumbers (num) values ('5')\n",
    "insert into MyNumbers (num) values ('6')\n",
    "\"\"\"\n",
    "execute_formatted_sqlite(sql_schema)"
   ]
  },
  {
   "cell_type": "code",
   "execution_count": 58,
   "id": "7f31e05d",
   "metadata": {},
   "outputs": [
    {
     "data": {
      "application/vnd.microsoft.datawrangler.viewer.v0+json": {
       "columns": [
        {
         "name": "index",
         "rawType": "int64",
         "type": "integer"
        },
        {
         "name": "num",
         "rawType": "int64",
         "type": "integer"
        }
       ],
       "ref": "c95f9420-cf3c-41c3-8d3d-2e8050ad3f33",
       "rows": [
        [
         "0",
         "6"
        ]
       ],
       "shape": {
        "columns": 1,
        "rows": 1
       }
      },
      "text/html": [
       "<div>\n",
       "<style scoped>\n",
       "    .dataframe tbody tr th:only-of-type {\n",
       "        vertical-align: middle;\n",
       "    }\n",
       "\n",
       "    .dataframe tbody tr th {\n",
       "        vertical-align: top;\n",
       "    }\n",
       "\n",
       "    .dataframe thead th {\n",
       "        text-align: right;\n",
       "    }\n",
       "</style>\n",
       "<table border=\"1\" class=\"dataframe\">\n",
       "  <thead>\n",
       "    <tr style=\"text-align: right;\">\n",
       "      <th></th>\n",
       "      <th>num</th>\n",
       "    </tr>\n",
       "  </thead>\n",
       "  <tbody>\n",
       "    <tr>\n",
       "      <th>0</th>\n",
       "      <td>6</td>\n",
       "    </tr>\n",
       "  </tbody>\n",
       "</table>\n",
       "</div>"
      ],
      "text/plain": [
       "   num\n",
       "0    6"
      ]
     },
     "execution_count": 58,
     "metadata": {},
     "output_type": "execute_result"
    }
   ],
   "source": [
    "# Тут нужно все же использовать подзапрос с агрегатной функцией, чтобы в случае отсутствия уникальных\n",
    "# значений вернулось именно NULL, т.к. если просто выбрать строки, например через DESC и LIMIT 1, то и\n",
    "# вернется пустая строка, а не значение NULL, как задано в условии.\n",
    "sql = \"\"\"--sql\n",
    "SELECT\n",
    "    MAX(m.num) AS num\n",
    "FROM\n",
    "    (\n",
    "        SELECT\n",
    "            n.num\n",
    "        FROM\n",
    "            MyNumbers n\n",
    "        GROUP BY\n",
    "            n.num\n",
    "        HAVING\n",
    "            COUNT(*) = 1\n",
    "    ) m;\n",
    "\"\"\"\n",
    "select(sql)"
   ]
  },
  {
   "cell_type": "markdown",
   "id": "9644f142",
   "metadata": {},
   "source": [
    "### 620. Not Boring Movies (Easy)\n",
    "\n",
    "Write a solution to report the movies with an odd-numbered ID and a description that is not \"boring\".\n",
    "\n",
    "Return the result table ordered by rating in descending order.\n"
   ]
  },
  {
   "cell_type": "code",
   "execution_count": 59,
   "id": "bad231ce",
   "metadata": {},
   "outputs": [],
   "source": [
    "sql_schema = \"\"\"\n",
    "Drop table If Exists cinema\n",
    "Create table If Not Exists cinema (id int, movie varchar(255), description varchar(255), rating float(2, 1))\n",
    "insert into cinema (id, movie, description, rating) values ('1', 'War', 'great 3D', '8.9')\n",
    "insert into cinema (id, movie, description, rating) values ('2', 'Science', 'fiction', '8.5')\n",
    "insert into cinema (id, movie, description, rating) values ('3', 'irish', 'boring', '6.2')\n",
    "insert into cinema (id, movie, description, rating) values ('4', 'Ice song', 'Fantacy', '8.6')\n",
    "insert into cinema (id, movie, description, rating) values ('5', 'House card', 'Interesting', '9.1')\n",
    "\"\"\"\n",
    "execute_formatted_sqlite(sql_schema)"
   ]
  },
  {
   "cell_type": "code",
   "execution_count": 60,
   "id": "4f11351c",
   "metadata": {},
   "outputs": [
    {
     "data": {
      "application/vnd.microsoft.datawrangler.viewer.v0+json": {
       "columns": [
        {
         "name": "index",
         "rawType": "int64",
         "type": "integer"
        },
        {
         "name": "id",
         "rawType": "int64",
         "type": "integer"
        },
        {
         "name": "movie",
         "rawType": "object",
         "type": "string"
        },
        {
         "name": "description",
         "rawType": "object",
         "type": "string"
        },
        {
         "name": "rating",
         "rawType": "float64",
         "type": "float"
        }
       ],
       "ref": "0221c1a7-f897-47b1-a572-f06d6870e5e7",
       "rows": [
        [
         "0",
         "5",
         "House card",
         "Interesting",
         "9.1"
        ],
        [
         "1",
         "1",
         "War",
         "great 3D",
         "8.9"
        ]
       ],
       "shape": {
        "columns": 4,
        "rows": 2
       }
      },
      "text/html": [
       "<div>\n",
       "<style scoped>\n",
       "    .dataframe tbody tr th:only-of-type {\n",
       "        vertical-align: middle;\n",
       "    }\n",
       "\n",
       "    .dataframe tbody tr th {\n",
       "        vertical-align: top;\n",
       "    }\n",
       "\n",
       "    .dataframe thead th {\n",
       "        text-align: right;\n",
       "    }\n",
       "</style>\n",
       "<table border=\"1\" class=\"dataframe\">\n",
       "  <thead>\n",
       "    <tr style=\"text-align: right;\">\n",
       "      <th></th>\n",
       "      <th>id</th>\n",
       "      <th>movie</th>\n",
       "      <th>description</th>\n",
       "      <th>rating</th>\n",
       "    </tr>\n",
       "  </thead>\n",
       "  <tbody>\n",
       "    <tr>\n",
       "      <th>0</th>\n",
       "      <td>5</td>\n",
       "      <td>House card</td>\n",
       "      <td>Interesting</td>\n",
       "      <td>9.1</td>\n",
       "    </tr>\n",
       "    <tr>\n",
       "      <th>1</th>\n",
       "      <td>1</td>\n",
       "      <td>War</td>\n",
       "      <td>great 3D</td>\n",
       "      <td>8.9</td>\n",
       "    </tr>\n",
       "  </tbody>\n",
       "</table>\n",
       "</div>"
      ],
      "text/plain": [
       "   id       movie  description  rating\n",
       "0   5  House card  Interesting     9.1\n",
       "1   1         War     great 3D     8.9"
      ]
     },
     "execution_count": 60,
     "metadata": {},
     "output_type": "execute_result"
    }
   ],
   "source": [
    "sql = \"\"\"--sql\n",
    "SELECT\n",
    "    c.*\n",
    "FROM\n",
    "    cinema c\n",
    "WHERE\n",
    "    c.id % 2 != 0\n",
    "    AND c.description != 'boring'\n",
    "ORDER BY\n",
    "    c.rating DESC;\n",
    "\"\"\"\n",
    "select(sql)"
   ]
  },
  {
   "cell_type": "markdown",
   "id": "d4233342",
   "metadata": {},
   "source": [
    "### 626. Exchange Seats (Med.)\n",
    "\n",
    "Write a solution to swap the seat id of every two consecutive students. If the number of students is odd, the id of the last student is not swapped.\n",
    "\n",
    "Return the result table ordered by id in ascending order.\n"
   ]
  },
  {
   "cell_type": "code",
   "execution_count": 61,
   "id": "4c3a4741",
   "metadata": {},
   "outputs": [],
   "source": [
    "sql_schema = \"\"\"\n",
    "Drop table If Exists Seat\n",
    "Create table If Not Exists Seat (id int, student varchar(255))\n",
    "insert into Seat (id, student) values ('1', 'Abbot')\n",
    "insert into Seat (id, student) values ('2', 'Doris')\n",
    "insert into Seat (id, student) values ('3', 'Emerson')\n",
    "insert into Seat (id, student) values ('4', 'Green')\n",
    "insert into Seat (id, student) values ('5', 'Jeames')\n",
    "\"\"\"\n",
    "execute_formatted_sqlite(sql_schema)"
   ]
  },
  {
   "cell_type": "code",
   "execution_count": 62,
   "id": "12f402b0",
   "metadata": {},
   "outputs": [
    {
     "data": {
      "application/vnd.microsoft.datawrangler.viewer.v0+json": {
       "columns": [
        {
         "name": "index",
         "rawType": "int64",
         "type": "integer"
        },
        {
         "name": "id",
         "rawType": "int64",
         "type": "integer"
        },
        {
         "name": "student",
         "rawType": "object",
         "type": "string"
        }
       ],
       "ref": "5d5d899d-28cb-43f9-b87d-3402d6213f5f",
       "rows": [
        [
         "0",
         "1",
         "Doris"
        ],
        [
         "1",
         "2",
         "Abbot"
        ],
        [
         "2",
         "3",
         "Green"
        ],
        [
         "3",
         "4",
         "Emerson"
        ],
        [
         "4",
         "5",
         "Jeames"
        ]
       ],
       "shape": {
        "columns": 2,
        "rows": 5
       }
      },
      "text/html": [
       "<div>\n",
       "<style scoped>\n",
       "    .dataframe tbody tr th:only-of-type {\n",
       "        vertical-align: middle;\n",
       "    }\n",
       "\n",
       "    .dataframe tbody tr th {\n",
       "        vertical-align: top;\n",
       "    }\n",
       "\n",
       "    .dataframe thead th {\n",
       "        text-align: right;\n",
       "    }\n",
       "</style>\n",
       "<table border=\"1\" class=\"dataframe\">\n",
       "  <thead>\n",
       "    <tr style=\"text-align: right;\">\n",
       "      <th></th>\n",
       "      <th>id</th>\n",
       "      <th>student</th>\n",
       "    </tr>\n",
       "  </thead>\n",
       "  <tbody>\n",
       "    <tr>\n",
       "      <th>0</th>\n",
       "      <td>1</td>\n",
       "      <td>Doris</td>\n",
       "    </tr>\n",
       "    <tr>\n",
       "      <th>1</th>\n",
       "      <td>2</td>\n",
       "      <td>Abbot</td>\n",
       "    </tr>\n",
       "    <tr>\n",
       "      <th>2</th>\n",
       "      <td>3</td>\n",
       "      <td>Green</td>\n",
       "    </tr>\n",
       "    <tr>\n",
       "      <th>3</th>\n",
       "      <td>4</td>\n",
       "      <td>Emerson</td>\n",
       "    </tr>\n",
       "    <tr>\n",
       "      <th>4</th>\n",
       "      <td>5</td>\n",
       "      <td>Jeames</td>\n",
       "    </tr>\n",
       "  </tbody>\n",
       "</table>\n",
       "</div>"
      ],
      "text/plain": [
       "   id  student\n",
       "0   1    Doris\n",
       "1   2    Abbot\n",
       "2   3    Green\n",
       "3   4  Emerson\n",
       "4   5   Jeames"
      ]
     },
     "execution_count": 62,
     "metadata": {},
     "output_type": "execute_result"
    }
   ],
   "source": [
    "# В CASE нужно использовать именно подзапрос для MAX(id), чтобы вытянуть именно максимальное значение\n",
    "# из таблицы и по нему сравнивать. Т.к. если AND s.id != MAX(s.id), то без группировки агрегатная функция\n",
    "# свернет результат всего блока CASE в одну строку и запрос вернет одну эту строку с максимальным id.\n",
    "sql = \"\"\"--sql\n",
    "SELECT\n",
    "    CASE\n",
    "        WHEN s.id % 2 = 1\n",
    "        AND s.id != (\n",
    "            SELECT\n",
    "                MAX(id)\n",
    "            FROM\n",
    "                Seat\n",
    "        ) THEN s.id + 1\n",
    "        WHEN s.id % 2 = 0 THEN s.id - 1\n",
    "        ELSE s.id\n",
    "    END AS id,\n",
    "    s.student\n",
    "FROM\n",
    "    Seat s\n",
    "ORDER BY\n",
    "    id;\n",
    "\"\"\"\n",
    "select(sql)"
   ]
  },
  {
   "cell_type": "markdown",
   "id": "8969b485",
   "metadata": {},
   "source": [
    "### 627. Swap Salary (Easy)\n",
    "\n",
    "Write a solution to swap all 'f' and 'm' values (i.e., change all 'f' values to 'm' and vice versa) with a single update statement and no intermediate temporary tables.\n",
    "\n",
    "Note that you must write a single update statement, do not write any select statement for this problem.\n"
   ]
  },
  {
   "cell_type": "code",
   "execution_count": 63,
   "id": "17fe1441",
   "metadata": {},
   "outputs": [],
   "source": [
    "sql_schema = \"\"\"\n",
    "Drop table If Exists Salary\n",
    "Create table If Not Exists Salary (id int, name varchar(100), sex char(1), salary int)\n",
    "insert into Salary (id, name, sex, salary) values ('1', 'A', 'm', '2500')\n",
    "insert into Salary (id, name, sex, salary) values ('2', 'B', 'f', '1500')\n",
    "insert into Salary (id, name, sex, salary) values ('3', 'C', 'm', '5500')\n",
    "insert into Salary (id, name, sex, salary) values ('4', 'D', 'f', '500')\n",
    "\"\"\"\n",
    "execute_formatted_sqlite(sql_schema)"
   ]
  },
  {
   "cell_type": "code",
   "execution_count": 64,
   "id": "52b1e0fb",
   "metadata": {},
   "outputs": [],
   "source": [
    "sql = \"\"\"--sql\n",
    "UPDATE Salary\n",
    "SET\n",
    "    sex = CASE\n",
    "        WHEN sex = 'f' THEN 'm'\n",
    "        ELSE 'f'\n",
    "    END;\n",
    "\"\"\"\n",
    "crud(sql)"
   ]
  },
  {
   "cell_type": "markdown",
   "id": "23806314",
   "metadata": {},
   "source": [
    "### 1045. Customers Who Bought All Products (Med.)\n",
    "\n",
    "Write a solution to report the customer ids from the Customer table that bought all the products in the Product table.\n"
   ]
  },
  {
   "cell_type": "code",
   "execution_count": 65,
   "id": "fef92e98",
   "metadata": {},
   "outputs": [],
   "source": [
    "sql_schema = \"\"\"\n",
    "Drop table If Exists Customer\n",
    "Create table If Not Exists Customer (customer_id int, product_key int)\n",
    "insert into Customer (customer_id, product_key) values ('1', '5')\n",
    "insert into Customer (customer_id, product_key) values ('2', '6')\n",
    "insert into Customer (customer_id, product_key) values ('3', '5')\n",
    "insert into Customer (customer_id, product_key) values ('3', '6')\n",
    "insert into Customer (customer_id, product_key) values ('1', '6')\n",
    "Drop table If Exists Product\n",
    "Create table Product (product_key int)\n",
    "insert into Product (product_key) values ('5')\n",
    "insert into Product (product_key) values ('6')\n",
    "\"\"\"\n",
    "execute_formatted_sqlite(sql_schema)"
   ]
  },
  {
   "cell_type": "code",
   "execution_count": 66,
   "id": "2507b2bc",
   "metadata": {},
   "outputs": [
    {
     "data": {
      "application/vnd.microsoft.datawrangler.viewer.v0+json": {
       "columns": [
        {
         "name": "index",
         "rawType": "int64",
         "type": "integer"
        },
        {
         "name": "customer_id",
         "rawType": "int64",
         "type": "integer"
        }
       ],
       "ref": "14f29bf3-d237-4a56-a489-06e5669b705a",
       "rows": [
        [
         "0",
         "1"
        ],
        [
         "1",
         "3"
        ]
       ],
       "shape": {
        "columns": 1,
        "rows": 2
       }
      },
      "text/html": [
       "<div>\n",
       "<style scoped>\n",
       "    .dataframe tbody tr th:only-of-type {\n",
       "        vertical-align: middle;\n",
       "    }\n",
       "\n",
       "    .dataframe tbody tr th {\n",
       "        vertical-align: top;\n",
       "    }\n",
       "\n",
       "    .dataframe thead th {\n",
       "        text-align: right;\n",
       "    }\n",
       "</style>\n",
       "<table border=\"1\" class=\"dataframe\">\n",
       "  <thead>\n",
       "    <tr style=\"text-align: right;\">\n",
       "      <th></th>\n",
       "      <th>customer_id</th>\n",
       "    </tr>\n",
       "  </thead>\n",
       "  <tbody>\n",
       "    <tr>\n",
       "      <th>0</th>\n",
       "      <td>1</td>\n",
       "    </tr>\n",
       "    <tr>\n",
       "      <th>1</th>\n",
       "      <td>3</td>\n",
       "    </tr>\n",
       "  </tbody>\n",
       "</table>\n",
       "</div>"
      ],
      "text/plain": [
       "   customer_id\n",
       "0            1\n",
       "1            3"
      ]
     },
     "execution_count": 66,
     "metadata": {},
     "output_type": "execute_result"
    }
   ],
   "source": [
    "sql = \"\"\"--sql\n",
    "SELECT\n",
    "    c.customer_id\n",
    "FROM\n",
    "    Customer c\n",
    "GROUP BY\n",
    "    c.customer_id\n",
    "HAVING\n",
    "    COUNT(DISTINCT c.product_key) = (\n",
    "        SELECT\n",
    "            COUNT(*)\n",
    "        FROM\n",
    "            Product\n",
    "    );\n",
    "\"\"\"\n",
    "select(sql)"
   ]
  },
  {
   "cell_type": "markdown",
   "id": "bece4940",
   "metadata": {},
   "source": [
    "### 1050. Actors and Directors Who Cooperated At Least Three Times (Easy)\n",
    "\n",
    "Write a solution to find all the pairs (actor_id, director_id) where the actor has cooperated with the director at least three times.\n"
   ]
  },
  {
   "cell_type": "code",
   "execution_count": 67,
   "id": "142658f3",
   "metadata": {},
   "outputs": [],
   "source": [
    "sql_schema = \"\"\"\n",
    "Drop table If Exists ActorDirector\n",
    "Create table If Not Exists ActorDirector (actor_id int, director_id int, timestamp int)\n",
    "insert into ActorDirector (actor_id, director_id, timestamp) values ('1', '1', '0')\n",
    "insert into ActorDirector (actor_id, director_id, timestamp) values ('1', '1', '1')\n",
    "insert into ActorDirector (actor_id, director_id, timestamp) values ('1', '1', '2')\n",
    "insert into ActorDirector (actor_id, director_id, timestamp) values ('1', '2', '3')\n",
    "insert into ActorDirector (actor_id, director_id, timestamp) values ('1', '2', '4')\n",
    "insert into ActorDirector (actor_id, director_id, timestamp) values ('2', '1', '5')\n",
    "insert into ActorDirector (actor_id, director_id, timestamp) values ('2', '1', '6')\n",
    "\"\"\"\n",
    "execute_formatted_sqlite(sql_schema)"
   ]
  },
  {
   "cell_type": "code",
   "execution_count": 68,
   "id": "3ec72a5f",
   "metadata": {},
   "outputs": [
    {
     "data": {
      "application/vnd.microsoft.datawrangler.viewer.v0+json": {
       "columns": [
        {
         "name": "index",
         "rawType": "int64",
         "type": "integer"
        },
        {
         "name": "actor_id",
         "rawType": "int64",
         "type": "integer"
        },
        {
         "name": "director_id",
         "rawType": "int64",
         "type": "integer"
        }
       ],
       "ref": "54464d6d-03c2-41a4-8ed2-b10f283a3675",
       "rows": [
        [
         "0",
         "1",
         "1"
        ]
       ],
       "shape": {
        "columns": 2,
        "rows": 1
       }
      },
      "text/html": [
       "<div>\n",
       "<style scoped>\n",
       "    .dataframe tbody tr th:only-of-type {\n",
       "        vertical-align: middle;\n",
       "    }\n",
       "\n",
       "    .dataframe tbody tr th {\n",
       "        vertical-align: top;\n",
       "    }\n",
       "\n",
       "    .dataframe thead th {\n",
       "        text-align: right;\n",
       "    }\n",
       "</style>\n",
       "<table border=\"1\" class=\"dataframe\">\n",
       "  <thead>\n",
       "    <tr style=\"text-align: right;\">\n",
       "      <th></th>\n",
       "      <th>actor_id</th>\n",
       "      <th>director_id</th>\n",
       "    </tr>\n",
       "  </thead>\n",
       "  <tbody>\n",
       "    <tr>\n",
       "      <th>0</th>\n",
       "      <td>1</td>\n",
       "      <td>1</td>\n",
       "    </tr>\n",
       "  </tbody>\n",
       "</table>\n",
       "</div>"
      ],
      "text/plain": [
       "   actor_id  director_id\n",
       "0         1            1"
      ]
     },
     "execution_count": 68,
     "metadata": {},
     "output_type": "execute_result"
    }
   ],
   "source": [
    "sql = \"\"\"--sql\n",
    "SELECT\n",
    "    ad.actor_id,\n",
    "    ad.director_id\n",
    "FROM\n",
    "    ActorDirector ad\n",
    "GROUP BY\n",
    "    ad.actor_id,\n",
    "    ad.director_id\n",
    "HAVING\n",
    "    COUNT(*) >= 3;\n",
    "\"\"\"\n",
    "select(sql)"
   ]
  },
  {
   "cell_type": "markdown",
   "id": "b491859a",
   "metadata": {},
   "source": [
    "### 1068. Product Sales Analysis I (Easy)\n",
    "\n",
    "Write a solution to report the product_name, year, and price for each sale_id in the Sales table.\n"
   ]
  },
  {
   "cell_type": "code",
   "execution_count": 69,
   "id": "baceaf31",
   "metadata": {},
   "outputs": [],
   "source": [
    "sql_schema = \"\"\"\n",
    "Drop table If Exists Sales\n",
    "Create table If Not Exists Sales (sale_id int, product_id int, year int, quantity int, price int)\n",
    "insert into Sales (sale_id, product_id, year, quantity, price) values ('1', '100', '2008', '10', '5000')\n",
    "insert into Sales (sale_id, product_id, year, quantity, price) values ('2', '100', '2009', '12', '5000')\n",
    "insert into Sales (sale_id, product_id, year, quantity, price) values ('7', '200', '2011', '15', '9000')\n",
    "Drop table If Exists Product\n",
    "Create table If Not Exists Product (product_id int, product_name varchar(10))\n",
    "insert into Product (product_id, product_name) values ('100', 'Nokia')\n",
    "insert into Product (product_id, product_name) values ('200', 'Apple')\n",
    "insert into Product (product_id, product_name) values ('300', 'Samsung')\n",
    "\"\"\"\n",
    "execute_formatted_sqlite(sql_schema)"
   ]
  },
  {
   "cell_type": "code",
   "execution_count": 70,
   "id": "ea48d5ff",
   "metadata": {},
   "outputs": [
    {
     "data": {
      "application/vnd.microsoft.datawrangler.viewer.v0+json": {
       "columns": [
        {
         "name": "index",
         "rawType": "int64",
         "type": "integer"
        },
        {
         "name": "product_name",
         "rawType": "object",
         "type": "string"
        },
        {
         "name": "year",
         "rawType": "int64",
         "type": "integer"
        },
        {
         "name": "price",
         "rawType": "int64",
         "type": "integer"
        }
       ],
       "ref": "402ec92b-bda7-4498-b63d-b52bb604a416",
       "rows": [
        [
         "0",
         "Apple",
         "2011",
         "9000"
        ],
        [
         "1",
         "Nokia",
         "2009",
         "5000"
        ],
        [
         "2",
         "Nokia",
         "2008",
         "5000"
        ]
       ],
       "shape": {
        "columns": 3,
        "rows": 3
       }
      },
      "text/html": [
       "<div>\n",
       "<style scoped>\n",
       "    .dataframe tbody tr th:only-of-type {\n",
       "        vertical-align: middle;\n",
       "    }\n",
       "\n",
       "    .dataframe tbody tr th {\n",
       "        vertical-align: top;\n",
       "    }\n",
       "\n",
       "    .dataframe thead th {\n",
       "        text-align: right;\n",
       "    }\n",
       "</style>\n",
       "<table border=\"1\" class=\"dataframe\">\n",
       "  <thead>\n",
       "    <tr style=\"text-align: right;\">\n",
       "      <th></th>\n",
       "      <th>product_name</th>\n",
       "      <th>year</th>\n",
       "      <th>price</th>\n",
       "    </tr>\n",
       "  </thead>\n",
       "  <tbody>\n",
       "    <tr>\n",
       "      <th>0</th>\n",
       "      <td>Apple</td>\n",
       "      <td>2011</td>\n",
       "      <td>9000</td>\n",
       "    </tr>\n",
       "    <tr>\n",
       "      <th>1</th>\n",
       "      <td>Nokia</td>\n",
       "      <td>2009</td>\n",
       "      <td>5000</td>\n",
       "    </tr>\n",
       "    <tr>\n",
       "      <th>2</th>\n",
       "      <td>Nokia</td>\n",
       "      <td>2008</td>\n",
       "      <td>5000</td>\n",
       "    </tr>\n",
       "  </tbody>\n",
       "</table>\n",
       "</div>"
      ],
      "text/plain": [
       "  product_name  year  price\n",
       "0        Apple  2011   9000\n",
       "1        Nokia  2009   5000\n",
       "2        Nokia  2008   5000"
      ]
     },
     "execution_count": 70,
     "metadata": {},
     "output_type": "execute_result"
    }
   ],
   "source": [
    "sql = \"\"\"--sql\n",
    "SELECT\n",
    "    p.product_name,\n",
    "    s.year,\n",
    "    s.price\n",
    "FROM\n",
    "    Sales s\n",
    "    LEFT JOIN Product p ON s.product_id = p.product_id\n",
    "ORDER BY\n",
    "    s.year DESC,\n",
    "    s.price DESC,\n",
    "    p.product_name;\n",
    "\"\"\"\n",
    "select(sql)"
   ]
  },
  {
   "cell_type": "markdown",
   "id": "7b286a9d",
   "metadata": {},
   "source": [
    "### 1070. Product Sales Analysis III (Med.)\n",
    "\n",
    "Write a solution to find all sales that occurred in the first year each product was sold.\n",
    "\n",
    "- For each product_id, identify the earliest year it appears in the Sales table.\n",
    "\n",
    "- Return all sales entries for that product in that year.\n",
    "\n",
    "Return a table with the following columns: product_id, first_year, quantity, and price.\n"
   ]
  },
  {
   "cell_type": "code",
   "execution_count": 71,
   "id": "a1991253",
   "metadata": {},
   "outputs": [],
   "source": [
    "sql_schema = \"\"\"\n",
    "Drop table If Exists Sales\n",
    "Create table If Not Exists Sales (sale_id int, product_id int, year int, quantity int, price int)\n",
    "insert into Sales (sale_id, product_id, year, quantity, price) values ('1', '100', '2008', '10', '5000')\n",
    "insert into Sales (sale_id, product_id, year, quantity, price) values ('2', '100', '2009', '12', '5000')\n",
    "insert into Sales (sale_id, product_id, year, quantity, price) values ('7', '200', '2011', '15', '9000')\n",
    "\"\"\"\n",
    "execute_formatted_sqlite(sql_schema)"
   ]
  },
  {
   "cell_type": "code",
   "execution_count": 72,
   "id": "00592943",
   "metadata": {},
   "outputs": [
    {
     "data": {
      "application/vnd.microsoft.datawrangler.viewer.v0+json": {
       "columns": [
        {
         "name": "index",
         "rawType": "int64",
         "type": "integer"
        },
        {
         "name": "product_id",
         "rawType": "int64",
         "type": "integer"
        },
        {
         "name": "first_year",
         "rawType": "int64",
         "type": "integer"
        },
        {
         "name": "quantity",
         "rawType": "int64",
         "type": "integer"
        },
        {
         "name": "price",
         "rawType": "int64",
         "type": "integer"
        }
       ],
       "ref": "2df4f6e4-bff6-40d9-9435-0621ec6bc4a1",
       "rows": [
        [
         "0",
         "100",
         "2008",
         "10",
         "5000"
        ],
        [
         "1",
         "200",
         "2011",
         "15",
         "9000"
        ]
       ],
       "shape": {
        "columns": 4,
        "rows": 2
       }
      },
      "text/html": [
       "<div>\n",
       "<style scoped>\n",
       "    .dataframe tbody tr th:only-of-type {\n",
       "        vertical-align: middle;\n",
       "    }\n",
       "\n",
       "    .dataframe tbody tr th {\n",
       "        vertical-align: top;\n",
       "    }\n",
       "\n",
       "    .dataframe thead th {\n",
       "        text-align: right;\n",
       "    }\n",
       "</style>\n",
       "<table border=\"1\" class=\"dataframe\">\n",
       "  <thead>\n",
       "    <tr style=\"text-align: right;\">\n",
       "      <th></th>\n",
       "      <th>product_id</th>\n",
       "      <th>first_year</th>\n",
       "      <th>quantity</th>\n",
       "      <th>price</th>\n",
       "    </tr>\n",
       "  </thead>\n",
       "  <tbody>\n",
       "    <tr>\n",
       "      <th>0</th>\n",
       "      <td>100</td>\n",
       "      <td>2008</td>\n",
       "      <td>10</td>\n",
       "      <td>5000</td>\n",
       "    </tr>\n",
       "    <tr>\n",
       "      <th>1</th>\n",
       "      <td>200</td>\n",
       "      <td>2011</td>\n",
       "      <td>15</td>\n",
       "      <td>9000</td>\n",
       "    </tr>\n",
       "  </tbody>\n",
       "</table>\n",
       "</div>"
      ],
      "text/plain": [
       "   product_id  first_year  quantity  price\n",
       "0         100        2008        10   5000\n",
       "1         200        2011        15   9000"
      ]
     },
     "execution_count": 72,
     "metadata": {},
     "output_type": "execute_result"
    }
   ],
   "source": [
    "# Локаничный вариант для относительно небольших данных:\n",
    "sql = \"\"\"--sql\n",
    "SELECT\n",
    "    s.product_id,\n",
    "    s.year AS first_year,\n",
    "    s.quantity,\n",
    "    s.price\n",
    "FROM\n",
    "    Sales s\n",
    "WHERE\n",
    "    (s.product_id, s.year) IN (\n",
    "        SELECT\n",
    "            product_id,\n",
    "            MIN(YEAR) AS min_year\n",
    "        FROM\n",
    "            Sales\n",
    "        GROUP BY\n",
    "            product_id\n",
    "    );\n",
    "\"\"\"\n",
    "select(sql)"
   ]
  },
  {
   "cell_type": "code",
   "execution_count": 73,
   "id": "28ec68fe",
   "metadata": {},
   "outputs": [
    {
     "data": {
      "application/vnd.microsoft.datawrangler.viewer.v0+json": {
       "columns": [
        {
         "name": "index",
         "rawType": "int64",
         "type": "integer"
        },
        {
         "name": "product_id",
         "rawType": "int64",
         "type": "integer"
        },
        {
         "name": "first_year",
         "rawType": "int64",
         "type": "integer"
        },
        {
         "name": "quantity",
         "rawType": "int64",
         "type": "integer"
        },
        {
         "name": "price",
         "rawType": "int64",
         "type": "integer"
        }
       ],
       "ref": "a5e222d1-585b-442f-9a47-2207abe814fd",
       "rows": [
        [
         "0",
         "100",
         "2008",
         "10",
         "5000"
        ],
        [
         "1",
         "200",
         "2011",
         "15",
         "9000"
        ]
       ],
       "shape": {
        "columns": 4,
        "rows": 2
       }
      },
      "text/html": [
       "<div>\n",
       "<style scoped>\n",
       "    .dataframe tbody tr th:only-of-type {\n",
       "        vertical-align: middle;\n",
       "    }\n",
       "\n",
       "    .dataframe tbody tr th {\n",
       "        vertical-align: top;\n",
       "    }\n",
       "\n",
       "    .dataframe thead th {\n",
       "        text-align: right;\n",
       "    }\n",
       "</style>\n",
       "<table border=\"1\" class=\"dataframe\">\n",
       "  <thead>\n",
       "    <tr style=\"text-align: right;\">\n",
       "      <th></th>\n",
       "      <th>product_id</th>\n",
       "      <th>first_year</th>\n",
       "      <th>quantity</th>\n",
       "      <th>price</th>\n",
       "    </tr>\n",
       "  </thead>\n",
       "  <tbody>\n",
       "    <tr>\n",
       "      <th>0</th>\n",
       "      <td>100</td>\n",
       "      <td>2008</td>\n",
       "      <td>10</td>\n",
       "      <td>5000</td>\n",
       "    </tr>\n",
       "    <tr>\n",
       "      <th>1</th>\n",
       "      <td>200</td>\n",
       "      <td>2011</td>\n",
       "      <td>15</td>\n",
       "      <td>9000</td>\n",
       "    </tr>\n",
       "  </tbody>\n",
       "</table>\n",
       "</div>"
      ],
      "text/plain": [
       "   product_id  first_year  quantity  price\n",
       "0         100        2008        10   5000\n",
       "1         200        2011        15   9000"
      ]
     },
     "execution_count": 73,
     "metadata": {},
     "output_type": "execute_result"
    }
   ],
   "source": [
    "# Но быстрее (особенно на больших данных) будет вариант через JOIN, чем сравнение кортежа через IN.\n",
    "sql = \"\"\"--sql\n",
    "SELECT\n",
    "    s.product_id,\n",
    "    s.year AS first_year,\n",
    "    s.quantity,\n",
    "    s.price\n",
    "FROM\n",
    "    Sales s\n",
    "    INNER JOIN (\n",
    "        SELECT\n",
    "            product_id,\n",
    "            MIN(YEAR) AS min_year\n",
    "        FROM\n",
    "            Sales\n",
    "        GROUP BY\n",
    "            product_id\n",
    "    ) m ON s.product_id = m.product_id\n",
    "    AND s.year = m.min_year;\n",
    "\"\"\"\n",
    "select(sql)"
   ]
  },
  {
   "cell_type": "markdown",
   "id": "193ee788",
   "metadata": {},
   "source": [
    "### 1075. Project Employees I (Easy)\n",
    "\n",
    "Write an SQL query that reports the average experience years of all the employees for each project, rounded to 2 digits.\n"
   ]
  },
  {
   "cell_type": "code",
   "execution_count": 74,
   "id": "65ac5a26",
   "metadata": {},
   "outputs": [],
   "source": [
    "sql_schema = \"\"\"\n",
    "Drop table If Exists Project\n",
    "Create table If Not Exists Project (project_id int, employee_id int)\n",
    "insert into Project (project_id, employee_id) values ('1', '1')\n",
    "insert into Project (project_id, employee_id) values ('1', '2')\n",
    "insert into Project (project_id, employee_id) values ('1', '3')\n",
    "insert into Project (project_id, employee_id) values ('2', '1')\n",
    "insert into Project (project_id, employee_id) values ('2', '4')\n",
    "Drop table If Exists Employee\n",
    "Create table If Not Exists Employee (employee_id int, name varchar(10), experience_years int)\n",
    "insert into Employee (employee_id, name, experience_years) values ('1', 'Khaled', '3')\n",
    "insert into Employee (employee_id, name, experience_years) values ('2', 'Ali', '2')\n",
    "insert into Employee (employee_id, name, experience_years) values ('3', 'John', '1')\n",
    "insert into Employee (employee_id, name, experience_years) values ('4', 'Doe', '2')\n",
    "\"\"\"\n",
    "execute_formatted_sqlite(sql_schema)"
   ]
  },
  {
   "cell_type": "code",
   "execution_count": 75,
   "id": "22505edf",
   "metadata": {},
   "outputs": [
    {
     "data": {
      "application/vnd.microsoft.datawrangler.viewer.v0+json": {
       "columns": [
        {
         "name": "index",
         "rawType": "int64",
         "type": "integer"
        },
        {
         "name": "project_id",
         "rawType": "int64",
         "type": "integer"
        },
        {
         "name": "average_years",
         "rawType": "float64",
         "type": "float"
        }
       ],
       "ref": "0d2c73de-9b8d-440b-9da4-0da8cd3f2d78",
       "rows": [
        [
         "0",
         "1",
         "2.0"
        ],
        [
         "1",
         "2",
         "2.5"
        ]
       ],
       "shape": {
        "columns": 2,
        "rows": 2
       }
      },
      "text/html": [
       "<div>\n",
       "<style scoped>\n",
       "    .dataframe tbody tr th:only-of-type {\n",
       "        vertical-align: middle;\n",
       "    }\n",
       "\n",
       "    .dataframe tbody tr th {\n",
       "        vertical-align: top;\n",
       "    }\n",
       "\n",
       "    .dataframe thead th {\n",
       "        text-align: right;\n",
       "    }\n",
       "</style>\n",
       "<table border=\"1\" class=\"dataframe\">\n",
       "  <thead>\n",
       "    <tr style=\"text-align: right;\">\n",
       "      <th></th>\n",
       "      <th>project_id</th>\n",
       "      <th>average_years</th>\n",
       "    </tr>\n",
       "  </thead>\n",
       "  <tbody>\n",
       "    <tr>\n",
       "      <th>0</th>\n",
       "      <td>1</td>\n",
       "      <td>2.0</td>\n",
       "    </tr>\n",
       "    <tr>\n",
       "      <th>1</th>\n",
       "      <td>2</td>\n",
       "      <td>2.5</td>\n",
       "    </tr>\n",
       "  </tbody>\n",
       "</table>\n",
       "</div>"
      ],
      "text/plain": [
       "   project_id  average_years\n",
       "0           1            2.0\n",
       "1           2            2.5"
      ]
     },
     "execution_count": 75,
     "metadata": {},
     "output_type": "execute_result"
    }
   ],
   "source": [
    "sql = \"\"\"--sql\n",
    "SELECT\n",
    "    p.project_id,\n",
    "    ROUND(AVG(e.experience_years), 2) AS average_years\n",
    "FROM\n",
    "    Project p\n",
    "    INNER JOIN Employee e ON p.employee_id = e.employee_id\n",
    "GROUP BY\n",
    "    p.project_id;\n",
    "\"\"\"\n",
    "select(sql)"
   ]
  },
  {
   "cell_type": "markdown",
   "id": "3599a829",
   "metadata": {},
   "source": [
    "### 1084. Sales Analysis III (Easy)\n",
    "\n",
    "Write a solution to report the products that were only sold in the first quarter of 2019. That is, between 2019-01-01 and 2019-03-31 inclusive.\n"
   ]
  },
  {
   "cell_type": "code",
   "execution_count": 76,
   "id": "8b9386d8",
   "metadata": {},
   "outputs": [],
   "source": [
    "sql_schema = \"\"\"\n",
    "Drop table If Exists Product\n",
    "Create table If Not Exists Product (product_id int, product_name varchar(10), unit_price int)\n",
    "insert into Product (product_id, product_name, unit_price) values ('1', 'S8', '1000')\n",
    "insert into Product (product_id, product_name, unit_price) values ('2', 'G4', '800')\n",
    "insert into Product (product_id, product_name, unit_price) values ('3', 'iPhone', '1400')\n",
    "Drop table If Exists Sales\n",
    "Create table If Not Exists Sales (seller_id int, product_id int, buyer_id int, sale_date date, quantity int, price int)\n",
    "insert into Sales (seller_id, product_id, buyer_id, sale_date, quantity, price) values ('1', '1', '1', '2019-01-21', '2', '2000')\n",
    "insert into Sales (seller_id, product_id, buyer_id, sale_date, quantity, price) values ('1', '2', '2', '2019-02-17', '1', '800')\n",
    "insert into Sales (seller_id, product_id, buyer_id, sale_date, quantity, price) values ('2', '2', '3', '2019-06-02', '1', '800')\n",
    "insert into Sales (seller_id, product_id, buyer_id, sale_date, quantity, price) values ('3', '3', '4', '2019-05-13', '2', '2800')\n",
    "\"\"\"\n",
    "execute_formatted_sqlite(sql_schema)"
   ]
  },
  {
   "cell_type": "code",
   "execution_count": 77,
   "id": "0a1ce4f5",
   "metadata": {},
   "outputs": [
    {
     "data": {
      "application/vnd.microsoft.datawrangler.viewer.v0+json": {
       "columns": [
        {
         "name": "index",
         "rawType": "int64",
         "type": "integer"
        },
        {
         "name": "product_id",
         "rawType": "int64",
         "type": "integer"
        },
        {
         "name": "product_name",
         "rawType": "object",
         "type": "string"
        }
       ],
       "ref": "97549b61-5eed-48aa-9a9c-7eb581deb896",
       "rows": [
        [
         "0",
         "1",
         "S8"
        ]
       ],
       "shape": {
        "columns": 2,
        "rows": 1
       }
      },
      "text/html": [
       "<div>\n",
       "<style scoped>\n",
       "    .dataframe tbody tr th:only-of-type {\n",
       "        vertical-align: middle;\n",
       "    }\n",
       "\n",
       "    .dataframe tbody tr th {\n",
       "        vertical-align: top;\n",
       "    }\n",
       "\n",
       "    .dataframe thead th {\n",
       "        text-align: right;\n",
       "    }\n",
       "</style>\n",
       "<table border=\"1\" class=\"dataframe\">\n",
       "  <thead>\n",
       "    <tr style=\"text-align: right;\">\n",
       "      <th></th>\n",
       "      <th>product_id</th>\n",
       "      <th>product_name</th>\n",
       "    </tr>\n",
       "  </thead>\n",
       "  <tbody>\n",
       "    <tr>\n",
       "      <th>0</th>\n",
       "      <td>1</td>\n",
       "      <td>S8</td>\n",
       "    </tr>\n",
       "  </tbody>\n",
       "</table>\n",
       "</div>"
      ],
      "text/plain": [
       "   product_id product_name\n",
       "0           1           S8"
      ]
     },
     "execution_count": 77,
     "metadata": {},
     "output_type": "execute_result"
    }
   ],
   "source": [
    "# HAVING s.sale_date BETWEEN '2019-01-01' AND '2019-03-31' может на первый взгляд показаться очевидным\n",
    "# условием, однако ему будет соответствовать продукт который хотябы однажды был продав в первом квартале,\n",
    "# а нам нужны которые ТОЛЬКО были проданы в первом квартале, т.е. у которых MIN дата продажы равна (или больше!)\n",
    "# 2019-01-01, а MAX дата равна (или меньше!) 2019-03-31.\n",
    "# P.S. Так же, если позволяет логия задачи, лучше использовать INNER JOIN, вместо LEFT JOIN - обычно быстрее.\n",
    "# Т.к. LEFT заставляет оптимизатор сохранять строки для которых нет совпадений и подствалять в них NULL - лишняя работа.\n",
    "# Кроме того, для PostgreSQL пришлось бы в GROUP BY добавить p.product_name или обернуть его в любую агрегатную\n",
    "# функцию в SELECT - особенности СУБД.\n",
    "sql = \"\"\"--sql\n",
    "SELECT\n",
    "    s.product_id,\n",
    "    p.product_name\n",
    "FROM\n",
    "    Sales s\n",
    "    INNER JOIN Product p ON s.product_id = p.product_id\n",
    "GROUP BY\n",
    "    s.product_id\n",
    "HAVING\n",
    "    MIN(s.sale_date) >= '2019-01-01'\n",
    "    AND MAX(s.sale_date) <= '2019-03-31';\n",
    "\"\"\"\n",
    "select(sql)"
   ]
  },
  {
   "cell_type": "markdown",
   "id": "bc9bebf4",
   "metadata": {},
   "source": [
    "### 1141. User Activity for the Past 30 Days I (Easy)\n",
    "\n",
    "Write a solution to find the daily active user count for a period of 30 days ending 2019-07-27 inclusively. A user was active on someday if they made at least one activity on that day.\n"
   ]
  },
  {
   "cell_type": "code",
   "execution_count": 78,
   "id": "80f15e4d",
   "metadata": {},
   "outputs": [],
   "source": [
    "# В SQLite нет типа ENUM (только базовые), но его работу можно сымитировать через CHECK(), предварительно\n",
    "# преобразовав колонку к типу TEXT:\n",
    "# вместо activity_type ENUM('open_session', 'end_session', 'scroll_down', 'send_message')\n",
    "# использовать activity_type text CHECK(activity_type IN ('open_session', 'end_session', 'scroll_down', 'send_message')\n",
    "sql_schema = \"\"\"\n",
    "Drop table If Exists Activity\n",
    "Create table If Not Exists Activity (user_id int, session_id int, activity_date date, activity_type text CHECK(activity_type IN ('open_session', 'end_session', 'scroll_down', 'send_message')))\n",
    "insert into Activity (user_id, session_id, activity_date, activity_type) values ('1', '1', '2019-07-20', 'open_session')\n",
    "insert into Activity (user_id, session_id, activity_date, activity_type) values ('1', '1', '2019-07-20', 'scroll_down')\n",
    "insert into Activity (user_id, session_id, activity_date, activity_type) values ('1', '1', '2019-07-20', 'end_session')\n",
    "insert into Activity (user_id, session_id, activity_date, activity_type) values ('2', '4', '2019-07-20', 'open_session')\n",
    "insert into Activity (user_id, session_id, activity_date, activity_type) values ('2', '4', '2019-07-21', 'send_message')\n",
    "insert into Activity (user_id, session_id, activity_date, activity_type) values ('2', '4', '2019-07-21', 'end_session')\n",
    "insert into Activity (user_id, session_id, activity_date, activity_type) values ('3', '2', '2019-07-21', 'open_session')\n",
    "insert into Activity (user_id, session_id, activity_date, activity_type) values ('3', '2', '2019-07-21', 'send_message')\n",
    "insert into Activity (user_id, session_id, activity_date, activity_type) values ('3', '2', '2019-07-21', 'end_session')\n",
    "insert into Activity (user_id, session_id, activity_date, activity_type) values ('4', '3', '2019-06-25', 'open_session')\n",
    "insert into Activity (user_id, session_id, activity_date, activity_type) values ('4', '3', '2019-06-25', 'end_session')\n",
    "\"\"\"\n",
    "execute_formatted_sqlite(sql_schema)"
   ]
  },
  {
   "cell_type": "code",
   "execution_count": 79,
   "id": "fbfba5d7",
   "metadata": {},
   "outputs": [
    {
     "data": {
      "application/vnd.microsoft.datawrangler.viewer.v0+json": {
       "columns": [
        {
         "name": "index",
         "rawType": "int64",
         "type": "integer"
        },
        {
         "name": "DAY",
         "rawType": "object",
         "type": "string"
        },
        {
         "name": "active_users",
         "rawType": "int64",
         "type": "integer"
        }
       ],
       "ref": "5fa3244e-bf74-4601-bd4b-d4c0be84e53d",
       "rows": [
        [
         "0",
         "2019-07-20",
         "2"
        ],
        [
         "1",
         "2019-07-21",
         "2"
        ]
       ],
       "shape": {
        "columns": 2,
        "rows": 2
       }
      },
      "text/html": [
       "<div>\n",
       "<style scoped>\n",
       "    .dataframe tbody tr th:only-of-type {\n",
       "        vertical-align: middle;\n",
       "    }\n",
       "\n",
       "    .dataframe tbody tr th {\n",
       "        vertical-align: top;\n",
       "    }\n",
       "\n",
       "    .dataframe thead th {\n",
       "        text-align: right;\n",
       "    }\n",
       "</style>\n",
       "<table border=\"1\" class=\"dataframe\">\n",
       "  <thead>\n",
       "    <tr style=\"text-align: right;\">\n",
       "      <th></th>\n",
       "      <th>DAY</th>\n",
       "      <th>active_users</th>\n",
       "    </tr>\n",
       "  </thead>\n",
       "  <tbody>\n",
       "    <tr>\n",
       "      <th>0</th>\n",
       "      <td>2019-07-20</td>\n",
       "      <td>2</td>\n",
       "    </tr>\n",
       "    <tr>\n",
       "      <th>1</th>\n",
       "      <td>2019-07-21</td>\n",
       "      <td>2</td>\n",
       "    </tr>\n",
       "  </tbody>\n",
       "</table>\n",
       "</div>"
      ],
      "text/plain": [
       "          DAY  active_users\n",
       "0  2019-07-20             2\n",
       "1  2019-07-21             2"
      ]
     },
     "execution_count": 79,
     "metadata": {},
     "output_type": "execute_result"
    }
   ],
   "source": [
    "# MySQL: activity_date BETWEEN DATE_SUB('2019-07-27', INTERVAL 29 DAY) AND '2019-07-27'\n",
    "# PostgreSQL: activity_date BETWEEN '2019-07-27'::date - INTERVAL '29 days' AND '2019-07-27'\n",
    "sql = \"\"\"--sql\n",
    "SELECT\n",
    "    a.activity_date AS DAY,\n",
    "    COUNT(DISTINCT a.user_id) AS active_users\n",
    "FROM\n",
    "    Activity a\n",
    "WHERE\n",
    "    a.activity_date BETWEEN DATE ('2019-07-27', '-29 day') AND '2019-07-27'\n",
    "GROUP BY\n",
    "    a.activity_date;\n",
    "\"\"\"\n",
    "select(sql)"
   ]
  },
  {
   "cell_type": "markdown",
   "id": "28692f48",
   "metadata": {},
   "source": [
    "### 1148. Article Views I (Easy)\n",
    "\n",
    "Write a solution to find all the authors that viewed at least one of their own articles.\n",
    "\n",
    "Return the result table sorted by id in ascending order.\n"
   ]
  },
  {
   "cell_type": "code",
   "execution_count": 80,
   "id": "b30ba361",
   "metadata": {},
   "outputs": [],
   "source": [
    "sql_schema = \"\"\"\n",
    "Drop table If Exists Views\n",
    "Create table If Not Exists Views (article_id int, author_id int, viewer_id int, view_date date)\n",
    "insert into Views (article_id, author_id, viewer_id, view_date) values ('1', '3', '5', '2019-08-01')\n",
    "insert into Views (article_id, author_id, viewer_id, view_date) values ('1', '3', '6', '2019-08-02')\n",
    "insert into Views (article_id, author_id, viewer_id, view_date) values ('2', '7', '7', '2019-08-01')\n",
    "insert into Views (article_id, author_id, viewer_id, view_date) values ('2', '7', '6', '2019-08-02')\n",
    "insert into Views (article_id, author_id, viewer_id, view_date) values ('4', '7', '1', '2019-07-22')\n",
    "insert into Views (article_id, author_id, viewer_id, view_date) values ('3', '4', '4', '2019-07-21')\n",
    "insert into Views (article_id, author_id, viewer_id, view_date) values ('3', '4', '4', '2019-07-21')\n",
    "\"\"\"\n",
    "execute_formatted_sqlite(sql_schema)"
   ]
  },
  {
   "cell_type": "code",
   "execution_count": 81,
   "id": "2d9d533f",
   "metadata": {},
   "outputs": [
    {
     "data": {
      "application/vnd.microsoft.datawrangler.viewer.v0+json": {
       "columns": [
        {
         "name": "index",
         "rawType": "int64",
         "type": "integer"
        },
        {
         "name": "id",
         "rawType": "int64",
         "type": "integer"
        }
       ],
       "ref": "c01f9155-0b9c-47c9-90b6-8d2688beb5b9",
       "rows": [
        [
         "0",
         "4"
        ],
        [
         "1",
         "7"
        ]
       ],
       "shape": {
        "columns": 1,
        "rows": 2
       }
      },
      "text/html": [
       "<div>\n",
       "<style scoped>\n",
       "    .dataframe tbody tr th:only-of-type {\n",
       "        vertical-align: middle;\n",
       "    }\n",
       "\n",
       "    .dataframe tbody tr th {\n",
       "        vertical-align: top;\n",
       "    }\n",
       "\n",
       "    .dataframe thead th {\n",
       "        text-align: right;\n",
       "    }\n",
       "</style>\n",
       "<table border=\"1\" class=\"dataframe\">\n",
       "  <thead>\n",
       "    <tr style=\"text-align: right;\">\n",
       "      <th></th>\n",
       "      <th>id</th>\n",
       "    </tr>\n",
       "  </thead>\n",
       "  <tbody>\n",
       "    <tr>\n",
       "      <th>0</th>\n",
       "      <td>4</td>\n",
       "    </tr>\n",
       "    <tr>\n",
       "      <th>1</th>\n",
       "      <td>7</td>\n",
       "    </tr>\n",
       "  </tbody>\n",
       "</table>\n",
       "</div>"
      ],
      "text/plain": [
       "   id\n",
       "0   4\n",
       "1   7"
      ]
     },
     "execution_count": 81,
     "metadata": {},
     "output_type": "execute_result"
    }
   ],
   "source": [
    "sql = \"\"\"--sql\n",
    "SELECT DISTINCT\n",
    "    v.author_id AS id\n",
    "FROM\n",
    "    VIEWS v\n",
    "WHERE\n",
    "    v.author_id = v.viewer_id\n",
    "ORDER BY\n",
    "    v.author_id;\n",
    "\"\"\"\n",
    "select(sql)"
   ]
  },
  {
   "cell_type": "markdown",
   "id": "cd65709e",
   "metadata": {},
   "source": [
    "### 1158. Market Analysis I (Med.)\n",
    "\n",
    "Write a solution to find for each user, the join date and the number of orders they made as a buyer in 2019.\n"
   ]
  },
  {
   "cell_type": "code",
   "execution_count": 82,
   "id": "49f2e691",
   "metadata": {},
   "outputs": [],
   "source": [
    "sql_schema = \"\"\"\n",
    "Drop table If Exists Users\n",
    "Create table If Not Exists Users (user_id int, join_date date, favorite_brand varchar(10))\n",
    "insert into Users (user_id, join_date, favorite_brand) values ('1', '2018-01-01', 'Lenovo')\n",
    "insert into Users (user_id, join_date, favorite_brand) values ('2', '2018-02-09', 'Samsung')\n",
    "insert into Users (user_id, join_date, favorite_brand) values ('3', '2018-01-19', 'LG')\n",
    "insert into Users (user_id, join_date, favorite_brand) values ('4', '2018-05-21', 'HP')\n",
    "Drop table If Exists Orders\n",
    "Create table If Not Exists Orders (order_id int, order_date date, item_id int, buyer_id int, seller_id int)\n",
    "insert into Orders (order_id, order_date, item_id, buyer_id, seller_id) values ('1', '2019-08-01', '4', '1', '2')\n",
    "insert into Orders (order_id, order_date, item_id, buyer_id, seller_id) values ('2', '2018-08-02', '2', '1', '3')\n",
    "insert into Orders (order_id, order_date, item_id, buyer_id, seller_id) values ('3', '2019-08-03', '3', '2', '3')\n",
    "insert into Orders (order_id, order_date, item_id, buyer_id, seller_id) values ('4', '2018-08-04', '1', '4', '2')\n",
    "insert into Orders (order_id, order_date, item_id, buyer_id, seller_id) values ('5', '2018-08-04', '1', '3', '4')\n",
    "insert into Orders (order_id, order_date, item_id, buyer_id, seller_id) values ('6', '2019-08-05', '2', '2', '4')\n",
    "Drop table If Exists Items\n",
    "Create table If Not Exists Items (item_id int, item_brand varchar(10))\n",
    "insert into Items (item_id, item_brand) values ('1', 'Samsung')\n",
    "insert into Items (item_id, item_brand) values ('2', 'Lenovo')\n",
    "insert into Items (item_id, item_brand) values ('3', 'LG')\n",
    "insert into Items (item_id, item_brand) values ('4', 'HP')\n",
    "\"\"\"\n",
    "execute_formatted_sqlite(sql_schema)"
   ]
  },
  {
   "cell_type": "code",
   "execution_count": 83,
   "id": "b3db9972",
   "metadata": {},
   "outputs": [
    {
     "data": {
      "application/vnd.microsoft.datawrangler.viewer.v0+json": {
       "columns": [
        {
         "name": "index",
         "rawType": "int64",
         "type": "integer"
        },
        {
         "name": "buyer_id",
         "rawType": "int64",
         "type": "integer"
        },
        {
         "name": "join_date",
         "rawType": "object",
         "type": "string"
        },
        {
         "name": "orders_in_2019",
         "rawType": "int64",
         "type": "integer"
        }
       ],
       "ref": "75015c92-db6f-4806-8706-0cc428c20a65",
       "rows": [
        [
         "0",
         "1",
         "2018-01-01",
         "1"
        ],
        [
         "1",
         "2",
         "2018-02-09",
         "2"
        ],
        [
         "2",
         "3",
         "2018-01-19",
         "0"
        ],
        [
         "3",
         "4",
         "2018-05-21",
         "0"
        ]
       ],
       "shape": {
        "columns": 3,
        "rows": 4
       }
      },
      "text/html": [
       "<div>\n",
       "<style scoped>\n",
       "    .dataframe tbody tr th:only-of-type {\n",
       "        vertical-align: middle;\n",
       "    }\n",
       "\n",
       "    .dataframe tbody tr th {\n",
       "        vertical-align: top;\n",
       "    }\n",
       "\n",
       "    .dataframe thead th {\n",
       "        text-align: right;\n",
       "    }\n",
       "</style>\n",
       "<table border=\"1\" class=\"dataframe\">\n",
       "  <thead>\n",
       "    <tr style=\"text-align: right;\">\n",
       "      <th></th>\n",
       "      <th>buyer_id</th>\n",
       "      <th>join_date</th>\n",
       "      <th>orders_in_2019</th>\n",
       "    </tr>\n",
       "  </thead>\n",
       "  <tbody>\n",
       "    <tr>\n",
       "      <th>0</th>\n",
       "      <td>1</td>\n",
       "      <td>2018-01-01</td>\n",
       "      <td>1</td>\n",
       "    </tr>\n",
       "    <tr>\n",
       "      <th>1</th>\n",
       "      <td>2</td>\n",
       "      <td>2018-02-09</td>\n",
       "      <td>2</td>\n",
       "    </tr>\n",
       "    <tr>\n",
       "      <th>2</th>\n",
       "      <td>3</td>\n",
       "      <td>2018-01-19</td>\n",
       "      <td>0</td>\n",
       "    </tr>\n",
       "    <tr>\n",
       "      <th>3</th>\n",
       "      <td>4</td>\n",
       "      <td>2018-05-21</td>\n",
       "      <td>0</td>\n",
       "    </tr>\n",
       "  </tbody>\n",
       "</table>\n",
       "</div>"
      ],
      "text/plain": [
       "   buyer_id   join_date  orders_in_2019\n",
       "0         1  2018-01-01               1\n",
       "1         2  2018-02-09               2\n",
       "2         3  2018-01-19               0\n",
       "3         4  2018-05-21               0"
      ]
     },
     "execution_count": 83,
     "metadata": {},
     "output_type": "execute_result"
    }
   ],
   "source": [
    "# Если позволяет логика запроса, лучше использовать вариант без подзапросов (оптимизатор выполняет меньше шагов).\n",
    "sql = \"\"\"--sql\n",
    "SELECT\n",
    "    u.user_id AS buyer_id,\n",
    "    u.join_date,\n",
    "    COALESCE(c.orders_in_2019, 0) AS orders_in_2019\n",
    "FROM\n",
    "    Users u\n",
    "    LEFT JOIN (\n",
    "        SELECT\n",
    "            COUNT(*) AS orders_in_2019,\n",
    "            o.buyer_id\n",
    "        FROM\n",
    "            Orders o\n",
    "        WHERE\n",
    "            o.order_date >= '2019-01-01'\n",
    "            AND o.order_date <= '2019-12-31'\n",
    "        GROUP BY\n",
    "            o.buyer_id\n",
    "    ) c ON u.user_id = c.buyer_id\n",
    "ORDER BY\n",
    "    u.user_id;\n",
    "\"\"\"\n",
    "select(sql)"
   ]
  },
  {
   "cell_type": "code",
   "execution_count": 84,
   "id": "6ff5e470",
   "metadata": {},
   "outputs": [
    {
     "data": {
      "application/vnd.microsoft.datawrangler.viewer.v0+json": {
       "columns": [
        {
         "name": "index",
         "rawType": "int64",
         "type": "integer"
        },
        {
         "name": "buyer_id",
         "rawType": "int64",
         "type": "integer"
        },
        {
         "name": "join_date",
         "rawType": "object",
         "type": "string"
        },
        {
         "name": "orders_in_2019",
         "rawType": "int64",
         "type": "integer"
        }
       ],
       "ref": "a009eb50-b49e-410f-8da6-1385ccb0e6f1",
       "rows": [
        [
         "0",
         "1",
         "2018-01-01",
         "1"
        ],
        [
         "1",
         "2",
         "2018-02-09",
         "2"
        ],
        [
         "2",
         "3",
         "2018-01-19",
         "0"
        ],
        [
         "3",
         "4",
         "2018-05-21",
         "0"
        ]
       ],
       "shape": {
        "columns": 3,
        "rows": 4
       }
      },
      "text/html": [
       "<div>\n",
       "<style scoped>\n",
       "    .dataframe tbody tr th:only-of-type {\n",
       "        vertical-align: middle;\n",
       "    }\n",
       "\n",
       "    .dataframe tbody tr th {\n",
       "        vertical-align: top;\n",
       "    }\n",
       "\n",
       "    .dataframe thead th {\n",
       "        text-align: right;\n",
       "    }\n",
       "</style>\n",
       "<table border=\"1\" class=\"dataframe\">\n",
       "  <thead>\n",
       "    <tr style=\"text-align: right;\">\n",
       "      <th></th>\n",
       "      <th>buyer_id</th>\n",
       "      <th>join_date</th>\n",
       "      <th>orders_in_2019</th>\n",
       "    </tr>\n",
       "  </thead>\n",
       "  <tbody>\n",
       "    <tr>\n",
       "      <th>0</th>\n",
       "      <td>1</td>\n",
       "      <td>2018-01-01</td>\n",
       "      <td>1</td>\n",
       "    </tr>\n",
       "    <tr>\n",
       "      <th>1</th>\n",
       "      <td>2</td>\n",
       "      <td>2018-02-09</td>\n",
       "      <td>2</td>\n",
       "    </tr>\n",
       "    <tr>\n",
       "      <th>2</th>\n",
       "      <td>3</td>\n",
       "      <td>2018-01-19</td>\n",
       "      <td>0</td>\n",
       "    </tr>\n",
       "    <tr>\n",
       "      <th>3</th>\n",
       "      <td>4</td>\n",
       "      <td>2018-05-21</td>\n",
       "      <td>0</td>\n",
       "    </tr>\n",
       "  </tbody>\n",
       "</table>\n",
       "</div>"
      ],
      "text/plain": [
       "   buyer_id   join_date  orders_in_2019\n",
       "0         1  2018-01-01               1\n",
       "1         2  2018-02-09               2\n",
       "2         3  2018-01-19               0\n",
       "3         4  2018-05-21               0"
      ]
     },
     "execution_count": 84,
     "metadata": {},
     "output_type": "execute_result"
    }
   ],
   "source": [
    "# Вариант через JOIN - будет работать быстрее и в целом локаничнее.\n",
    "# P.S. При JOIN-ах COUNT() сам по себе возвращает 0, если нет совпадений, поэтому тут COALESCE() не нужен.\n",
    "sql = \"\"\"--sql\n",
    "SELECT\n",
    "    u.user_id AS buyer_id,\n",
    "    u.join_date,\n",
    "    COUNT(o.order_id) AS orders_in_2019\n",
    "FROM\n",
    "    Users u\n",
    "    LEFT JOIN Orders o ON u.user_id = o.buyer_id\n",
    "    AND o.order_date BETWEEN '2019-01-01' AND '2019-12-31'\n",
    "GROUP BY\n",
    "    u.user_id\n",
    "ORDER BY\n",
    "    u.user_id;\n",
    "\"\"\"\n",
    "select(sql)"
   ]
  },
  {
   "cell_type": "markdown",
   "id": "06bc5e87",
   "metadata": {},
   "source": [
    "### 1164. Product Price at a Given Date (Med.)\n",
    "\n",
    "Initially, all products have price 10.\n",
    "\n",
    "Write a solution to find the prices of all products on the date 2019-08-16.\n"
   ]
  },
  {
   "cell_type": "code",
   "execution_count": 85,
   "id": "d9daa5bf",
   "metadata": {},
   "outputs": [],
   "source": [
    "sql_schema = \"\"\"\n",
    "Drop table If Exists Products\n",
    "Create table If Not Exists Products (product_id int, new_price int, change_date date)\n",
    "insert into Products (product_id, new_price, change_date) values ('1', '20', '2019-08-14')\n",
    "insert into Products (product_id, new_price, change_date) values ('2', '50', '2019-08-14')\n",
    "insert into Products (product_id, new_price, change_date) values ('1', '30', '2019-08-15')\n",
    "insert into Products (product_id, new_price, change_date) values ('1', '35', '2019-08-16')\n",
    "insert into Products (product_id, new_price, change_date) values ('2', '65', '2019-08-17')\n",
    "insert into Products (product_id, new_price, change_date) values ('3', '20', '2019-08-18')\n",
    "\"\"\"\n",
    "execute_formatted_sqlite(sql_schema)"
   ]
  },
  {
   "cell_type": "code",
   "execution_count": 86,
   "id": "cb64b598",
   "metadata": {},
   "outputs": [
    {
     "data": {
      "application/vnd.microsoft.datawrangler.viewer.v0+json": {
       "columns": [
        {
         "name": "index",
         "rawType": "int64",
         "type": "integer"
        },
        {
         "name": "product_id",
         "rawType": "int64",
         "type": "integer"
        },
        {
         "name": "price",
         "rawType": "int64",
         "type": "integer"
        }
       ],
       "ref": "110619f3-110b-4c08-be22-1acd43b4825f",
       "rows": [
        [
         "0",
         "1",
         "35"
        ],
        [
         "1",
         "2",
         "50"
        ],
        [
         "2",
         "3",
         "10"
        ]
       ],
       "shape": {
        "columns": 2,
        "rows": 3
       }
      },
      "text/html": [
       "<div>\n",
       "<style scoped>\n",
       "    .dataframe tbody tr th:only-of-type {\n",
       "        vertical-align: middle;\n",
       "    }\n",
       "\n",
       "    .dataframe tbody tr th {\n",
       "        vertical-align: top;\n",
       "    }\n",
       "\n",
       "    .dataframe thead th {\n",
       "        text-align: right;\n",
       "    }\n",
       "</style>\n",
       "<table border=\"1\" class=\"dataframe\">\n",
       "  <thead>\n",
       "    <tr style=\"text-align: right;\">\n",
       "      <th></th>\n",
       "      <th>product_id</th>\n",
       "      <th>price</th>\n",
       "    </tr>\n",
       "  </thead>\n",
       "  <tbody>\n",
       "    <tr>\n",
       "      <th>0</th>\n",
       "      <td>1</td>\n",
       "      <td>35</td>\n",
       "    </tr>\n",
       "    <tr>\n",
       "      <th>1</th>\n",
       "      <td>2</td>\n",
       "      <td>50</td>\n",
       "    </tr>\n",
       "    <tr>\n",
       "      <th>2</th>\n",
       "      <td>3</td>\n",
       "      <td>10</td>\n",
       "    </tr>\n",
       "  </tbody>\n",
       "</table>\n",
       "</div>"
      ],
      "text/plain": [
       "   product_id  price\n",
       "0           1     35\n",
       "1           2     50\n",
       "2           3     10"
      ]
     },
     "execution_count": 86,
     "metadata": {},
     "output_type": "execute_result"
    }
   ],
   "source": [
    "# Решение \"в лоб\":\n",
    "sql = \"\"\"--sql\n",
    "SELECT\n",
    "    p2.product_id,\n",
    "    p2.new_price AS price\n",
    "FROM\n",
    "    Products p2\n",
    "WHERE\n",
    "    (p2.product_id, p2.change_date) IN (\n",
    "        SELECT\n",
    "            p1.product_id,\n",
    "            MAX(p1.change_date)\n",
    "        FROM\n",
    "            Products p1\n",
    "        WHERE\n",
    "            p1.change_date <= '2019-08-16'\n",
    "        GROUP BY\n",
    "            p1.product_id\n",
    "    )\n",
    "UNION\n",
    "SELECT\n",
    "    p3.product_id,\n",
    "    10 AS price\n",
    "FROM\n",
    "    Products p3\n",
    "GROUP BY\n",
    "    p3.product_id\n",
    "HAVING\n",
    "    MIN(p3.change_date) > '2019-08-16'\n",
    "ORDER BY\n",
    "    product_id;\n",
    "\"\"\"\n",
    "select(sql)"
   ]
  },
  {
   "cell_type": "code",
   "execution_count": 87,
   "id": "a53034e9",
   "metadata": {},
   "outputs": [
    {
     "data": {
      "application/vnd.microsoft.datawrangler.viewer.v0+json": {
       "columns": [
        {
         "name": "index",
         "rawType": "int64",
         "type": "integer"
        },
        {
         "name": "product_id",
         "rawType": "int64",
         "type": "integer"
        },
        {
         "name": "price",
         "rawType": "int64",
         "type": "integer"
        }
       ],
       "ref": "b135dd8e-559e-4bb0-b9e9-2909f452f5e7",
       "rows": [
        [
         "0",
         "1",
         "35"
        ],
        [
         "1",
         "2",
         "50"
        ],
        [
         "2",
         "3",
         "10"
        ]
       ],
       "shape": {
        "columns": 2,
        "rows": 3
       }
      },
      "text/html": [
       "<div>\n",
       "<style scoped>\n",
       "    .dataframe tbody tr th:only-of-type {\n",
       "        vertical-align: middle;\n",
       "    }\n",
       "\n",
       "    .dataframe tbody tr th {\n",
       "        vertical-align: top;\n",
       "    }\n",
       "\n",
       "    .dataframe thead th {\n",
       "        text-align: right;\n",
       "    }\n",
       "</style>\n",
       "<table border=\"1\" class=\"dataframe\">\n",
       "  <thead>\n",
       "    <tr style=\"text-align: right;\">\n",
       "      <th></th>\n",
       "      <th>product_id</th>\n",
       "      <th>price</th>\n",
       "    </tr>\n",
       "  </thead>\n",
       "  <tbody>\n",
       "    <tr>\n",
       "      <th>0</th>\n",
       "      <td>1</td>\n",
       "      <td>35</td>\n",
       "    </tr>\n",
       "    <tr>\n",
       "      <th>1</th>\n",
       "      <td>2</td>\n",
       "      <td>50</td>\n",
       "    </tr>\n",
       "    <tr>\n",
       "      <th>2</th>\n",
       "      <td>3</td>\n",
       "      <td>10</td>\n",
       "    </tr>\n",
       "  </tbody>\n",
       "</table>\n",
       "</div>"
      ],
      "text/plain": [
       "   product_id  price\n",
       "0           1     35\n",
       "1           2     50\n",
       "2           3     10"
      ]
     },
     "execution_count": 87,
     "metadata": {},
     "output_type": "execute_result"
    }
   ],
   "source": [
    "# Более оптимальное решение через коррелированный подзапросс с COALESCE() (своего рода имитация LEFT JOIN).\n",
    "# MAX(change_date) симитировали по средствам ORDER BY DESC c LIMIT 1.\n",
    "sql = \"\"\"--sql\n",
    "SELECT\n",
    "    p1.product_id,\n",
    "    COALESCE(\n",
    "        (\n",
    "            SELECT\n",
    "                p2.new_price\n",
    "            FROM\n",
    "                Products p2\n",
    "            WHERE\n",
    "                p2.product_id = p1.product_id\n",
    "                AND p2.change_date <= '2019-08-16'\n",
    "            ORDER BY\n",
    "                p2.change_date DESC\n",
    "            LIMIT\n",
    "                1\n",
    "        ),\n",
    "        10\n",
    "    ) AS price\n",
    "FROM\n",
    "    (\n",
    "        SELECT DISTINCT\n",
    "            p.product_id\n",
    "        FROM\n",
    "            Products p\n",
    "    ) p1\n",
    "ORDER BY\n",
    "    p1.product_id;\n",
    "\"\"\"\n",
    "select(sql)"
   ]
  },
  {
   "cell_type": "markdown",
   "id": "38587b5e",
   "metadata": {},
   "source": [
    "### 1174. Immediate Food Delivery II (Med.)\n",
    "\n",
    "If the customer's preferred delivery date is the same as the order date, then the order is called immediate; otherwise, it is called scheduled.\n",
    "\n",
    "The first order of a customer is the order with the earliest order date that the customer made. It is guaranteed that a customer has precisely one first order.\n",
    "\n",
    "Write a solution to find the percentage of immediate orders in the first orders of all customers, rounded to 2 decimal places.\n",
    "\n",
    "The result format is in the following example.\n"
   ]
  },
  {
   "cell_type": "code",
   "execution_count": 88,
   "id": "fdaa16d3",
   "metadata": {},
   "outputs": [],
   "source": [
    "sql_schema = \"\"\"\n",
    "Drop table If Exists Delivery\n",
    "Create table If Not Exists Delivery (delivery_id int, customer_id int, order_date date, customer_pref_delivery_date date)\n",
    "insert into Delivery (delivery_id, customer_id, order_date, customer_pref_delivery_date) values ('1', '1', '2019-08-01', '2019-08-02')\n",
    "insert into Delivery (delivery_id, customer_id, order_date, customer_pref_delivery_date) values ('2', '2', '2019-08-02', '2019-08-02')\n",
    "insert into Delivery (delivery_id, customer_id, order_date, customer_pref_delivery_date) values ('3', '1', '2019-08-11', '2019-08-12')\n",
    "insert into Delivery (delivery_id, customer_id, order_date, customer_pref_delivery_date) values ('4', '3', '2019-08-24', '2019-08-24')\n",
    "insert into Delivery (delivery_id, customer_id, order_date, customer_pref_delivery_date) values ('5', '3', '2019-08-21', '2019-08-22')\n",
    "insert into Delivery (delivery_id, customer_id, order_date, customer_pref_delivery_date) values ('6', '2', '2019-08-11', '2019-08-13')\n",
    "insert into Delivery (delivery_id, customer_id, order_date, customer_pref_delivery_date) values ('7', '4', '2019-08-09', '2019-08-09')\n",
    "\"\"\"\n",
    "execute_formatted_sqlite(sql_schema)"
   ]
  },
  {
   "cell_type": "code",
   "execution_count": 89,
   "id": "41ca8c00",
   "metadata": {},
   "outputs": [
    {
     "data": {
      "application/vnd.microsoft.datawrangler.viewer.v0+json": {
       "columns": [
        {
         "name": "index",
         "rawType": "int64",
         "type": "integer"
        },
        {
         "name": "immediate_percentage",
         "rawType": "float64",
         "type": "float"
        }
       ],
       "ref": "59741b56-b8bc-48b4-b842-dadc44e88329",
       "rows": [
        [
         "0",
         "50.0"
        ]
       ],
       "shape": {
        "columns": 1,
        "rows": 1
       }
      },
      "text/html": [
       "<div>\n",
       "<style scoped>\n",
       "    .dataframe tbody tr th:only-of-type {\n",
       "        vertical-align: middle;\n",
       "    }\n",
       "\n",
       "    .dataframe tbody tr th {\n",
       "        vertical-align: top;\n",
       "    }\n",
       "\n",
       "    .dataframe thead th {\n",
       "        text-align: right;\n",
       "    }\n",
       "</style>\n",
       "<table border=\"1\" class=\"dataframe\">\n",
       "  <thead>\n",
       "    <tr style=\"text-align: right;\">\n",
       "      <th></th>\n",
       "      <th>immediate_percentage</th>\n",
       "    </tr>\n",
       "  </thead>\n",
       "  <tbody>\n",
       "    <tr>\n",
       "      <th>0</th>\n",
       "      <td>50.0</td>\n",
       "    </tr>\n",
       "  </tbody>\n",
       "</table>\n",
       "</div>"
      ],
      "text/plain": [
       "   immediate_percentage\n",
       "0                  50.0"
      ]
     },
     "execution_count": 89,
     "metadata": {},
     "output_type": "execute_result"
    }
   ],
   "source": [
    "sql = \"\"\"--sql\n",
    "WITH\n",
    "    all_orders AS (\n",
    "        SELECT\n",
    "            d.order_date,\n",
    "            d.customer_pref_delivery_date,\n",
    "            ROW_NUMBER() OVER (\n",
    "                PARTITION BY\n",
    "                    d.customer_id\n",
    "                ORDER BY\n",
    "                    d.order_date\n",
    "            ) AS num_order\n",
    "        FROM\n",
    "            Delivery d\n",
    "    )\n",
    "SELECT\n",
    "    ROUND(\n",
    "        100.0 * SUM(\n",
    "            CASE\n",
    "                WHEN a.order_date = a.customer_pref_delivery_date THEN 1\n",
    "                ELSE 0\n",
    "            END\n",
    "        ) / COUNT(*),\n",
    "        2\n",
    "    ) AS immediate_percentage\n",
    "FROM\n",
    "    all_orders a\n",
    "WHERE\n",
    "    a.num_order = 1;\n",
    "\"\"\"\n",
    "select(sql)"
   ]
  },
  {
   "cell_type": "markdown",
   "id": "676dc7ec",
   "metadata": {},
   "source": [
    "### 1179. Reformat Department Table (Easy)\n",
    "\n",
    "Reformat the table such that there is a department id column and a revenue column for each month.\n"
   ]
  },
  {
   "cell_type": "code",
   "execution_count": 90,
   "id": "b19e5fe3",
   "metadata": {},
   "outputs": [],
   "source": [
    "sql_schema = \"\"\"\n",
    "Drop table If Exists Department\n",
    "Create table If Not Exists Department (id int, revenue int, month varchar(5))\n",
    "insert into Department (id, revenue, month) values ('1', '8000', 'Jan')\n",
    "insert into Department (id, revenue, month) values ('2', '9000', 'Jan')\n",
    "insert into Department (id, revenue, month) values ('3', '10000', 'Feb')\n",
    "insert into Department (id, revenue, month) values ('1', '7000', 'Feb')\n",
    "insert into Department (id, revenue, month) values ('1', '6000', 'Mar')\n",
    "\"\"\"\n",
    "execute_formatted_sqlite(sql_schema)"
   ]
  },
  {
   "cell_type": "code",
   "execution_count": 91,
   "id": "3accb8eb",
   "metadata": {},
   "outputs": [
    {
     "data": {
      "application/vnd.microsoft.datawrangler.viewer.v0+json": {
       "columns": [
        {
         "name": "index",
         "rawType": "int64",
         "type": "integer"
        },
        {
         "name": "id",
         "rawType": "int64",
         "type": "integer"
        },
        {
         "name": "Jan_Revenue",
         "rawType": "float64",
         "type": "float"
        },
        {
         "name": "Feb_Revenue",
         "rawType": "float64",
         "type": "float"
        },
        {
         "name": "Mar_Revenue",
         "rawType": "float64",
         "type": "float"
        },
        {
         "name": "Apr_Revenue",
         "rawType": "object",
         "type": "unknown"
        },
        {
         "name": "May_Revenue",
         "rawType": "object",
         "type": "unknown"
        },
        {
         "name": "Jun_Revenue",
         "rawType": "object",
         "type": "unknown"
        },
        {
         "name": "Jul_Revenue",
         "rawType": "object",
         "type": "unknown"
        },
        {
         "name": "Aug_Revenue",
         "rawType": "object",
         "type": "unknown"
        },
        {
         "name": "Sep_Revenue",
         "rawType": "object",
         "type": "unknown"
        },
        {
         "name": "Oct_Revenue",
         "rawType": "object",
         "type": "unknown"
        },
        {
         "name": "Nov_Revenue",
         "rawType": "object",
         "type": "unknown"
        },
        {
         "name": "Dec_Revenue",
         "rawType": "object",
         "type": "unknown"
        }
       ],
       "ref": "a5af9fb5-2843-4e80-b4ae-edc7d6c33430",
       "rows": [
        [
         "0",
         "1",
         "8000.0",
         "7000.0",
         "6000.0",
         null,
         null,
         null,
         null,
         null,
         null,
         null,
         null,
         null
        ],
        [
         "1",
         "2",
         "9000.0",
         null,
         null,
         null,
         null,
         null,
         null,
         null,
         null,
         null,
         null,
         null
        ],
        [
         "2",
         "3",
         null,
         "10000.0",
         null,
         null,
         null,
         null,
         null,
         null,
         null,
         null,
         null,
         null
        ]
       ],
       "shape": {
        "columns": 13,
        "rows": 3
       }
      },
      "text/html": [
       "<div>\n",
       "<style scoped>\n",
       "    .dataframe tbody tr th:only-of-type {\n",
       "        vertical-align: middle;\n",
       "    }\n",
       "\n",
       "    .dataframe tbody tr th {\n",
       "        vertical-align: top;\n",
       "    }\n",
       "\n",
       "    .dataframe thead th {\n",
       "        text-align: right;\n",
       "    }\n",
       "</style>\n",
       "<table border=\"1\" class=\"dataframe\">\n",
       "  <thead>\n",
       "    <tr style=\"text-align: right;\">\n",
       "      <th></th>\n",
       "      <th>id</th>\n",
       "      <th>Jan_Revenue</th>\n",
       "      <th>Feb_Revenue</th>\n",
       "      <th>Mar_Revenue</th>\n",
       "      <th>Apr_Revenue</th>\n",
       "      <th>May_Revenue</th>\n",
       "      <th>Jun_Revenue</th>\n",
       "      <th>Jul_Revenue</th>\n",
       "      <th>Aug_Revenue</th>\n",
       "      <th>Sep_Revenue</th>\n",
       "      <th>Oct_Revenue</th>\n",
       "      <th>Nov_Revenue</th>\n",
       "      <th>Dec_Revenue</th>\n",
       "    </tr>\n",
       "  </thead>\n",
       "  <tbody>\n",
       "    <tr>\n",
       "      <th>0</th>\n",
       "      <td>1</td>\n",
       "      <td>8000.0</td>\n",
       "      <td>7000.0</td>\n",
       "      <td>6000.0</td>\n",
       "      <td>None</td>\n",
       "      <td>None</td>\n",
       "      <td>None</td>\n",
       "      <td>None</td>\n",
       "      <td>None</td>\n",
       "      <td>None</td>\n",
       "      <td>None</td>\n",
       "      <td>None</td>\n",
       "      <td>None</td>\n",
       "    </tr>\n",
       "    <tr>\n",
       "      <th>1</th>\n",
       "      <td>2</td>\n",
       "      <td>9000.0</td>\n",
       "      <td>NaN</td>\n",
       "      <td>NaN</td>\n",
       "      <td>None</td>\n",
       "      <td>None</td>\n",
       "      <td>None</td>\n",
       "      <td>None</td>\n",
       "      <td>None</td>\n",
       "      <td>None</td>\n",
       "      <td>None</td>\n",
       "      <td>None</td>\n",
       "      <td>None</td>\n",
       "    </tr>\n",
       "    <tr>\n",
       "      <th>2</th>\n",
       "      <td>3</td>\n",
       "      <td>NaN</td>\n",
       "      <td>10000.0</td>\n",
       "      <td>NaN</td>\n",
       "      <td>None</td>\n",
       "      <td>None</td>\n",
       "      <td>None</td>\n",
       "      <td>None</td>\n",
       "      <td>None</td>\n",
       "      <td>None</td>\n",
       "      <td>None</td>\n",
       "      <td>None</td>\n",
       "      <td>None</td>\n",
       "    </tr>\n",
       "  </tbody>\n",
       "</table>\n",
       "</div>"
      ],
      "text/plain": [
       "   id  Jan_Revenue  Feb_Revenue  Mar_Revenue Apr_Revenue May_Revenue  \\\n",
       "0   1       8000.0       7000.0       6000.0        None        None   \n",
       "1   2       9000.0          NaN          NaN        None        None   \n",
       "2   3          NaN      10000.0          NaN        None        None   \n",
       "\n",
       "  Jun_Revenue Jul_Revenue Aug_Revenue Sep_Revenue Oct_Revenue Nov_Revenue  \\\n",
       "0        None        None        None        None        None        None   \n",
       "1        None        None        None        None        None        None   \n",
       "2        None        None        None        None        None        None   \n",
       "\n",
       "  Dec_Revenue  \n",
       "0        None  \n",
       "1        None  \n",
       "2        None  "
      ]
     },
     "execution_count": 91,
     "metadata": {},
     "output_type": "execute_result"
    }
   ],
   "source": [
    "# Опять же, стандарт SQL требует чтобы при использовании группировки, для остальных полей (не по которым\n",
    "# выполняется группировка) использовалась агрегатная функция, чтобы движок понял какую из строк выбрать.\n",
    "# Хотя как таковая она не входит в логигу решения задачи - подойдет любая (MAX() или MIN()).\n",
    "sql = \"\"\"--sql\n",
    "SELECT\n",
    "    d.id,\n",
    "    MIN(\n",
    "        CASE\n",
    "            WHEN d.month = 'Jan' THEN revenue\n",
    "        END\n",
    "    ) AS Jan_Revenue,\n",
    "    MIN(\n",
    "        CASE\n",
    "            WHEN d.month = 'Feb' THEN revenue\n",
    "        END\n",
    "    ) AS Feb_Revenue,\n",
    "    MIN(\n",
    "        CASE\n",
    "            WHEN d.month = 'Mar' THEN revenue\n",
    "        END\n",
    "    ) AS Mar_Revenue,\n",
    "    MIN(\n",
    "        CASE\n",
    "            WHEN d.month = 'Apr' THEN revenue\n",
    "        END\n",
    "    ) AS Apr_Revenue,\n",
    "    MIN(\n",
    "        CASE\n",
    "            WHEN d.month = 'May' THEN revenue\n",
    "        END\n",
    "    ) AS May_Revenue,\n",
    "    MIN(\n",
    "        CASE\n",
    "            WHEN d.month = 'Jun' THEN revenue\n",
    "        END\n",
    "    ) AS Jun_Revenue,\n",
    "    MIN(\n",
    "        CASE\n",
    "            WHEN d.month = 'Jul' THEN revenue\n",
    "        END\n",
    "    ) AS Jul_Revenue,\n",
    "    MIN(\n",
    "        CASE\n",
    "            WHEN d.month = 'Aug' THEN revenue\n",
    "        END\n",
    "    ) AS Aug_Revenue,\n",
    "    MIN(\n",
    "        CASE\n",
    "            WHEN d.month = 'Sep' THEN revenue\n",
    "        END\n",
    "    ) AS Sep_Revenue,\n",
    "    MIN(\n",
    "        CASE\n",
    "            WHEN d.month = 'Oct' THEN revenue\n",
    "        END\n",
    "    ) AS Oct_Revenue,\n",
    "    MIN(\n",
    "        CASE\n",
    "            WHEN d.month = 'Nov' THEN revenue\n",
    "        END\n",
    "    ) AS Nov_Revenue,\n",
    "    MIN(\n",
    "        CASE\n",
    "            WHEN d.month = 'Dec' THEN revenue\n",
    "        END\n",
    "    ) AS Dec_Revenue\n",
    "FROM\n",
    "    Department d\n",
    "GROUP BY\n",
    "    d.id\n",
    "ORDER BY\n",
    "    d.id;\n",
    "\"\"\"\n",
    "select(sql)"
   ]
  },
  {
   "cell_type": "markdown",
   "id": "97798d70",
   "metadata": {},
   "source": [
    "### 1193. Monthly Transactions I (Med.)\n",
    "\n",
    "Write an SQL query to find for each month and country, the number of transactions and their total amount, the number of approved transactions and their total amount.\n"
   ]
  },
  {
   "cell_type": "code",
   "execution_count": 92,
   "id": "1bf28925",
   "metadata": {},
   "outputs": [],
   "source": [
    "# И вноть, т.к. ENUM специфичный для MySQL тип данных (в SQLite нет встроенных перечисляемых типов и\n",
    "# все значения храняться как TEXT, INTEGER, REAL, BLOB или NULL), поэтому заменяем его на TEXT через CHECK().\n",
    "sql_schema = \"\"\"\n",
    "Drop table If Exists Transactions\n",
    "Create table If Not Exists Transactions (id int, country varchar(4), state text CHECK(state IN ('approved', 'declined')), amount int, trans_date date)\n",
    "insert into Transactions (id, country, state, amount, trans_date) values ('121', 'US', 'approved', '1000', '2018-12-18')\n",
    "insert into Transactions (id, country, state, amount, trans_date) values ('122', 'US', 'declined', '2000', '2018-12-19')\n",
    "insert into Transactions (id, country, state, amount, trans_date) values ('123', 'US', 'approved', '2000', '2019-01-01')\n",
    "insert into Transactions (id, country, state, amount, trans_date) values ('124', 'DE', 'approved', '2000', '2019-01-07')\n",
    "\"\"\"\n",
    "execute_formatted_sqlite(sql_schema)"
   ]
  },
  {
   "cell_type": "code",
   "execution_count": 93,
   "id": "f7fbf895",
   "metadata": {},
   "outputs": [
    {
     "data": {
      "application/vnd.microsoft.datawrangler.viewer.v0+json": {
       "columns": [
        {
         "name": "index",
         "rawType": "int64",
         "type": "integer"
        },
        {
         "name": "MONTH",
         "rawType": "object",
         "type": "string"
        },
        {
         "name": "country",
         "rawType": "object",
         "type": "string"
        },
        {
         "name": "trans_count",
         "rawType": "int64",
         "type": "integer"
        },
        {
         "name": "approved_count",
         "rawType": "int64",
         "type": "integer"
        },
        {
         "name": "trans_total_amount",
         "rawType": "int64",
         "type": "integer"
        },
        {
         "name": "approved_total_amount",
         "rawType": "int64",
         "type": "integer"
        }
       ],
       "ref": "98438ba1-7685-4293-8807-f9b73e3c5677",
       "rows": [
        [
         "0",
         "2018-12",
         "US",
         "2",
         "1",
         "3000",
         "1000"
        ],
        [
         "1",
         "2019-01",
         "DE",
         "1",
         "1",
         "2000",
         "2000"
        ],
        [
         "2",
         "2019-01",
         "US",
         "1",
         "1",
         "2000",
         "2000"
        ]
       ],
       "shape": {
        "columns": 6,
        "rows": 3
       }
      },
      "text/html": [
       "<div>\n",
       "<style scoped>\n",
       "    .dataframe tbody tr th:only-of-type {\n",
       "        vertical-align: middle;\n",
       "    }\n",
       "\n",
       "    .dataframe tbody tr th {\n",
       "        vertical-align: top;\n",
       "    }\n",
       "\n",
       "    .dataframe thead th {\n",
       "        text-align: right;\n",
       "    }\n",
       "</style>\n",
       "<table border=\"1\" class=\"dataframe\">\n",
       "  <thead>\n",
       "    <tr style=\"text-align: right;\">\n",
       "      <th></th>\n",
       "      <th>MONTH</th>\n",
       "      <th>country</th>\n",
       "      <th>trans_count</th>\n",
       "      <th>approved_count</th>\n",
       "      <th>trans_total_amount</th>\n",
       "      <th>approved_total_amount</th>\n",
       "    </tr>\n",
       "  </thead>\n",
       "  <tbody>\n",
       "    <tr>\n",
       "      <th>0</th>\n",
       "      <td>2018-12</td>\n",
       "      <td>US</td>\n",
       "      <td>2</td>\n",
       "      <td>1</td>\n",
       "      <td>3000</td>\n",
       "      <td>1000</td>\n",
       "    </tr>\n",
       "    <tr>\n",
       "      <th>1</th>\n",
       "      <td>2019-01</td>\n",
       "      <td>DE</td>\n",
       "      <td>1</td>\n",
       "      <td>1</td>\n",
       "      <td>2000</td>\n",
       "      <td>2000</td>\n",
       "    </tr>\n",
       "    <tr>\n",
       "      <th>2</th>\n",
       "      <td>2019-01</td>\n",
       "      <td>US</td>\n",
       "      <td>1</td>\n",
       "      <td>1</td>\n",
       "      <td>2000</td>\n",
       "      <td>2000</td>\n",
       "    </tr>\n",
       "  </tbody>\n",
       "</table>\n",
       "</div>"
      ],
      "text/plain": [
       "     MONTH country  trans_count  approved_count  trans_total_amount  \\\n",
       "0  2018-12      US            2               1                3000   \n",
       "1  2019-01      DE            1               1                2000   \n",
       "2  2019-01      US            1               1                2000   \n",
       "\n",
       "   approved_total_amount  \n",
       "0                   1000  \n",
       "1                   2000  \n",
       "2                   2000  "
      ]
     },
     "execution_count": 93,
     "metadata": {},
     "output_type": "execute_result"
    }
   ],
   "source": [
    "# Для PostgreSQL - TO_CHAR(t.trans_date, 'YYYY-MM'), для MySQL - DATE_FORMAT(t.trans_date, '%Y-%m').\n",
    "# Так же в MySQL вместо COUNT(*) c FILTER () нужно использовать блок CASE WHEN с SUM() - универсальный вариант.\n",
    "sql = \"\"\"--sql\n",
    "SELECT\n",
    "    strftime ('%Y-%m', t.trans_date) AS MONTH,\n",
    "    t.country,\n",
    "    COUNT(*) AS trans_count,\n",
    "    SUM(\n",
    "        CASE\n",
    "            WHEN t.state = 'approved' THEN 1\n",
    "            ELSE 0\n",
    "        END\n",
    "    ) AS approved_count,\n",
    "    SUM(t.amount) AS trans_total_amount,\n",
    "    SUM(\n",
    "        CASE\n",
    "            WHEN t.state = 'approved' THEN t.amount\n",
    "            ELSE 0\n",
    "        END\n",
    "    ) AS approved_total_amount\n",
    "FROM\n",
    "    TRANSACTIONS t\n",
    "GROUP BY\n",
    "    MONTH,\n",
    "    t.country\n",
    "ORDER BY\n",
    "    MONTH,\n",
    "    t.country;\n",
    "\"\"\"\n",
    "select(sql)"
   ]
  },
  {
   "cell_type": "markdown",
   "id": "68bc06d0",
   "metadata": {},
   "source": [
    "### 1204. Last Person to Fit in the Bus (Med.)\n",
    "\n",
    "There is a queue of people waiting to board a bus. However, the bus has a weight limit of 1000 kilograms, so there may be some people who cannot board.\n",
    "\n",
    "Write a solution to find the person_name of the last person that can fit on the bus without exceeding the weight limit. The test cases are generated such that the first person does not exceed the weight limit.\n",
    "\n",
    "Note that only one person can board the bus at any given turn.\n"
   ]
  },
  {
   "cell_type": "code",
   "execution_count": 94,
   "id": "18f54889",
   "metadata": {},
   "outputs": [],
   "source": [
    "sql_schema = \"\"\"\n",
    "Drop table If Exists Queue\n",
    "Create table If Not Exists Queue (person_id int, person_name varchar(30), weight int, turn int)\n",
    "insert into Queue (person_id, person_name, weight, turn) values ('5', 'Alice', '250', '1')\n",
    "insert into Queue (person_id, person_name, weight, turn) values ('4', 'Bob', '175', '5')\n",
    "insert into Queue (person_id, person_name, weight, turn) values ('3', 'Alex', '350', '2')\n",
    "insert into Queue (person_id, person_name, weight, turn) values ('6', 'John Cena', '400', '3')\n",
    "insert into Queue (person_id, person_name, weight, turn) values ('1', 'Winston', '500', '6')\n",
    "insert into Queue (person_id, person_name, weight, turn) values ('2', 'Marie', '200', '4')\n",
    "\"\"\"\n",
    "execute_formatted_sqlite(sql_schema)"
   ]
  },
  {
   "cell_type": "code",
   "execution_count": 95,
   "id": "6cf0c88a",
   "metadata": {},
   "outputs": [
    {
     "data": {
      "application/vnd.microsoft.datawrangler.viewer.v0+json": {
       "columns": [
        {
         "name": "index",
         "rawType": "int64",
         "type": "integer"
        },
        {
         "name": "person_name",
         "rawType": "object",
         "type": "string"
        }
       ],
       "ref": "2ad89e20-c99b-4855-aabf-25c2677477a6",
       "rows": [
        [
         "0",
         "John Cena"
        ]
       ],
       "shape": {
        "columns": 1,
        "rows": 1
       }
      },
      "text/html": [
       "<div>\n",
       "<style scoped>\n",
       "    .dataframe tbody tr th:only-of-type {\n",
       "        vertical-align: middle;\n",
       "    }\n",
       "\n",
       "    .dataframe tbody tr th {\n",
       "        vertical-align: top;\n",
       "    }\n",
       "\n",
       "    .dataframe thead th {\n",
       "        text-align: right;\n",
       "    }\n",
       "</style>\n",
       "<table border=\"1\" class=\"dataframe\">\n",
       "  <thead>\n",
       "    <tr style=\"text-align: right;\">\n",
       "      <th></th>\n",
       "      <th>person_name</th>\n",
       "    </tr>\n",
       "  </thead>\n",
       "  <tbody>\n",
       "    <tr>\n",
       "      <th>0</th>\n",
       "      <td>John Cena</td>\n",
       "    </tr>\n",
       "  </tbody>\n",
       "</table>\n",
       "</div>"
      ],
      "text/plain": [
       "  person_name\n",
       "0   John Cena"
      ]
     },
     "execution_count": 95,
     "metadata": {},
     "output_type": "execute_result"
    }
   ],
   "source": [
    "# N.B.!: через оконую функцию можно SUM() применить не ко всей таблице, а для каждой строки по конкретному полю\n",
    "# - как для кажкого последующего окна.\n",
    "sql = \"\"\"--sql\n",
    "SELECT\n",
    "    t.person_name\n",
    "FROM\n",
    "    (\n",
    "        SELECT\n",
    "            q.person_name,\n",
    "            SUM(q.weight) OVER (\n",
    "                ORDER BY\n",
    "                    q.turn\n",
    "            ) AS total_weight\n",
    "        FROM\n",
    "            Queue q\n",
    "    ) t\n",
    "WHERE\n",
    "    t.total_weight <= 1000\n",
    "ORDER BY\n",
    "    t.total_weight DESC\n",
    "LIMIT\n",
    "    1;\n",
    "\"\"\"\n",
    "select(sql)"
   ]
  },
  {
   "cell_type": "markdown",
   "id": "7a4f5e41",
   "metadata": {},
   "source": [
    "### 1211. Queries Quality and Percentage (Easy)\n",
    "\n",
    "We define query quality as:\n",
    "\n",
    "> The average of the ratio between query rating and its position.\n",
    "\n",
    "We also define poor query percentage as:\n",
    "\n",
    "> The percentage of all queries with rating less than 3.\n",
    "\n",
    "Write a solution to find each query_name, the quality and poor_query_percentage.\n",
    "\n",
    "Both quality and poor_query_percentage should be rounded to 2 decimal places.\n"
   ]
  },
  {
   "cell_type": "code",
   "execution_count": 96,
   "id": "df91883c",
   "metadata": {},
   "outputs": [],
   "source": [
    "sql_schema = \"\"\"\n",
    "Drop table If Exists Queries\n",
    "Create table If Not Exists Queries (query_name varchar(30), result varchar(50), position int, rating int)\n",
    "insert into Queries (query_name, result, position, rating) values ('Dog', 'Golden Retriever', '1', '5')\n",
    "insert into Queries (query_name, result, position, rating) values ('Dog', 'German Shepherd', '2', '5')\n",
    "insert into Queries (query_name, result, position, rating) values ('Dog', 'Mule', '200', '1')\n",
    "insert into Queries (query_name, result, position, rating) values ('Cat', 'Shirazi', '5', '2')\n",
    "insert into Queries (query_name, result, position, rating) values ('Cat', 'Siamese', '3', '3')\n",
    "insert into Queries (query_name, result, position, rating) values ('Cat', 'Sphynx', '7', '4')\n",
    "\"\"\"\n",
    "execute_formatted_sqlite(sql_schema)"
   ]
  },
  {
   "cell_type": "code",
   "execution_count": 97,
   "id": "4f53fe44",
   "metadata": {},
   "outputs": [
    {
     "data": {
      "application/vnd.microsoft.datawrangler.viewer.v0+json": {
       "columns": [
        {
         "name": "index",
         "rawType": "int64",
         "type": "integer"
        },
        {
         "name": "query_name",
         "rawType": "object",
         "type": "string"
        },
        {
         "name": "quality",
         "rawType": "float64",
         "type": "float"
        },
        {
         "name": "poor_query_percentage",
         "rawType": "float64",
         "type": "float"
        }
       ],
       "ref": "3418e31c-8529-4c04-b9ec-f04cb7f361e0",
       "rows": [
        [
         "0",
         "Cat",
         "0.66",
         "33.33"
        ],
        [
         "1",
         "Dog",
         "2.5",
         "33.33"
        ]
       ],
       "shape": {
        "columns": 3,
        "rows": 2
       }
      },
      "text/html": [
       "<div>\n",
       "<style scoped>\n",
       "    .dataframe tbody tr th:only-of-type {\n",
       "        vertical-align: middle;\n",
       "    }\n",
       "\n",
       "    .dataframe tbody tr th {\n",
       "        vertical-align: top;\n",
       "    }\n",
       "\n",
       "    .dataframe thead th {\n",
       "        text-align: right;\n",
       "    }\n",
       "</style>\n",
       "<table border=\"1\" class=\"dataframe\">\n",
       "  <thead>\n",
       "    <tr style=\"text-align: right;\">\n",
       "      <th></th>\n",
       "      <th>query_name</th>\n",
       "      <th>quality</th>\n",
       "      <th>poor_query_percentage</th>\n",
       "    </tr>\n",
       "  </thead>\n",
       "  <tbody>\n",
       "    <tr>\n",
       "      <th>0</th>\n",
       "      <td>Cat</td>\n",
       "      <td>0.66</td>\n",
       "      <td>33.33</td>\n",
       "    </tr>\n",
       "    <tr>\n",
       "      <th>1</th>\n",
       "      <td>Dog</td>\n",
       "      <td>2.50</td>\n",
       "      <td>33.33</td>\n",
       "    </tr>\n",
       "  </tbody>\n",
       "</table>\n",
       "</div>"
      ],
      "text/plain": [
       "  query_name  quality  poor_query_percentage\n",
       "0        Cat     0.66                  33.33\n",
       "1        Dog     2.50                  33.33"
      ]
     },
     "execution_count": 97,
     "metadata": {},
     "output_type": "execute_result"
    }
   ],
   "source": [
    "sql = \"\"\"--sql\n",
    "SELECT\n",
    "    q.query_name,\n",
    "    ROUND(SUM(1.0 * q.rating / q.position) / COUNT(*), 2) AS quality,\n",
    "    ROUND(\n",
    "        100.0 * COUNT(*) FILTER (\n",
    "            WHERE\n",
    "                q.rating < 3\n",
    "        ) / COUNT(*),\n",
    "        2\n",
    "    ) AS poor_query_percentage\n",
    "FROM\n",
    "    Queries q\n",
    "GROUP BY\n",
    "    q.query_name;\n",
    "\"\"\"\n",
    "select(sql)"
   ]
  },
  {
   "cell_type": "markdown",
   "id": "0043a2b8",
   "metadata": {},
   "source": [
    "### 1251. Average Selling Price (Easy)\n",
    "\n",
    "Write a solution to find the average selling price for each product. average_price should be rounded to 2 decimal places. If a product does not have any sold units, its average selling price is assumed to be 0.\n"
   ]
  },
  {
   "cell_type": "code",
   "execution_count": 98,
   "id": "d87e4d53",
   "metadata": {},
   "outputs": [],
   "source": [
    "sql_schema = \"\"\"\n",
    "Drop table If Exists Prices\n",
    "Create table If Not Exists Prices (product_id int, start_date date, end_date date, price int)\n",
    "insert into Prices (product_id, start_date, end_date, price) values ('1', '2019-02-17', '2019-02-28', '5')\n",
    "insert into Prices (product_id, start_date, end_date, price) values ('1', '2019-03-01', '2019-03-22', '20')\n",
    "insert into Prices (product_id, start_date, end_date, price) values ('2', '2019-02-01', '2019-02-20', '15')\n",
    "insert into Prices (product_id, start_date, end_date, price) values ('2', '2019-02-21', '2019-03-31', '30')\n",
    "Drop table If Exists UnitsSold\n",
    "Create table If Not Exists UnitsSold (product_id int, purchase_date date, units int)\n",
    "insert into UnitsSold (product_id, purchase_date, units) values ('1', '2019-02-25', '100')\n",
    "insert into UnitsSold (product_id, purchase_date, units) values ('1', '2019-03-01', '15')\n",
    "insert into UnitsSold (product_id, purchase_date, units) values ('2', '2019-02-10', '200')\n",
    "insert into UnitsSold (product_id, purchase_date, units) values ('2', '2019-03-22', '30')\n",
    "\"\"\"\n",
    "execute_formatted_sqlite(sql_schema)"
   ]
  },
  {
   "cell_type": "code",
   "execution_count": null,
   "id": "ddfd5659",
   "metadata": {},
   "outputs": [],
   "source": []
  }
 ],
 "metadata": {
  "kernelspec": {
   "display_name": "base",
   "language": "python",
   "name": "python3"
  },
  "language_info": {
   "codemirror_mode": {
    "name": "ipython",
    "version": 3
   },
   "file_extension": ".py",
   "mimetype": "text/x-python",
   "name": "python",
   "nbconvert_exporter": "python",
   "pygments_lexer": "ipython3",
   "version": "3.13.5"
  },
  "widgets": {
   "application/vnd.jupyter.widget-state+json": {
    "state": {},
    "version_major": 2,
    "version_minor": 0
   }
  }
 },
 "nbformat": 4,
 "nbformat_minor": 5
}
